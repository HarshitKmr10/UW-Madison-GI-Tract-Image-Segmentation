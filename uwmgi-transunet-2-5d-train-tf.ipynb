{
 "cells": [
  {
   "cell_type": "markdown",
   "id": "bd69243f",
   "metadata": {
    "papermill": {
     "duration": 0.041578,
     "end_time": "2022-06-29T06:15:09.412009",
     "exception": false,
     "start_time": "2022-06-29T06:15:09.370431",
     "status": "completed"
    },
    "tags": []
   },
   "source": [
    "# [UW-Madison GI Tract Image Segmentation](https://www.kaggle.com/competitions/uw-madison-gi-tract-image-segmentation/)\n",
    "> Track healthy organs in medical scans to improve cancer treatment\n",
    "\n",
    "<img src=\"https://storage.googleapis.com/kaggle-competitions/kaggle/27923/logos/header.png?t=2021-06-02-20-30-25\">"
   ]
  },
  {
   "cell_type": "markdown",
   "id": "90a4a978",
   "metadata": {
    "papermill": {
     "duration": 0.039377,
     "end_time": "2022-06-29T06:15:09.496157",
     "exception": false,
     "start_time": "2022-06-29T06:15:09.456780",
     "status": "completed"
    },
    "tags": []
   },
   "source": [
    "# A. Methodlogy  🎯\n",
    "* In this notebook I'll demonstrate **2.5D** image Training for **Segmentation** with `tf.data`, `tfrecord` using `Tensorflow`. \n",
    "* In a nutshell, **2.5D Image Training** is training of **3D** image like **2D** Image.  More about **2.5D** training is discussed later. 2.5D images can take leverage of the extra depth information like our typical RGB image. In this notebook I'll be using 3 channels with 2 strides for 2.5D images\n",
    "* In this notebook, I'll be also re-implementing **[TransUNet: Transformers Make Strong Encoders for Medical Image Segmentation](https://arxiv.org/pdf/2102.04306.pdf)** Model using Tensorflow.\n",
    "* TFRecord dataset for **Segmentation** is created using [UWMGI: 2.5D TFRecord Data](https://www.kaggle.com/code/awsaf49/uwmgi-2-5d-tfrecord-data) notebook.\n",
    "* TFRecord files are created using **StratifiedGroupFold** to avoid data leakage due to `case` and to stratify `empty` and `non-empty` mask cases.\n",
    "* This notebook is compatible for both **GPU** and **TPU**. Device is automatically selected so you won't have to do anything to allocate device.\n",
    "* As there are overlaps between **Stomach**, **Large Bowel** & **Small Bowel** classes, this is a **MultiLabel Segmentation** task, so final activaion should be `sigmoid` instead of `softmax`.\n",
    "* You can play with different models and losses."
   ]
  },
  {
   "cell_type": "markdown",
   "id": "ae466acb",
   "metadata": {
    "papermill": {
     "duration": 0.038913,
     "end_time": "2022-06-29T06:15:09.574204",
     "exception": false,
     "start_time": "2022-06-29T06:15:09.535291",
     "status": "completed"
    },
    "tags": []
   },
   "source": [
    "# B. Notebooks 📒\n",
    "📌 **2.5D-TransUNet**:\n",
    "* Train: [UWMGI: TransUnet 2.5D [Train] [TF]](https://www.kaggle.com/awsaf49/uwmgi-transunet-2-5d-train-tf/)\n",
    "<!-- * Infer:  UWMGI: TransUnet 2.5D [Infer] [TF]-->\n",
    "\n",
    "📌 **Data/Dataset**:\n",
    "* Mask-Data: [UWMGI: Mask Data](https://www.kaggle.com/code/awsaf49/uwmgi-mask-data)\n",
    "* Data: [UWMGI: 2.5D TFRecord Data](https://www.kaggle.com/code/awsaf49/uwmgi-2-5d-tfrecord-data)\n",
    "* Dataset: [UWMGI: 2.5D TFRecord Dataset](https://www.kaggle.com/datasets/awsaf49/uwmgi-25d-tfrecord-dataset)"
   ]
  },
  {
   "cell_type": "markdown",
   "id": "a977b0ff",
   "metadata": {
    "papermill": {
     "duration": 0.038757,
     "end_time": "2022-06-29T06:15:09.652158",
     "exception": false,
     "start_time": "2022-06-29T06:15:09.613401",
     "status": "completed"
    },
    "tags": []
   },
   "source": [
    "# 1. Install Libraries 🛠\n",
    "Source code for TransUNet model is [here](https://github.com/awsaf49/TransUNet-tf)"
   ]
  },
  {
   "cell_type": "code",
   "execution_count": 1,
   "id": "bb3903a4",
   "metadata": {
    "_kg_hide-output": true,
    "execution": {
     "iopub.execute_input": "2022-06-29T06:15:09.740560Z",
     "iopub.status.busy": "2022-06-29T06:15:09.739875Z",
     "iopub.status.idle": "2022-06-29T06:15:43.822410Z",
     "shell.execute_reply": "2022-06-29T06:15:43.821439Z",
     "shell.execute_reply.started": "2022-06-29T05:50:54.259696Z"
    },
    "papermill": {
     "duration": 34.131026,
     "end_time": "2022-06-29T06:15:43.822629",
     "exception": false,
     "start_time": "2022-06-29T06:15:09.691603",
     "status": "completed"
    },
    "tags": []
   },
   "outputs": [
    {
     "name": "stdout",
     "output_type": "stream",
     "text": [
      "\u001b[33mWARNING: Running pip as the 'root' user can result in broken permissions and conflicting behaviour with the system package manager. It is recommended to use a virtual environment instead: https://pip.pypa.io/warnings/venv\u001b[0m\r\n",
      "\u001b[33mWARNING: Running pip as the 'root' user can result in broken permissions and conflicting behaviour with the system package manager. It is recommended to use a virtual environment instead: https://pip.pypa.io/warnings/venv\u001b[0m\r\n",
      "\u001b[33mWARNING: Running pip as the 'root' user can result in broken permissions and conflicting behaviour with the system package manager. It is recommended to use a virtual environment instead: https://pip.pypa.io/warnings/venv\u001b[0m\r\n"
     ]
    }
   ],
   "source": [
    "!pip install -q transunet\n",
    "!pip install -q segmentation_models\n",
    "!pip install -qU wandb"
   ]
  },
  {
   "cell_type": "markdown",
   "id": "bfd23232",
   "metadata": {
    "papermill": {
     "duration": 0.0405,
     "end_time": "2022-06-29T06:15:43.904356",
     "exception": false,
     "start_time": "2022-06-29T06:15:43.863856",
     "status": "completed"
    },
    "tags": []
   },
   "source": [
    "# 2. Import Libraries 📚\n",
    "Let's imoport necessary libraries."
   ]
  },
  {
   "cell_type": "code",
   "execution_count": 2,
   "id": "446e397c",
   "metadata": {
    "_cell_guid": "b1076dfc-b9ad-4769-8c92-a6c4dae69d19",
    "_kg_hide-output": true,
    "_uuid": "8f2839f25d086af736a60e9eeb907d3b93b6e0e5",
    "execution": {
     "iopub.execute_input": "2022-06-29T06:15:43.990859Z",
     "iopub.status.busy": "2022-06-29T06:15:43.990064Z",
     "iopub.status.idle": "2022-06-29T06:15:52.722361Z",
     "shell.execute_reply": "2022-06-29T06:15:52.721672Z",
     "shell.execute_reply.started": "2022-06-29T05:51:27.758842Z"
    },
    "papermill": {
     "duration": 8.777181,
     "end_time": "2022-06-29T06:15:52.722550",
     "exception": false,
     "start_time": "2022-06-29T06:15:43.945369",
     "status": "completed"
    },
    "tags": []
   },
   "outputs": [
    {
     "name": "stderr",
     "output_type": "stream",
     "text": [
      "2022-06-29 06:15:44.787434: W tensorflow/stream_executor/platform/default/dso_loader.cc:60] Could not load dynamic library 'libcudart.so.11.0'; dlerror: libcudart.so.11.0: cannot open shared object file: No such file or directory; LD_LIBRARY_PATH: /opt/conda/lib\n",
      "2022-06-29 06:15:44.787560: I tensorflow/stream_executor/cuda/cudart_stub.cc:29] Ignore above cudart dlerror if you do not have a GPU set up on your machine.\n"
     ]
    },
    {
     "name": "stdout",
     "output_type": "stream",
     "text": [
      "Segmentation Models: using `tf.keras` framework.\n"
     ]
    }
   ],
   "source": [
    "import pandas as pd, numpy as np, random,os, shutil\n",
    "import tensorflow as tf, re, math\n",
    "import tensorflow_addons as tfa\n",
    "import tensorflow.keras.backend as K\n",
    "import efficientnet.tfkeras as efn\n",
    "import sklearn\n",
    "import cv2\n",
    "import matplotlib.pyplot as plt\n",
    "from matplotlib.patches import Rectangle\n",
    "import tensorflow_addons as tfa\n",
    "import yaml\n",
    "from IPython import display as ipd\n",
    "import json\n",
    "from datetime import datetime\n",
    "\n",
    "from glob import glob\n",
    "from tqdm.notebook import tqdm\n",
    "from kaggle_datasets import KaggleDatasets\n",
    "from sklearn.model_selection import KFold\n",
    "from sklearn.metrics import roc_auc_score\n",
    "from IPython import display as ipd\n",
    "\n",
    "import scipy\n",
    "import warnings\n",
    "\n",
    "tfk = tf.keras\n",
    "tfkl = tfk.layers\n",
    "tfm = tf.math\n",
    "\n",
    "# Show less log messages\n",
    "tf.get_logger().setLevel('ERROR')\n",
    "tf.autograph.set_verbosity(0)\n",
    "\n",
    "# Set tf.keras as backend\n",
    "os.environ['SM_FRAMEWORK'] = 'tf.keras'\n",
    "import segmentation_models as sm\n",
    "\n",
    "# Set true to show less logging messages\n",
    "os.environ[\"WANDB_SILENT\"] = \"false\"\n",
    "import wandb"
   ]
  },
  {
   "cell_type": "markdown",
   "id": "20d27129",
   "metadata": {
    "papermill": {
     "duration": 0.040104,
     "end_time": "2022-06-29T06:15:52.803601",
     "exception": false,
     "start_time": "2022-06-29T06:15:52.763497",
     "status": "completed"
    },
    "tags": []
   },
   "source": [
    "# 3. Configuration ⚙️"
   ]
  },
  {
   "cell_type": "code",
   "execution_count": 3,
   "id": "e5c9e74a",
   "metadata": {
    "execution": {
     "iopub.execute_input": "2022-06-29T06:15:52.898488Z",
     "iopub.status.busy": "2022-06-29T06:15:52.896572Z",
     "iopub.status.idle": "2022-06-29T06:15:52.901460Z",
     "shell.execute_reply": "2022-06-29T06:15:52.900890Z",
     "shell.execute_reply.started": "2022-06-29T05:51:36.503217Z"
    },
    "papermill": {
     "duration": 0.056741,
     "end_time": "2022-06-29T06:15:52.901617",
     "exception": false,
     "start_time": "2022-06-29T06:15:52.844876",
     "status": "completed"
    },
    "tags": []
   },
   "outputs": [],
   "source": [
    "class CFG:\n",
    "    wandb = True\n",
    "    competition = \"uwmgi-tf\"\n",
    "    _wandb_kernel = \"awsaf49\"\n",
    "    debug = False\n",
    "    exp_name = \"v4\"\n",
    "    comment = \"TransUNet-ResNet50V2-128x128-noaug-2.5D\"\n",
    "\n",
    "    # Use verbose=0 for silent, 1 for interactive\n",
    "    verbose = 0\n",
    "    display_plot = True\n",
    "\n",
    "    # Device for training\n",
    "    device = None  # device is automatically selected\n",
    "\n",
    "    # Model & Backbone\n",
    "    model_name = \"TransUNet\"\n",
    "    backbone = \"efficientnetb7\"\n",
    "\n",
    "    # Seeding for reproducibility\n",
    "    seed = 101\n",
    "\n",
    "    # Number of folds\n",
    "    folds = 5\n",
    "\n",
    "    # Which Folds to train\n",
    "    selected_folds = [0, 1, 2, 3, 4]\n",
    "\n",
    "    # Image Size\n",
    "    img_size = [128, 128]\n",
    "\n",
    "    # Batch Size & Epochs\n",
    "    batch_size = 32\n",
    "    drop_remainder = False\n",
    "    epochs = 15\n",
    "    steps_per_execution = None\n",
    "\n",
    "    # Loss & Optimizer & LR Scheduler\n",
    "    loss = \"dice_loss\"\n",
    "    optimizer = \"Adam\"\n",
    "    lr = 5e-4\n",
    "    lr_schedule = \"CosineDecay\"\n",
    "    patience = 5\n",
    "\n",
    "    # Augmentation\n",
    "    augment = False\n",
    "    transform = False\n",
    "\n",
    "    # Transformation\n",
    "    fill_mode = \"constant\"\n",
    "    rot = 5.0  # proprtional\n",
    "    shr = 5.0  # proprtional\n",
    "    hzoom = 100.0  # inv proportional\n",
    "    wzoom = 100.0  # inv proportional\n",
    "    hshift = 10.0  # proportional\n",
    "    wshift = 10.0  # proportional\n",
    "\n",
    "    # Horizontal & Vertical Flip\n",
    "    hflip = 0.5\n",
    "    vflip = 0.5\n",
    "\n",
    "    # Clip values to [0, 1]\n",
    "    clip = False\n",
    "\n",
    "    # CutOut\n",
    "    drop_prob = 0.5\n",
    "    drop_cnt = 10\n",
    "    drop_size = 0.05\n",
    "\n",
    "    # Jitter\n",
    "    sat = [0.7, 1.3]  # saturation\n",
    "    cont = [0.8, 1.2]  # contrast\n",
    "    bri = 0.15  # brightness\n",
    "    hue = 0.0  # hue\n"
   ]
  },
  {
   "cell_type": "markdown",
   "id": "abe81949",
   "metadata": {
    "papermill": {
     "duration": 0.04097,
     "end_time": "2022-06-29T06:15:52.984579",
     "exception": false,
     "start_time": "2022-06-29T06:15:52.943609",
     "status": "completed"
    },
    "tags": []
   },
   "source": [
    "# 4. Reproducibility ♻️\n",
    "Sets value for random seed to produce similar result in each run."
   ]
  },
  {
   "cell_type": "code",
   "execution_count": 4,
   "id": "63039de0",
   "metadata": {
    "execution": {
     "iopub.execute_input": "2022-06-29T06:15:53.085452Z",
     "iopub.status.busy": "2022-06-29T06:15:53.084307Z",
     "iopub.status.idle": "2022-06-29T06:15:53.088230Z",
     "shell.execute_reply": "2022-06-29T06:15:53.088932Z",
     "shell.execute_reply.started": "2022-06-29T05:51:36.516126Z"
    },
    "papermill": {
     "duration": 0.06338,
     "end_time": "2022-06-29T06:15:53.089178",
     "exception": false,
     "start_time": "2022-06-29T06:15:53.025798",
     "status": "completed"
    },
    "tags": []
   },
   "outputs": [
    {
     "name": "stdout",
     "output_type": "stream",
     "text": [
      "seeding done!!!\n"
     ]
    }
   ],
   "source": [
    "def seeding(SEED):\n",
    "    \"\"\"\n",
    "    Sets all random seeds for the program (Python, NumPy, and TensorFlow).\n",
    "    \"\"\"\n",
    "    np.random.seed(SEED)\n",
    "    random.seed(SEED)\n",
    "    os.environ[\"PYTHONHASHSEED\"] = str(SEED)\n",
    "    os.environ[\"TF_CUDNN_DETERMINISTIC\"] = str(SEED)\n",
    "    tf.random.set_seed(SEED)\n",
    "    print(\"seeding done!!!\")\n",
    "\n",
    "\n",
    "seeding(CFG.seed)"
   ]
  },
  {
   "cell_type": "markdown",
   "id": "b9e2e209",
   "metadata": {
    "papermill": {
     "duration": 0.041581,
     "end_time": "2022-06-29T06:15:53.180732",
     "exception": false,
     "start_time": "2022-06-29T06:15:53.139151",
     "status": "completed"
    },
    "tags": []
   },
   "source": [
    "# 5. Set Up Device 📱\n",
    "Following codes automatically detects hardware(tpu or gpu or cpu). "
   ]
  },
  {
   "cell_type": "code",
   "execution_count": 5,
   "id": "68ad88ed",
   "metadata": {
    "execution": {
     "iopub.execute_input": "2022-06-29T06:15:53.272936Z",
     "iopub.status.busy": "2022-06-29T06:15:53.272211Z",
     "iopub.status.idle": "2022-06-29T06:15:53.274899Z",
     "shell.execute_reply": "2022-06-29T06:15:53.274395Z",
     "shell.execute_reply.started": "2022-06-29T05:51:36.538430Z"
    },
    "papermill": {
     "duration": 0.052455,
     "end_time": "2022-06-29T06:15:53.275068",
     "exception": false,
     "start_time": "2022-06-29T06:15:53.222613",
     "status": "completed"
    },
    "tags": []
   },
   "outputs": [],
   "source": [
    "def configure_device():\n",
    "    try:\n",
    "        tpu = tf.distribute.cluster_resolver.TPUClusterResolver.connect()  # connect to tpu cluster\n",
    "        strategy = tf.distribute.TPUStrategy(tpu) # get strategy for tpu\n",
    "        print('> Running on TPU ', tpu.master(), end=' | ')\n",
    "        print('Num of TPUs: ', strategy.num_replicas_in_sync)\n",
    "        device='TPU'\n",
    "    except: # otherwise detect GPUs\n",
    "        tpu = None\n",
    "        gpus = tf.config.list_logical_devices('GPU') # get logical gpus\n",
    "        ngpu = len(gpus)\n",
    "        if ngpu: # if number of GPUs are 0 then CPU\n",
    "            strategy = tf.distribute.MirroredStrategy(gpus) # single-GPU or multi-GPU\n",
    "            print(\"> Running on GPU\", end=' | ')\n",
    "            print(\"Num of GPUs: \", ngpu)\n",
    "            device='GPU'\n",
    "        else:\n",
    "            print(\"> Running on CPU\")\n",
    "            strategy = tf.distribute.get_strategy() # connect to single gpu or cpu\n",
    "            device='CPU'\n",
    "    return strategy, device, tpu"
   ]
  },
  {
   "cell_type": "code",
   "execution_count": 6,
   "id": "1ebef554",
   "metadata": {
    "execution": {
     "iopub.execute_input": "2022-06-29T06:15:53.382310Z",
     "iopub.status.busy": "2022-06-29T06:15:53.361405Z",
     "iopub.status.idle": "2022-06-29T06:15:59.121302Z",
     "shell.execute_reply": "2022-06-29T06:15:59.120669Z",
     "shell.execute_reply.started": "2022-06-29T05:51:36.551135Z"
    },
    "papermill": {
     "duration": 5.804964,
     "end_time": "2022-06-29T06:15:59.121464",
     "exception": false,
     "start_time": "2022-06-29T06:15:53.316500",
     "status": "completed"
    },
    "tags": []
   },
   "outputs": [
    {
     "name": "stderr",
     "output_type": "stream",
     "text": [
      "2022-06-29 06:15:53.367272: I tensorflow/compiler/jit/xla_cpu_device.cc:41] Not creating XLA devices, tf_xla_enable_xla_devices not set\n",
      "2022-06-29 06:15:53.370747: W tensorflow/stream_executor/platform/default/dso_loader.cc:60] Could not load dynamic library 'libcuda.so.1'; dlerror: libcuda.so.1: cannot open shared object file: No such file or directory; LD_LIBRARY_PATH: /opt/conda/lib\n",
      "2022-06-29 06:15:53.370788: W tensorflow/stream_executor/cuda/cuda_driver.cc:326] failed call to cuInit: UNKNOWN ERROR (303)\n",
      "2022-06-29 06:15:53.370816: I tensorflow/stream_executor/cuda/cuda_diagnostics.cc:156] kernel driver does not appear to be running on this host (17a9cc0f97aa): /proc/driver/nvidia/version does not exist\n",
      "2022-06-29 06:15:53.374435: I tensorflow/core/platform/cpu_feature_guard.cc:142] This TensorFlow binary is optimized with oneAPI Deep Neural Network Library (oneDNN) to use the following CPU instructions in performance-critical operations:  AVX2 FMA\n",
      "To enable them in other operations, rebuild TensorFlow with the appropriate compiler flags.\n",
      "2022-06-29 06:15:53.376383: I tensorflow/compiler/jit/xla_gpu_device.cc:99] Not creating XLA devices, tf_xla_enable_xla_devices not set\n",
      "2022-06-29 06:15:53.382968: I tensorflow/compiler/jit/xla_gpu_device.cc:99] Not creating XLA devices, tf_xla_enable_xla_devices not set\n",
      "2022-06-29 06:15:53.408927: I tensorflow/core/distributed_runtime/rpc/grpc_channel.cc:301] Initialize GrpcChannelCache for job worker -> {0 -> 10.0.0.2:8470}\n",
      "2022-06-29 06:15:53.408982: I tensorflow/core/distributed_runtime/rpc/grpc_channel.cc:301] Initialize GrpcChannelCache for job localhost -> {0 -> localhost:30019}\n",
      "2022-06-29 06:15:53.432673: I tensorflow/core/distributed_runtime/rpc/grpc_channel.cc:301] Initialize GrpcChannelCache for job worker -> {0 -> 10.0.0.2:8470}\n",
      "2022-06-29 06:15:53.432738: I tensorflow/core/distributed_runtime/rpc/grpc_channel.cc:301] Initialize GrpcChannelCache for job localhost -> {0 -> localhost:30019}\n",
      "2022-06-29 06:15:53.434368: I tensorflow/core/distributed_runtime/rpc/grpc_server_lib.cc:411] Started server with target: grpc://localhost:30019\n"
     ]
    },
    {
     "name": "stdout",
     "output_type": "stream",
     "text": [
      "> Running on TPU  grpc://10.0.0.2:8470 | Num of TPUs:  8\n",
      "REPLICAS: 8\n"
     ]
    }
   ],
   "source": [
    "strategy, CFG.device, tpu = configure_device()\n",
    "AUTO = tf.data.experimental.AUTOTUNE\n",
    "REPLICAS = strategy.num_replicas_in_sync\n",
    "print(f'REPLICAS: {REPLICAS}')"
   ]
  },
  {
   "cell_type": "markdown",
   "id": "43f456fd",
   "metadata": {
    "papermill": {
     "duration": 0.043631,
     "end_time": "2022-06-29T06:15:59.208252",
     "exception": false,
     "start_time": "2022-06-29T06:15:59.164621",
     "status": "completed"
    },
    "tags": []
   },
   "source": [
    "# 6. Meta Data 📖\n",
    "* Files\n",
    "    * `train.csv` - IDs and masks for all training objects.\n",
    "    * `sample_submission.csv` - a sample submission file in the correct format\n",
    "    * `train/` - a folder of case/day folders, each containing slice images for a particular case on a given day.\n",
    "\n",
    "> **Note** that the image filenames include 4 numbers (ex. `276_276_1.63_1.63.png`). These four numbers are slice height / width (integers in pixels) and heigh/width pixel spacing (floating points in mm). The first two defines the resolution of the slide. The last two record the physical size of each pixel.\n",
    "\n",
    "* Columns\n",
    "    * `id` - unique identifier for object\n",
    "    * `class` - the predicted class for the object\n",
    "    * `EncodedPixels` - RLE-encoded pixels for the identified object"
   ]
  },
  {
   "cell_type": "code",
   "execution_count": 7,
   "id": "a03421ec",
   "metadata": {
    "_kg_hide-input": true,
    "execution": {
     "iopub.execute_input": "2022-06-29T06:15:59.297260Z",
     "iopub.status.busy": "2022-06-29T06:15:59.296546Z",
     "iopub.status.idle": "2022-06-29T06:15:59.301248Z",
     "shell.execute_reply": "2022-06-29T06:15:59.301825Z",
     "shell.execute_reply.started": "2022-06-29T05:51:43.437908Z"
    },
    "papermill": {
     "duration": 0.051142,
     "end_time": "2022-06-29T06:15:59.302013",
     "exception": false,
     "start_time": "2022-06-29T06:15:59.250871",
     "status": "completed"
    },
    "tags": []
   },
   "outputs": [],
   "source": [
    "import re\n",
    "def count_data_items(filenames):\n",
    "    n = [int(re.compile(r\"-([0-9]*)\\.\").search(filename).group(1)) for filename in filenames]\n",
    "    return np.sum(n)"
   ]
  },
  {
   "cell_type": "markdown",
   "id": "597dc1e7",
   "metadata": {
    "papermill": {
     "duration": 0.044327,
     "end_time": "2022-06-29T06:15:59.389766",
     "exception": false,
     "start_time": "2022-06-29T06:15:59.345439",
     "status": "completed"
    },
    "tags": []
   },
   "source": [
    "To run code on **TPU** we need our data to be stored on **Google Cloud Storage**. Hence, we'll be needing **GCS_PATH** of our stored data. Worried about how we will get our data stored on **GCS**? \"Kaggle to the Rescue\" Kaggle provides a **GCS_PATH** for public datasets. Hence we can use it for training our model on **TPU**. Simply we have to use `KaggleDatasets()` to get `GCS_PATH` of our dataset."
   ]
  },
  {
   "cell_type": "code",
   "execution_count": 8,
   "id": "4ef5a3cc",
   "metadata": {
    "execution": {
     "iopub.execute_input": "2022-06-29T06:15:59.478357Z",
     "iopub.status.busy": "2022-06-29T06:15:59.477625Z",
     "iopub.status.idle": "2022-06-29T06:16:00.040539Z",
     "shell.execute_reply": "2022-06-29T06:16:00.041082Z",
     "shell.execute_reply.started": "2022-06-29T05:51:43.444850Z"
    },
    "papermill": {
     "duration": 0.608923,
     "end_time": "2022-06-29T06:16:00.041281",
     "exception": false,
     "start_time": "2022-06-29T06:15:59.432358",
     "status": "completed"
    },
    "tags": []
   },
   "outputs": [
    {
     "name": "stdout",
     "output_type": "stream",
     "text": [
      "NUM TFRECORD FILES: 40\n",
      "NUM TRAINING IMAGES: 38,208\n"
     ]
    },
    {
     "name": "stderr",
     "output_type": "stream",
     "text": [
      "2022-06-29 06:15:59.909926: I tensorflow/core/platform/cloud/google_auth_provider.cc:180] Attempting an empty bearer token since no token was retrieved from files, and GCE metadata check was skipped.\n"
     ]
    }
   ],
   "source": [
    "BASE_PATH = '/kaggle/input/uw-madison-gi-tract-image-segmentation'\n",
    "GCS_PATH = KaggleDatasets().get_gcs_path('uwmgi-25d-tfrecord-dataset')\n",
    "ALL_FILENAMES = tf.io.gfile.glob(GCS_PATH + '/uwmgi/*.tfrec')\n",
    "print('NUM TFRECORD FILES: {:,}'.format(len(ALL_FILENAMES)))\n",
    "print('NUM TRAINING IMAGES: {:,}'.format(count_data_items(ALL_FILENAMES)))"
   ]
  },
  {
   "cell_type": "markdown",
   "id": "d6145655",
   "metadata": {
    "papermill": {
     "duration": 0.042627,
     "end_time": "2022-06-29T06:16:00.127586",
     "exception": false,
     "start_time": "2022-06-29T06:16:00.084959",
     "status": "completed"
    },
    "tags": []
   },
   "source": [
    "# 7. Data Augmentation 🌈\n",
    "> **Caution:** Unlike classification problem, we have to augment both **image** & **mask** otherwise it'll create faulty data as **mask** won't match its corresponding **image**.\n",
    "\n",
    "<img src=\"https://raw.githubusercontent.com/dmlc/web-data/master/mxnet/doc/tutorials/data_aug/outputs/with_mask/aug_and_mask.png\" width=800>"
   ]
  },
  {
   "cell_type": "markdown",
   "id": "40c4c386",
   "metadata": {
    "papermill": {
     "duration": 0.042496,
     "end_time": "2022-06-29T06:16:00.212783",
     "exception": false,
     "start_time": "2022-06-29T06:16:00.170287",
     "status": "completed"
    },
    "tags": []
   },
   "source": [
    "## Used Augmentations\n",
    "Some Augmentations that were used here are,\n",
    "\n",
    "* RandomFlip (Left-Right)\n",
    "<img src=\"https://dataaspirant.com/wp-content/uploads/2020/08/5-horizontal-flip-technique.png\" width=400>\n",
    "\n",
    "* Random Rotation\n",
    "<img src=\"https://dataaspirant.com/wp-content/uploads/2020/08/4-rotation-technique.png\" width=500>\n",
    "\n",
    "\n",
    "* RandomBrightness\n",
    "<img src=\"https://affine.ai/wp-content/uploads/2022/02/2.jpg\" width=400>\n",
    "\n",
    "* RndomContrast\n",
    "<img src=\"https://affine.ai/wp-content/uploads/2022/02/3.jpg\" width=400>\n",
    "\n",
    "* Zoom\n",
    "<img src=\"https://affine.ai/wp-content/uploads/2022/02/16.jpg\" width=400>\n",
    "\n",
    "* Cutout\n",
    "<img src=\"https://i.ibb.co/3MKjW0t/cutout.png\" width=400>\n",
    "\n",
    "* Shear\n",
    "<img src=\"https://imgaug.readthedocs.io/en/latest/_images/shearx.jpg\" width=500>"
   ]
  },
  {
   "cell_type": "markdown",
   "id": "aba9beae",
   "metadata": {
    "papermill": {
     "duration": 0.042646,
     "end_time": "2022-06-29T06:16:00.298764",
     "exception": false,
     "start_time": "2022-06-29T06:16:00.256118",
     "status": "completed"
    },
    "tags": []
   },
   "source": [
    "## Utility"
   ]
  },
  {
   "cell_type": "code",
   "execution_count": 9,
   "id": "e8d8684d",
   "metadata": {
    "_kg_hide-input": true,
    "execution": {
     "iopub.execute_input": "2022-06-29T06:16:00.393995Z",
     "iopub.status.busy": "2022-06-29T06:16:00.393315Z",
     "iopub.status.idle": "2022-06-29T06:16:00.398953Z",
     "shell.execute_reply": "2022-06-29T06:16:00.399519Z",
     "shell.execute_reply.started": "2022-06-29T05:51:43.927027Z"
    },
    "papermill": {
     "duration": 0.057858,
     "end_time": "2022-06-29T06:16:00.399715",
     "exception": false,
     "start_time": "2022-06-29T06:16:00.341857",
     "status": "completed"
    },
    "tags": []
   },
   "outputs": [],
   "source": [
    "def random_int(shape=[], minval=0, maxval=1):\n",
    "    return tf.random.uniform(shape=shape, minval=minval, maxval=maxval, dtype=tf.int32)\n",
    "\n",
    "\n",
    "def random_float(shape=[], minval=0.0, maxval=1.0):\n",
    "    rnd = tf.random.uniform(shape=shape, minval=minval, maxval=maxval, dtype=tf.float32)\n",
    "    return rnd\n",
    "\n",
    "\n",
    "def get_mat(shear, height_zoom, width_zoom, height_shift, width_shift):\n",
    "    \"\"\"\n",
    "    ref: https://www.kaggle.com/code/cdeotte/triple-stratified-kfold-with-tfrecords/\n",
    "    \"\"\"\n",
    "    # returns 3x3 transformmatrix which transforms indicies\n",
    "\n",
    "    # CONVERT DEGREES TO RADIANS\n",
    "    # rotation = math.pi * rotation / 180.\n",
    "    shear = math.pi * shear / 180.0\n",
    "\n",
    "    def get_3x3_mat(lst):\n",
    "        return tf.reshape(tf.concat([lst], axis=0), [3, 3])\n",
    "\n",
    "    one = tf.constant([1], dtype=\"float32\")\n",
    "    zero = tf.constant([0], dtype=\"float32\")\n",
    "\n",
    "    # SHEAR MATRIX\n",
    "    c2 = tf.math.cos(shear)\n",
    "    s2 = tf.math.sin(shear)\n",
    "\n",
    "    shear_matrix = get_3x3_mat([one, s2, zero, zero, c2, zero, zero, zero, one])\n",
    "    # ZOOM MATRIX\n",
    "    zoom_matrix = get_3x3_mat(\n",
    "        [one / height_zoom, zero, zero, zero, one / width_zoom, zero, zero, zero, one]\n",
    "    )\n",
    "    # SHIFT MATRIX\n",
    "    shift_matrix = get_3x3_mat(\n",
    "        [one, zero, height_shift, zero, one, width_shift, zero, zero, one]\n",
    "    )\n",
    "\n",
    "    return K.dot(\n",
    "        shear_matrix, K.dot(zoom_matrix, shift_matrix)\n",
    "    )  # K.dot(K.dot(rotation_matrix, shear_matrix), K.dot(zoom_matrix, shift_matrix))\n"
   ]
  },
  {
   "cell_type": "markdown",
   "id": "9849c375",
   "metadata": {
    "papermill": {
     "duration": 0.043124,
     "end_time": "2022-06-29T06:16:00.486782",
     "exception": false,
     "start_time": "2022-06-29T06:16:00.443658",
     "status": "completed"
    },
    "tags": []
   },
   "source": [
    "## Augment Fn"
   ]
  },
  {
   "cell_type": "code",
   "execution_count": 10,
   "id": "b043a77c",
   "metadata": {
    "_kg_hide-input": true,
    "execution": {
     "iopub.execute_input": "2022-06-29T06:16:00.576300Z",
     "iopub.status.busy": "2022-06-29T06:16:00.575454Z",
     "iopub.status.idle": "2022-06-29T06:16:00.614260Z",
     "shell.execute_reply": "2022-06-29T06:16:00.614783Z",
     "shell.execute_reply.started": "2022-06-29T05:51:43.943563Z"
    },
    "papermill": {
     "duration": 0.085265,
     "end_time": "2022-06-29T06:16:00.614987",
     "exception": false,
     "start_time": "2022-06-29T06:16:00.529722",
     "status": "completed"
    },
    "tags": []
   },
   "outputs": [],
   "source": [
    "def ShiftScaleRotate(image, mask=None, DIM=CFG.img_size, p=1.0):\n",
    "    \"\"\"\n",
    "    ref: https://www.kaggle.com/code/cdeotte/triple-stratified-kfold-with-tfrecords/\n",
    "    \"\"\"\n",
    "    if random_float() > p:\n",
    "        return image, mask\n",
    "    if DIM[0] > DIM[1]:\n",
    "        diff = DIM[0] - DIM[1]\n",
    "        pad = [diff // 2, diff // 2 + (1 if diff % 2 else 0)]\n",
    "        image = tf.pad(image, [[0, 0], [pad[0], pad[1]], [0, 0]])\n",
    "        NEW_DIM = DIM[0]\n",
    "        if mask is not None:\n",
    "            mask = tf.pad(mask, [[0, 0], [pad[0], pad[1]], [0, 0]])\n",
    "    elif DIM[0] < DIM[1]:\n",
    "        diff = DIM[1] - DIM[0]\n",
    "        pad = [diff // 2, diff // 2 + (1 if diff % 2 else 0)]\n",
    "        image = tf.pad(image, [[pad[0], pad[1]], [0, 0], [0, 0]])\n",
    "        NEW_DIM = DIM[1]\n",
    "        if mask is not None:\n",
    "            mask = tf.pad(mask, [[pad[0], pad[1]], [0, 0], [0, 0]])\n",
    "\n",
    "    rot = CFG.rot * tf.random.normal([1], dtype=\"float32\")\n",
    "    shr = CFG.shr * tf.random.normal([1], dtype=\"float32\")\n",
    "    h_zoom = 1.0 + tf.random.normal([1], dtype=\"float32\") / CFG.hzoom\n",
    "    w_zoom = 1.0 + tf.random.normal([1], dtype=\"float32\") / CFG.wzoom\n",
    "    h_shift = CFG.hshift * tf.random.normal([1], dtype=\"float32\")\n",
    "    w_shift = CFG.wshift * tf.random.normal([1], dtype=\"float32\")\n",
    "\n",
    "    transformation_matrix = tf.linalg.inv(\n",
    "        get_mat(shr, h_zoom, w_zoom, h_shift, w_shift)\n",
    "    )\n",
    "    flat_tensor = tfa.image.transform_ops.matrices_to_flat_transforms(\n",
    "        transformation_matrix\n",
    "    )\n",
    "    rotation = math.pi * rot / 180.0\n",
    "\n",
    "    image = tfa.image.transform(image, flat_tensor, fill_mode=CFG.fill_mode)\n",
    "    image = tfa.image.rotate(image, -rotation, fill_mode=CFG.fill_mode)\n",
    "    if mask is not None:\n",
    "        mask = tfa.image.transform(mask, flat_tensor, fill_mode=CFG.fill_mode)\n",
    "        mask = tfa.image.rotate(mask, -rotation, fill_mode=CFG.fill_mode)\n",
    "\n",
    "    if DIM[0] > DIM[1]:\n",
    "        image = tf.reshape(image, [NEW_DIM, NEW_DIM, 3])\n",
    "        image = image[:, pad[0] : -pad[1], :]\n",
    "        if mask is not None:\n",
    "            mask = tf.reshape(mask, [NEW_DIM, NEW_DIM, 3])\n",
    "            mask = mask[:, pad[0] : -pad[1], :]\n",
    "    elif DIM[1] > DIM[0]:\n",
    "        image = tf.reshape(image, [NEW_DIM, NEW_DIM, 3])\n",
    "        image = image[pad[0] : -pad[1], :, :]\n",
    "        if mask is not None:\n",
    "            mask = tf.reshape(mask, [NEW_DIM, NEW_DIM, 3])\n",
    "            mask = mask[pad[0] : -pad[1], :, :]\n",
    "\n",
    "    image = tf.reshape(image, [*DIM, 3])\n",
    "    if mask is not None:\n",
    "        mask = tf.reshape(mask, [*DIM, 3])\n",
    "    return image, mask\n",
    "\n",
    "\n",
    "def CutOut(image, mask=None, DIM=CFG.img_size, PROBABILITY=0.6, CT=5, SZ=0.1):\n",
    "    \"\"\"\n",
    "    ref: https://www.kaggle.com/code/cdeotte/tfrecord-experiments-upsample-and-coarse-dropout\n",
    "    \"\"\"\n",
    "    # Input Image - is with shape [dim,dim,3] not of [None,dim,dim,3]\n",
    "    # Probability\n",
    "    P = tf.cast(random_float() < PROBABILITY, tf.int32)\n",
    "    if (P == 0) | (CT == 0) | (SZ == 0):\n",
    "        return image, mask\n",
    "    # Iterate Through Each Sample of Batch\n",
    "    for k in range(CT):\n",
    "        # Choose Random Location\n",
    "        x = tf.cast(tf.random.uniform([], 0, DIM[1]), tf.int32)\n",
    "        y = tf.cast(tf.random.uniform([], 0, DIM[0]), tf.int32)\n",
    "        # Compute Square for CutOut\n",
    "        WIDTH = tf.cast(SZ * min(DIM), tf.int32) * P\n",
    "        ya = tf.math.maximum(0, y - WIDTH // 2)\n",
    "        yb = tf.math.minimum(DIM[0], y + WIDTH // 2)\n",
    "        xa = tf.math.maximum(0, x - WIDTH // 2)\n",
    "        xb = tf.math.minimum(DIM[1], x + WIDTH // 2)\n",
    "        # CutOut Image\n",
    "        one = image[ya:yb, 0:xa, :]\n",
    "        two = tf.zeros([yb - ya, xb - xa, 3], dtype=image.dtype)\n",
    "        three = image[ya:yb, xb : DIM[1], :]\n",
    "        middle = tf.concat([one, two, three], axis=1)\n",
    "        image = tf.concat([image[0:ya, :, :], middle, image[yb : DIM[0], :, :]], axis=0)\n",
    "        image = tf.reshape(image, [*DIM, 3])\n",
    "        # CutOut Mask\n",
    "        if mask is not None:\n",
    "            one = mask[ya:yb, 0:xa, :]\n",
    "            two = tf.zeros([yb - ya, xb - xa, 3], dtype=mask.dtype)  # ch=3\n",
    "            three = mask[ya:yb, xb : DIM[1], :]\n",
    "            middle = tf.concat([one, two, three], axis=1)\n",
    "            mask = tf.concat(\n",
    "                [mask[0:ya, :, :], middle, mask[yb : DIM[0], :, :]], axis=0\n",
    "            )\n",
    "            mask = tf.reshape(mask, [*DIM, 3])  # ch=3\n",
    "    return image, mask\n",
    "\n",
    "\n",
    "def RandomJitter(img, hue, sat, cont, bri, p=1.0):\n",
    "    if random_float() > p:\n",
    "        return img\n",
    "    img = tf.image.random_hue(img, hue)\n",
    "    img = tf.image.random_saturation(img, sat[0], sat[1])\n",
    "    img = tf.image.random_contrast(img, cont[0], cont[1])\n",
    "    img = tf.image.random_brightness(img, bri)\n",
    "    return img\n",
    "\n",
    "\n",
    "def RandomFlip(img, msk=None, hflip_p=0.5, vflip_p=0.5):\n",
    "    if random_float() < hflip_p:\n",
    "        img = tf.image.flip_left_right(img)\n",
    "        if msk is not None:\n",
    "            msk = tf.image.flip_left_right(msk)\n",
    "    if random_float() < vflip_p:\n",
    "        img = tf.image.flip_up_down(img)\n",
    "        if msk is not None:\n",
    "            msk = tf.image.flip_up_down(msk)\n",
    "    return img, msk"
   ]
  },
  {
   "cell_type": "markdown",
   "id": "fcbe40a3",
   "metadata": {
    "papermill": {
     "duration": 0.042436,
     "end_time": "2022-06-29T06:16:00.700254",
     "exception": false,
     "start_time": "2022-06-29T06:16:00.657818",
     "status": "completed"
    },
    "tags": []
   },
   "source": [
    "# 8. Data Pipeline 🍚"
   ]
  },
  {
   "cell_type": "markdown",
   "id": "3a3a4e40",
   "metadata": {
    "papermill": {
     "duration": 0.042444,
     "end_time": "2022-06-29T06:16:00.785418",
     "exception": false,
     "start_time": "2022-06-29T06:16:00.742974",
     "status": "completed"
    },
    "tags": []
   },
   "source": [
    "## 2.5D Training\n",
    "**What is 2.5D Training?**\n",
    "\n",
    "Even though we can do easy straight-forward 2D training, we can utilize ct slices for extra depth information. For example, we can stack consecutive slices of the scans to get a 3D volume. But one of the reasons why I'm inferring them as 2.5D is that we'll be training 3D images like 2D images. Those who haven't come across this method may get confused at first but let me explain. When we train 2D images like RGB images we actually pass a 3D tensor ex:`[None, channel, height, width]` to a model. For PyTorch, the last two dimensions are spacial(height & width) and the first one is the **channel** dimension. Now for the ct image, we don't have any channel information so we can use that dimension to **stack multiple ct scans as channels and train them as 2d images**. \n",
    "\n",
    "This method has some cool advantages over 3D training for instance,\n",
    "* Low GPU/memory cost.\n",
    "* Simple pipeline.\n",
    "* Easier augmentation.\n",
    "* Quick inference.\n",
    "* Many open-source models.\n",
    "\n",
    "In my notebook, I've stacked 3 slices with stride=2, you can check the demo image above for example. It kinda looks like **3d movie scene in the theatre**. \n",
    "\n",
    "<div align=center><img src=\"https://i.ibb.co/sgsPf4v/Capture.png\" width=800></div>\n",
    "<div align=center><img src=\"https://i.ibb.co/KKtZ7Gn/Picture1-3d.png\" width=500></div>"
   ]
  },
  {
   "cell_type": "markdown",
   "id": "9e8a342c",
   "metadata": {
    "papermill": {
     "duration": 0.042201,
     "end_time": "2022-06-29T06:16:00.870383",
     "exception": false,
     "start_time": "2022-06-29T06:16:00.828182",
     "status": "completed"
    },
    "tags": []
   },
   "source": [
    "## Reading TFRecord Data\n",
    "**What is TFRecord & Why use it for Segmentation?**\n",
    "\n",
    "* The `.tfrecord`/`.tfrec` format is TensorFlow's custom data format which is used for storing a sequence of binary records.\n",
    "* For **Segmentation** unlike any other data formatk in `.tfrecord` we don't have to the read file twice (one for image and one for mask). In `tfrecord` we just have to read file once and we can access both image and mask.\n",
    "* TFRecord consumes **less storage on disk**, and has **faster read and write time from the disk**, which makes it suitable for **segmentation** task.\n",
    "* Apart from that there are a number of advantages to using TFRecords: \n",
    "    * Efficient usage of storage.\n",
    "    * Better I/O Speed.\n",
    "    * TPUs require that you pass data to them in TFRecord format\n",
    "    \n",
    "**How TFRecord is created for Segmentation?**\n",
    "\n",
    "* Mask is stored in `tfrecord` exactly the same way as a image that is as a byte-string. \n",
    "* So, you can easily access the both image and mask from example_proto using `exmple[\"image\"]` & `example[\"mask\"]`. \n",
    "* Then, to decode it to `tf.Tensor` simply we can use `tf.io.decode_raw()` function.\n",
    "* For more information, checout [UWMGI: 2.5D TFRecord Data](https://www.kaggle.com/code/awsaf49/uwmgi-2-5d-tfrecord-data) notebook."
   ]
  },
  {
   "cell_type": "code",
   "execution_count": 11,
   "id": "d24d5ec6",
   "metadata": {
    "_kg_hide-input": false,
    "execution": {
     "iopub.execute_input": "2022-06-29T06:16:00.959231Z",
     "iopub.status.busy": "2022-06-29T06:16:00.958458Z",
     "iopub.status.idle": "2022-06-29T06:16:00.977242Z",
     "shell.execute_reply": "2022-06-29T06:16:00.976601Z",
     "shell.execute_reply.started": "2022-06-29T05:51:43.985847Z"
    },
    "papermill": {
     "duration": 0.064446,
     "end_time": "2022-06-29T06:16:00.977414",
     "exception": false,
     "start_time": "2022-06-29T06:16:00.912968",
     "status": "completed"
    },
    "tags": []
   },
   "outputs": [],
   "source": [
    "# Decode image from bytestring to tensor\n",
    "def decode_image(data, height, width, target_size=CFG.img_size):\n",
    "    img = tf.io.decode_raw(data, out_type=tf.uint16)\n",
    "    img = tf.reshape(img, [height, width, 3])  # explicit size needed for TPU\n",
    "    img = tf.cast(img, tf.float32)\n",
    "    img = tf.math.divide_no_nan(img, tf.math.reduce_max(img))  # scale image to [0, 1]\n",
    "    img = tf.image.resize_with_pad(\n",
    "        img, target_size[0], target_size[1], method=\"nearest\"\n",
    "    )  # resize with pad to avoid distortion\n",
    "    img = tf.reshape(img, [*target_size, 3])  # reshape after resize\n",
    "    return img\n",
    "\n",
    "\n",
    "# Decode mask from bytestring to tensor\n",
    "def decode_mask(data, height, width, target_size=CFG.img_size):\n",
    "    msk = tf.io.decode_raw(data, out_type=tf.uint8)\n",
    "    msk = tf.reshape(msk, [height, width, 3])  # explicit size needed for TPU\n",
    "    msk = tf.cast(msk, tf.float32)\n",
    "    msk = msk / 255.0  # scale mask data to[0, 1]\n",
    "    msk = tf.image.resize_with_pad(\n",
    "        msk, target_size[0], target_size[1], method=\"nearest\"\n",
    "    )\n",
    "    msk = tf.reshape(msk, [*target_size, 3])  # reshape after resize\n",
    "    return msk\n",
    "\n",
    "\n",
    "# Read tfrecord data & parse it & do augmentation\n",
    "def read_tfrecord(example, augment=True, return_id=False, dim=CFG.img_size):\n",
    "    tfrec_format = {\n",
    "        \"id\": tf.io.FixedLenFeature([], tf.string),\n",
    "        \"image\": tf.io.FixedLenFeature([], tf.string),  # tf.string means bytestring\n",
    "        \"height\": tf.io.FixedLenFeature([], tf.int64),\n",
    "        \"width\": tf.io.FixedLenFeature([], tf.int64),\n",
    "        \"mask\": tf.io.FixedLenFeature([], tf.string),\n",
    "    }\n",
    "    example = tf.io.parse_single_example(\n",
    "        example, tfrec_format\n",
    "    )  # parses a single example proto.\n",
    "    image_id = example[\"id\"]\n",
    "    height = example[\"height\"]\n",
    "    width = example[\"width\"]\n",
    "    img = decode_image(example[\"image\"], height, width, dim)  # access image\n",
    "    msk = decode_mask(example[\"mask\"], height, width, dim)  # access mask\n",
    "    if augment:  # do augmentation\n",
    "        img, msk = ShiftScaleRotate(img, msk, DIM=dim, p=0.75)\n",
    "        img, msk = RandomFlip(img, msk, hflip_p=CFG.hflip, vflip_p=CFG.vflip)\n",
    "        img = RandomJitter(img, CFG.hue, CFG.sat, CFG.cont, CFG.bri, p=0.8)\n",
    "        img, msk = CutOut(\n",
    "            img,\n",
    "            msk,\n",
    "            DIM=dim,\n",
    "            PROBABILITY=CFG.drop_prob,\n",
    "            CT=CFG.drop_cnt,\n",
    "            SZ=CFG.drop_size,\n",
    "        )\n",
    "    img = tf.clip_by_value(img, 0, 1) if CFG.clip else img\n",
    "    img = tf.reshape(img, [*dim, 3])\n",
    "    msk = tf.reshape(msk, [*dim, 3])\n",
    "    return (img, msk) if not return_id else (img, image_id, msk)\n"
   ]
  },
  {
   "cell_type": "markdown",
   "id": "a99e241a",
   "metadata": {
    "papermill": {
     "duration": 0.042224,
     "end_time": "2022-06-29T06:16:01.062462",
     "exception": false,
     "start_time": "2022-06-29T06:16:01.020238",
     "status": "completed"
    },
    "tags": []
   },
   "source": [
    "## Pipeline with **tf.data**\n",
    "<div align=center> <img src=\"https://storage.googleapis.com/jalammar-ml/tf.data/images/tf.data.png\" width=700></div>\n",
    "\n",
    "To build data pipeline using `tfrecrod/tfrec`, we need to use `tf.data` API.\n",
    "\n",
    "* We can build complex input pipelines from simple, reusable pieces using`tf.data` API . For example, the pipeline for an image model might aggregate data from files in a distributed file system, apply random transformation/augmentation to each image, and merge randomly selected images into a batch for training.\n",
    "* Moreover `tf.data` API provides a `tf.data.Dataset` feature that represents a sequence of components where each component comprises one or more pieces. For instances, in an image pipeline, an component might be a single training example, with a pair of tensor pieces representing the image and its label.\n",
    "\n",
    "Checkout this [doc](https://www.tensorflow.org/guide/data) if you want to learn more about `tf.data`.\n",
    "\n",
    "## Pipeline\n",
    "* Read **TFRecord** files.\n",
    "* `cache` data to speed up the training.\n",
    "* `repeat` the data stream (for training only & test-time augmentation).\n",
    "* `shuffle` the data (for training only).\n",
    "* Unparse **tfrecord** data & convert it to Image data from ByteString.\n",
    "* Process Image & Mask.\n",
    "* Apply Augmentations.\n",
    "* Batch Data."
   ]
  },
  {
   "cell_type": "code",
   "execution_count": 12,
   "id": "fd442bcd",
   "metadata": {
    "execution": {
     "iopub.execute_input": "2022-06-29T06:16:01.154471Z",
     "iopub.status.busy": "2022-06-29T06:16:01.153584Z",
     "iopub.status.idle": "2022-06-29T06:16:01.162394Z",
     "shell.execute_reply": "2022-06-29T06:16:01.162914Z",
     "shell.execute_reply.started": "2022-06-29T05:51:44.005797Z"
    },
    "papermill": {
     "duration": 0.0572,
     "end_time": "2022-06-29T06:16:01.163133",
     "exception": false,
     "start_time": "2022-06-29T06:16:01.105933",
     "status": "completed"
    },
    "tags": []
   },
   "outputs": [],
   "source": [
    "def get_dataset(\n",
    "    filenames,\n",
    "    shuffle=True,\n",
    "    repeat=True,\n",
    "    augment=True,\n",
    "    cache=True,\n",
    "    return_id=False,\n",
    "    batch_size=CFG.batch_size * REPLICAS,\n",
    "    target_size=CFG.img_size,\n",
    "    drop_remainder=False,\n",
    "    seed=CFG.seed,\n",
    "):\n",
    "    dataset = tf.data.TFRecordDataset(\n",
    "        filenames, num_parallel_reads=AUTO\n",
    "    )  # read tfrecord files\n",
    "    if cache:\n",
    "        dataset = dataset.cache()  # cache data for speedup\n",
    "    if repeat:\n",
    "        dataset = dataset.repeat()  # repeat the data (for training only)\n",
    "    if shuffle:\n",
    "        dataset = dataset.shuffle(\n",
    "            1024, seed=seed\n",
    "        )  # shuffle the data (for training only)\n",
    "        options = tf.data.Options()\n",
    "        options.experimental_deterministic = (\n",
    "            False  # order won't be maintained when we shuffle\n",
    "        )\n",
    "        dataset = dataset.with_options(options)\n",
    "    dataset = dataset.map(\n",
    "        lambda x: read_tfrecord(\n",
    "            x,\n",
    "            augment=augment,  # unparse tfrecord data with masks\n",
    "            return_id=return_id,\n",
    "            dim=target_size,\n",
    "        ),\n",
    "        num_parallel_calls=AUTO,\n",
    "    )\n",
    "    dataset = dataset.batch(batch_size, drop_remainder=drop_remainder)  # batch the data\n",
    "    dataset = dataset.prefetch(AUTO)  # prefatch data for speedup\n",
    "    return dataset"
   ]
  },
  {
   "cell_type": "markdown",
   "id": "bafcea30",
   "metadata": {
    "papermill": {
     "duration": 0.042987,
     "end_time": "2022-06-29T06:16:01.251313",
     "exception": false,
     "start_time": "2022-06-29T06:16:01.208326",
     "status": "completed"
    },
    "tags": []
   },
   "source": [
    "# 9. Visualization 🔭\n",
    "To ensure our pipeline is generating **image** and **mask** correctly, we'll check some samples from a batch."
   ]
  },
  {
   "cell_type": "code",
   "execution_count": 13,
   "id": "d6447dc3",
   "metadata": {
    "_kg_hide-input": true,
    "execution": {
     "iopub.execute_input": "2022-06-29T06:16:01.343394Z",
     "iopub.status.busy": "2022-06-29T06:16:01.342603Z",
     "iopub.status.idle": "2022-06-29T06:16:01.356255Z",
     "shell.execute_reply": "2022-06-29T06:16:01.356819Z",
     "shell.execute_reply.started": "2022-06-29T05:51:44.023149Z"
    },
    "papermill": {
     "duration": 0.060593,
     "end_time": "2022-06-29T06:16:01.357039",
     "exception": false,
     "start_time": "2022-06-29T06:16:01.296446",
     "status": "completed"
    },
    "tags": []
   },
   "outputs": [],
   "source": [
    "clahe = cv2.createCLAHE(clipLimit=2.0, tileGridSize=(8,8))\n",
    "def display_batch(batch, row=2, col=5):\n",
    "    imgs, msks = batch\n",
    "    plt.figure(figsize=(2.5*col, 2.5*row))\n",
    "    for idx in range(row*col):\n",
    "        ax = plt.subplot(row, col, idx+1)\n",
    "        img = imgs[idx].numpy()*255.0\n",
    "        img = img.astype('uint8')\n",
    "        for i in range(3):\n",
    "            img[...,i] = clahe.apply(img[...,i])\n",
    "        ax.imshow(img, cmap='bone')\n",
    "        msk = msks[idx].numpy()\n",
    "        ax.imshow(msk,alpha=0.4)\n",
    "        ax.set_xticks([])\n",
    "        ax.set_yticks([])\n",
    "    plt.tight_layout();\n",
    "    plt.show();"
   ]
  },
  {
   "cell_type": "code",
   "execution_count": 14,
   "id": "8c690d2c",
   "metadata": {
    "execution": {
     "iopub.execute_input": "2022-06-29T06:16:01.448462Z",
     "iopub.status.busy": "2022-06-29T06:16:01.447656Z",
     "iopub.status.idle": "2022-06-29T06:16:09.851423Z",
     "shell.execute_reply": "2022-06-29T06:16:09.850788Z",
     "shell.execute_reply.started": "2022-06-29T05:51:44.045034Z"
    },
    "papermill": {
     "duration": 8.450653,
     "end_time": "2022-06-29T06:16:09.851587",
     "exception": false,
     "start_time": "2022-06-29T06:16:01.400934",
     "status": "completed"
    },
    "tags": []
   },
   "outputs": [
    {
     "name": "stdout",
     "output_type": "stream",
     "text": [
      "image_shape: (20, 128, 128, 3) mask_shape:(20, 128, 128, 3)\n",
      "image_dtype: <dtype: 'float32'> mask_dtype: <dtype: 'float32'>\n"
     ]
    },
    {
     "data": {
      "image/png": "[encoded data removed]",
      "text/plain": [
       "<Figure size 900x360 with 10 Axes>"
      ]
     },
     "metadata": {},
     "output_type": "display_data"
    }
   ],
   "source": [
    "ds = get_dataset(ALL_FILENAMES[:2], augment=False, cache=False, repeat=False).take(1)\n",
    "batch = next(iter(ds.unbatch().batch(20)))\n",
    "img, msk = batch\n",
    "print(f'image_shape: {img.shape} mask_shape:{msk.shape}')\n",
    "print(f'image_dtype: {img.dtype} mask_dtype: {msk.dtype}')\n",
    "display_batch(batch)"
   ]
  },
  {
   "cell_type": "markdown",
   "id": "a1cd5efd",
   "metadata": {
    "papermill": {
     "duration": 0.056176,
     "end_time": "2022-06-29T06:16:09.965101",
     "exception": false,
     "start_time": "2022-06-29T06:16:09.908925",
     "status": "completed"
    },
    "tags": []
   },
   "source": [
    "# 10. Loss Fn 📉\n",
    "Some implemented loss_functions are,\n",
    "* Dice Loss\n",
    "$$ \n",
    "Dice = \\frac{2\\cdot{TP}}{2\\cdot{TP} + FP + FN}\n",
    "$$\n",
    "* Tversky Loss (Modified IoU Loss)\n",
    "$$ \n",
    "IoU = \\frac{TP}{TP + FP + FN}\n",
    "$$\n",
    "$$\n",
    "Tversky = \\frac{TP}{TP + \\alpha\\cdot{FP} + \\beta\\cdot{FN}}\n",
    "$$\n",
    "* Focal Tversky Loss (Focal Loss + Tversky Loss)\n",
    "$$ \n",
    "FocalTversky = (1 - Tversky)^\\gamma\n",
    "$$"
   ]
  },
  {
   "cell_type": "code",
   "execution_count": 15,
   "id": "83562fe4",
   "metadata": {
    "_kg_hide-input": false,
    "execution": {
     "iopub.execute_input": "2022-06-29T06:16:10.082369Z",
     "iopub.status.busy": "2022-06-29T06:16:10.081665Z",
     "iopub.status.idle": "2022-06-29T06:16:10.095538Z",
     "shell.execute_reply": "2022-06-29T06:16:10.096075Z",
     "shell.execute_reply.started": "2022-06-29T05:51:57.064715Z"
    },
    "papermill": {
     "duration": 0.074653,
     "end_time": "2022-06-29T06:16:10.096310",
     "exception": false,
     "start_time": "2022-06-29T06:16:10.021657",
     "status": "completed"
    },
    "tags": []
   },
   "outputs": [],
   "source": [
    "from segmentation_models.base import functional as F\n",
    "import tensorflow.keras.backend as K\n",
    "\n",
    "kwargs = {}\n",
    "kwargs[\"backend\"] = K  # set tensorflow.keras as backend\n",
    "\n",
    "\n",
    "def dice_coef(y_true, y_pred):\n",
    "    \"\"\"Dice coefficient\"\"\"\n",
    "    dice = F.f_score(\n",
    "        y_true,\n",
    "        y_pred,\n",
    "        beta=1,\n",
    "        smooth=1e-5,\n",
    "        per_image=False,\n",
    "        threshold=0.5,\n",
    "        **kwargs,\n",
    "    )\n",
    "    return dice\n",
    "\n",
    "\n",
    "def tversky(y_true, y_pred, axis=(0, 1, 2), alpha=0.3, beta=0.7, smooth=0.0001):\n",
    "    \"Tversky metric\"\n",
    "    y_true = tf.cast(y_true, tf.float32)\n",
    "    y_pred = tf.cast(y_pred, tf.float32)\n",
    "    tp = tf.math.reduce_sum(y_true * y_pred, axis=axis) # calculate True Positive\n",
    "    fn = tf.math.reduce_sum(y_true * (1 - y_pred), axis=axis) # calculate False Negative\n",
    "    fp = tf.math.reduce_sum((1 - y_true) * y_pred, axis=axis) # calculate False Positive\n",
    "    tv = (tp + smooth) / (tp + alpha * fn + beta * fp + smooth) # calculate tversky\n",
    "    tv = tf.math.reduce_mean(tv)\n",
    "    return tv\n",
    "\n",
    "\n",
    "def tversky_loss(y_true, y_pred):\n",
    "    \"Tversky Loss\"\n",
    "    return 1 - tversky(y_true, y_pred)\n",
    "\n",
    "\n",
    "def focal_tversky_loss(y_true, y_pred, gamma=0.75):\n",
    "    \"Focal Tversky Loss: Focal Loss + Tversky Loss\"\n",
    "    tv = tversky(y_true, y_pred)\n",
    "    return K.pow((1 - tv), gamma)\n",
    "\n",
    "\n",
    "# Register custom objects\n",
    "custom_objs = {\n",
    "    \"dice_loss\": sm.losses.dice_loss,\n",
    "    \"dice_coef\": dice_coef,\n",
    "    \"bce_dice_loss\": sm.losses.bce_dice_loss,\n",
    "    \"bce_jaccard_loss\": sm.losses.bce_jaccard_loss,\n",
    "    \"tversky_loss\": tversky_loss,\n",
    "    \"focal_tversky_loss\": focal_tversky_loss,\n",
    "    \"jaccard_loss\": sm.losses.jaccard_loss,\n",
    "    \"precision\": sm.metrics.precision,\n",
    "    \"recall\": sm.metrics.recall,\n",
    "}\n",
    "tf.keras.utils.get_custom_objects().update(custom_objs)"
   ]
  },
  {
   "cell_type": "markdown",
   "id": "332a0c33",
   "metadata": {
    "papermill": {
     "duration": 0.056475,
     "end_time": "2022-06-29T06:16:10.210244",
     "exception": false,
     "start_time": "2022-06-29T06:16:10.153769",
     "status": "completed"
    },
    "tags": []
   },
   "source": [
    "# 11. LR Schedule ⚓\n",
    "* Learning Rate scheduler for transfer learning. \n",
    "* The learning rate starts from `initial_learning_rate`, then decreases to a`minimum_learning_rate` using different methods namely,\n",
    "    * **ReduceLROnPlateau**: Reduce lr when score isn't improving.\n",
    "    * **CosineDecay**: Follow Cosine graph to reduce lr.\n",
    "    * **ExponentialDecay**: Reduce lr exponentially."
   ]
  },
  {
   "cell_type": "code",
   "execution_count": 16,
   "id": "a4a89101",
   "metadata": {
    "execution": {
     "iopub.execute_input": "2022-06-29T06:16:10.327762Z",
     "iopub.status.busy": "2022-06-29T06:16:10.327080Z",
     "iopub.status.idle": "2022-06-29T06:16:10.334688Z",
     "shell.execute_reply": "2022-06-29T06:16:10.335245Z",
     "shell.execute_reply.started": "2022-06-29T05:51:57.080541Z"
    },
    "papermill": {
     "duration": 0.068625,
     "end_time": "2022-06-29T06:16:10.335443",
     "exception": false,
     "start_time": "2022-06-29T06:16:10.266818",
     "status": "completed"
    },
    "tags": []
   },
   "outputs": [],
   "source": [
    "def get_lr_callback():\n",
    "    if CFG.lr_schedule == \"ReduceLROnPlateau\":\n",
    "        lr_schedule = tf.keras.callbacks.ReduceLROnPlateau(\n",
    "            monitor=\"val_loss\",\n",
    "            factor=0.1,\n",
    "            patience=int(CFG.patience / 2),\n",
    "            min_lr=CFG.lr / 1e2,\n",
    "        )\n",
    "    elif CFG.lr_schedule == \"CosineDecay\":\n",
    "        lr_schedule = tf.keras.experimental.CosineDecay(\n",
    "            initial_learning_rate=CFG.lr, decay_steps=CFG.epochs + 2, alpha=CFG.lr / 1e2\n",
    "        )\n",
    "        lr_schedule = tf.keras.callbacks.LearningRateScheduler(lr_schedule, verbose=0)\n",
    "    elif CFG.lr_schedule == \"ExponentialDecay\":\n",
    "        lr_schedule = tf.keras.optimizers.schedules.ExponentialDecay(\n",
    "            initial_learning_rate=CFG.lr,\n",
    "            decay_steps=CFG.epochs + 2,\n",
    "            decay_rate=0.05,\n",
    "            staircase=False,\n",
    "        )\n",
    "        lr_schedule = tf.keras.callbacks.LearningRateScheduler(lr_schedule, verbose=0)\n",
    "    return lr_schedule"
   ]
  },
  {
   "cell_type": "markdown",
   "id": "f797f9ec",
   "metadata": {
    "papermill": {
     "duration": 0.057445,
     "end_time": "2022-06-29T06:16:10.449262",
     "exception": false,
     "start_time": "2022-06-29T06:16:10.391817",
     "status": "completed"
    },
    "tags": []
   },
   "source": [
    "# 12. TransUnet 🤖\n",
    "> [TransUNet: Transformers Make Strong Encoders for Medical Image Segmentation](https://arxiv.org/pdf/2102.04306.pdf)\n",
    "\n",
    "In a nutshell, this work shows how to convert a **UNet** into a so-called **TransUNet** by using a visual transformer (ViT) network in the encoder. Details of the architecture are in Figure below. As opposed to other methods which use a pure **transformer-based encoder** to convert the input image into a latent vector. A series of convolutions (much like in the original UNet) is used to convert the input image into a set of lower-resolution feature maps which are then encode with a ViT.\n",
    "So, main components fo **TransUNet** are,\n",
    "\n",
    "1. Encoder (Pure or Hybrid)\n",
    "    * CNN\n",
    "    * Transformer\n",
    "2. Decoder\n",
    "    * CNN\n",
    "3. Skip Connection in Hybrid\n",
    "    * Connection betwween CNN Encoder & CNN Decoder\n",
    "\n",
    "> **Codes below are adapted from [here](https://github.com/kenza-bouzid/TransUnet)**\n",
    "\n",
    "<img src=\"https://production-media.paperswithcode.com/social-images/hfPJrzzvUuaeIMvb.png\" width=800>"
   ]
  },
  {
   "cell_type": "markdown",
   "id": "d25f294a",
   "metadata": {
    "papermill": {
     "duration": 0.055811,
     "end_time": "2022-06-29T06:16:10.561921",
     "exception": false,
     "start_time": "2022-06-29T06:16:10.506110",
     "status": "completed"
    },
    "tags": []
   },
   "source": [
    "## Utils\n",
    "* Utility code to load `imagenet` weights"
   ]
  },
  {
   "cell_type": "code",
   "execution_count": 17,
   "id": "5fc3e548",
   "metadata": {
    "_kg_hide-input": true,
    "execution": {
     "iopub.execute_input": "2022-06-29T06:16:10.681959Z",
     "iopub.status.busy": "2022-06-29T06:16:10.681233Z",
     "iopub.status.idle": "2022-06-29T06:16:10.704970Z",
     "shell.execute_reply": "2022-06-29T06:16:10.705462Z",
     "shell.execute_reply.started": "2022-06-29T05:51:57.095441Z"
    },
    "papermill": {
     "duration": 0.084116,
     "end_time": "2022-06-29T06:16:10.705676",
     "exception": false,
     "start_time": "2022-06-29T06:16:10.621560",
     "status": "completed"
    },
    "tags": []
   },
   "outputs": [],
   "source": [
    "def apply_embedding_weights(target_layer, source_weights):\n",
    "    \"\"\"Apply embedding weights to a target layer.\n",
    "\n",
    "    Args:\n",
    "        target_layer: The target layer to which weights will\n",
    "            be applied.\n",
    "        source_weights: The source weights, which will be\n",
    "            resized as necessary.\n",
    "    \"\"\"\n",
    "    expected_shape = target_layer.weights[0].shape\n",
    "    if expected_shape == source_weights.shape:\n",
    "        grid = source_weights\n",
    "    elif expected_shape[1] == source_weights.shape[1] - 1:\n",
    "        grid = source_weights[:, 1:]\n",
    "    else:\n",
    "        _, grid = source_weights[0, :1], source_weights[0, 1:]\n",
    "        sin = int(np.sqrt(grid.shape[0]))\n",
    "        sout = int(np.sqrt(expected_shape[1]))\n",
    "        warnings.warn(\n",
    "            \"Resizing position embeddings from \" f\"{sin} to {sout}\",\n",
    "            UserWarning,\n",
    "        )\n",
    "        zoom = (sout / sin, sout / sin, 1)\n",
    "        grid = scipy.ndimage.zoom(grid.reshape(sin, sin, -1), zoom, order=1).reshape(\n",
    "            1, sout * sout, -1\n",
    "        )\n",
    "    target_layer.set_weights([grid])\n",
    "\n",
    "\n",
    "def load_weights_numpy(model, params_path):\n",
    "    \"\"\"Load weights saved using Flax as a numpy array.\n",
    "\n",
    "    Args:\n",
    "        model: A Keras model to load the weights into.\n",
    "        params_path: Filepath to a numpy archive.\n",
    "    \"\"\"\n",
    "    params_dict = np.load(\n",
    "        params_path, allow_pickle=False\n",
    "    )  # pylint: disable=unexpected-keyword-arg\n",
    "    source_keys = list(params_dict.keys())\n",
    "\n",
    "    source_keys_used = []\n",
    "    n_transformers = len(\n",
    "        set(\n",
    "            \"/\".join(k.split(\"/\")[:2])\n",
    "            for k in source_keys\n",
    "            if k.startswith(\"Transformer/encoderblock_\")\n",
    "        )\n",
    "    )\n",
    "    n_transformers_out = sum(\n",
    "        l.name.startswith(\"Transformer/encoderblock_\") for l in model.layers\n",
    "    )\n",
    "    assert n_transformers == n_transformers_out, (\n",
    "        f\"Wrong number of transformers (\"\n",
    "        f\"{n_transformers_out} in model vs. {n_transformers} in weights).\"\n",
    "    )\n",
    "\n",
    "    matches = []\n",
    "    for tidx in range(n_transformers):\n",
    "        encoder = model.get_layer(f\"Transformer/encoderblock_{tidx}\")\n",
    "        source_prefix = f\"Transformer/encoderblock_{tidx}\"\n",
    "        matches.extend(\n",
    "            [\n",
    "                {\n",
    "                    \"layer\": layer,\n",
    "                    \"keys\": [\n",
    "                        f\"{source_prefix}/{norm}/{name}\" for name in [\"scale\", \"bias\"]\n",
    "                    ],\n",
    "                }\n",
    "                for norm, layer in [\n",
    "                    (\"LayerNorm_0\", encoder.layernorm1),\n",
    "                    (\"LayerNorm_2\", encoder.layernorm2),\n",
    "                ]\n",
    "            ]\n",
    "            + [\n",
    "                {\n",
    "                    \"layer\": encoder.mlpblock.get_layer(\n",
    "                        f\"{source_prefix}/Dense_{mlpdense}\"\n",
    "                    ),\n",
    "                    \"keys\": [\n",
    "                        f\"{source_prefix}/MlpBlock_3/Dense_{mlpdense}/{name}\"\n",
    "                        for name in [\"kernel\", \"bias\"]\n",
    "                    ],\n",
    "                }\n",
    "                for mlpdense in [0, 1]\n",
    "            ]\n",
    "            + [\n",
    "                {\n",
    "                    \"layer\": layer,\n",
    "                    \"keys\": [\n",
    "                        f\"{source_prefix}/MultiHeadDotProductAttention_1/{attvar}/{name}\"\n",
    "                        for name in [\"kernel\", \"bias\"]\n",
    "                    ],\n",
    "                    \"reshape\": True,\n",
    "                }\n",
    "                for attvar, layer in [\n",
    "                    (\"query\", encoder.att.query_dense),\n",
    "                    (\"key\", encoder.att.key_dense),\n",
    "                    (\"value\", encoder.att.value_dense),\n",
    "                    (\"out\", encoder.att.combine_heads),\n",
    "                ]\n",
    "            ]\n",
    "        )\n",
    "\n",
    "    # Embedding kernel and bias\n",
    "    matches.append(\n",
    "        {\n",
    "            \"layer\": model.get_layer(\"embedding\"),\n",
    "            \"keys\": [f\"embedding/{name}\" for name in [\"kernel\", \"bias\"]],\n",
    "        }\n",
    "    )\n",
    "\n",
    "    matches.append(\n",
    "        {\n",
    "            \"layer\": model.get_layer(\"Transformer/encoder_norm\"),\n",
    "            \"keys\": [f\"Transformer/encoder_norm/{name}\" for name in [\"scale\", \"bias\"]],\n",
    "        }\n",
    "    )\n",
    "    apply_embedding_weights(\n",
    "        target_layer=model.get_layer(\"Transformer/posembed_input\"),\n",
    "        source_weights=params_dict[\"Transformer/posembed_input/pos_embedding\"],\n",
    "    )\n",
    "    source_keys_used.append(\"Transformer/posembed_input/pos_embedding\")\n",
    "    for match in matches:\n",
    "        source_keys_used.extend(match[\"keys\"])\n",
    "        source_weights = [params_dict[k] for k in match[\"keys\"]]\n",
    "        if match.get(\"reshape\", False):\n",
    "            source_weights = [\n",
    "                source.reshape(expected.shape)\n",
    "                for source, expected in zip(\n",
    "                    source_weights, match[\"layer\"].get_weights()\n",
    "                )\n",
    "            ]\n",
    "        match[\"layer\"].set_weights(source_weights)"
   ]
  },
  {
   "cell_type": "markdown",
   "id": "7565ff72",
   "metadata": {
    "papermill": {
     "duration": 0.056224,
     "end_time": "2022-06-29T06:16:10.819103",
     "exception": false,
     "start_time": "2022-06-29T06:16:10.762879",
     "status": "completed"
    },
    "tags": []
   },
   "source": [
    "## Encoder\n",
    "Key components of Encoder are,\n",
    "* AddPositionEmbs\n",
    "* MultiHeadSelfAttention\n",
    "* TransformerBlock\n",
    "* ResNet_Embeddings"
   ]
  },
  {
   "cell_type": "code",
   "execution_count": 18,
   "id": "1ff113d7",
   "metadata": {
    "_kg_hide-input": true,
    "execution": {
     "iopub.execute_input": "2022-06-29T06:16:10.964953Z",
     "iopub.status.busy": "2022-06-29T06:16:10.934712Z",
     "iopub.status.idle": "2022-06-29T06:16:10.967970Z",
     "shell.execute_reply": "2022-06-29T06:16:10.967430Z",
     "shell.execute_reply.started": "2022-06-29T05:51:57.124816Z"
    },
    "papermill": {
     "duration": 0.092748,
     "end_time": "2022-06-29T06:16:10.968138",
     "exception": false,
     "start_time": "2022-06-29T06:16:10.875390",
     "status": "completed"
    },
    "tags": []
   },
   "outputs": [],
   "source": [
    "class AddPositionEmbs(tfkl.Layer):\n",
    "    \"\"\"Adds (optionally learned) positional embeddings to the inputs.\"\"\"\n",
    "\n",
    "    def __init__(self, trainable=True, **kwargs):\n",
    "        super().__init__(trainable=trainable, **kwargs)\n",
    "        self.trainable = trainable\n",
    "\n",
    "    def build(self, input_shape):\n",
    "        assert (\n",
    "            len(input_shape) == 3\n",
    "        ), f\"Number of dimensions should be 3, got {len(input_shape)}\"\n",
    "        self.pe = tf.Variable(\n",
    "            name=\"pos_embedding\",\n",
    "            initial_value=tf.random_normal_initializer(stddev=0.06)(\n",
    "                shape=(1, input_shape[1], input_shape[2])\n",
    "            ),\n",
    "            dtype=\"float32\",\n",
    "            trainable=self.trainable,\n",
    "        )\n",
    "\n",
    "    def call(self, inputs):\n",
    "        return inputs + tf.cast(self.pe, dtype=inputs.dtype)\n",
    "\n",
    "\n",
    "class MultiHeadSelfAttention(tfkl.Layer):\n",
    "    def __init__(self, *args, trainable=True, n_heads, **kwargs):\n",
    "        super().__init__(trainable=trainable, *args, **kwargs)\n",
    "        self.n_heads = n_heads\n",
    "\n",
    "    def build(self, input_shape):\n",
    "        hidden_size = input_shape[-1]\n",
    "        n_heads = self.n_heads\n",
    "        if hidden_size % n_heads != 0:\n",
    "            raise ValueError(\n",
    "                f\"embedding dimension = {hidden_size} should be divisible by number of heads = {n_heads}\"\n",
    "            )\n",
    "        self.hidden_size = hidden_size\n",
    "        self.projection_dim = hidden_size // n_heads\n",
    "        self.query_dense = tfkl.Dense(hidden_size, name=\"query\")\n",
    "        self.key_dense = tfkl.Dense(hidden_size, name=\"key\")\n",
    "        self.value_dense = tfkl.Dense(hidden_size, name=\"value\")\n",
    "        self.combine_heads = tfkl.Dense(hidden_size, name=\"out\")\n",
    "\n",
    "    # pylint: disable=no-self-use\n",
    "    def attention(self, query, key, value):\n",
    "        score = tf.matmul(query, key, transpose_b=True)\n",
    "        dim_key = tf.cast(tf.shape(key)[-1], score.dtype)\n",
    "        scaled_score = score / tf.math.sqrt(dim_key)\n",
    "        weights = tf.nn.softmax(scaled_score, axis=-1)\n",
    "        output = tf.matmul(weights, value)\n",
    "        return output, weights\n",
    "\n",
    "    def separate_heads(self, x, batch_size):\n",
    "        x = tf.reshape(x, (batch_size, -1, self.n_heads, self.projection_dim))\n",
    "        return tf.transpose(x, perm=[0, 2, 1, 3])\n",
    "\n",
    "    def call(self, inputs):\n",
    "        batch_size = tf.shape(inputs)[0]\n",
    "        query = self.query_dense(inputs)\n",
    "        key = self.key_dense(inputs)\n",
    "        value = self.value_dense(inputs)\n",
    "        query = self.separate_heads(query, batch_size)\n",
    "        key = self.separate_heads(key, batch_size)\n",
    "        value = self.separate_heads(value, batch_size)\n",
    "\n",
    "        attention, weights = self.attention(query, key, value)\n",
    "        attention = tf.transpose(attention, perm=[0, 2, 1, 3])\n",
    "        concat_attention = tf.reshape(attention, (batch_size, -1, self.hidden_size))\n",
    "        output = self.combine_heads(concat_attention)\n",
    "        return output, weights\n",
    "\n",
    "\n",
    "class TransformerBlock(tfkl.Layer):\n",
    "    \"\"\"Implements a Transformer block.\"\"\"\n",
    "\n",
    "    def __init__(self, *args, n_heads, mlp_dim, dropout, trainable=True, **kwargs):\n",
    "        super().__init__(*args, trainable=trainable, **kwargs)\n",
    "        self.n_heads = n_heads\n",
    "        self.mlp_dim = mlp_dim\n",
    "        self.dropout = dropout\n",
    "\n",
    "    def build(self, input_shape):\n",
    "        self.att = MultiHeadSelfAttention(\n",
    "            n_heads=self.n_heads,\n",
    "            name=\"MultiHeadDotProductAttention_1\",\n",
    "        )\n",
    "        self.mlpblock = tfk.Sequential(\n",
    "            [\n",
    "                tfkl.Dense(\n",
    "                    self.mlp_dim, activation=\"linear\", name=f\"{self.name}/Dense_0\"\n",
    "                ),\n",
    "                tfkl.Lambda(lambda x: tfk.activations.gelu(x, approximate=False))\n",
    "                if hasattr(tfk.activations, \"gelu\")\n",
    "                else tfkl.Lambda(lambda x: tfa.activations.gelu(x, approximate=False)),\n",
    "                tfkl.Dropout(self.dropout),\n",
    "                tfkl.Dense(input_shape[-1], name=f\"{self.name}/Dense_1\"),\n",
    "                tfkl.Dropout(self.dropout),\n",
    "            ],\n",
    "            name=\"MlpBlock_3\",\n",
    "        )\n",
    "        self.layernorm1 = tfkl.LayerNormalization(epsilon=1e-6, name=\"LayerNorm_0\")\n",
    "        self.layernorm2 = tfkl.LayerNormalization(epsilon=1e-6, name=\"LayerNorm_2\")\n",
    "        self.dropout = tfkl.Dropout(self.dropout)\n",
    "\n",
    "    def call(self, inputs, training):\n",
    "        x = self.layernorm1(inputs)\n",
    "        x, weights = self.att(x)\n",
    "        x = self.dropout(x, training=training)\n",
    "        x = x + inputs\n",
    "        y = self.layernorm2(x)\n",
    "        y = self.mlpblock(y)\n",
    "        return x + y, weights\n",
    "\n",
    "\n",
    "def resnet_embeddings(x, image_size=224, n_skip=3):\n",
    "    \"\"\"Get resnet embeddings for Decoder\"\"\"\n",
    "    resnet50v2 = tfk.applications.ResNet50V2(\n",
    "        weights=\"imagenet\", include_top=False, input_shape=(image_size, image_size, 3)\n",
    "    )\n",
    "    _ = resnet50v2(x)\n",
    "    layers = [\"conv3_block4_preact_relu\", \"conv2_block3_preact_relu\", \"conv1_conv\"]\n",
    "    features = []\n",
    "    if n_skip > 0:\n",
    "        for l in layers:\n",
    "            features.append(resnet50v2.get_layer(l).output)\n",
    "    return resnet50v2, features"
   ]
  },
  {
   "cell_type": "markdown",
   "id": "cd527f21",
   "metadata": {
    "papermill": {
     "duration": 0.056033,
     "end_time": "2022-06-29T06:16:11.080805",
     "exception": false,
     "start_time": "2022-06-29T06:16:11.024772",
     "status": "completed"
    },
    "tags": []
   },
   "source": [
    "## Decoder\n",
    "Key components of Decoders are,\n",
    "* SegmentationHead\n",
    "* Conv2DReLu\n",
    "* DecoderBlock\n",
    "* DecoderCup"
   ]
  },
  {
   "cell_type": "code",
   "execution_count": 19,
   "id": "71bf3122",
   "metadata": {
    "_kg_hide-input": true,
    "execution": {
     "iopub.execute_input": "2022-06-29T06:16:11.208924Z",
     "iopub.status.busy": "2022-06-29T06:16:11.203574Z",
     "iopub.status.idle": "2022-06-29T06:16:11.221078Z",
     "shell.execute_reply": "2022-06-29T06:16:11.221640Z",
     "shell.execute_reply.started": "2022-06-29T05:51:57.159701Z"
    },
    "papermill": {
     "duration": 0.083972,
     "end_time": "2022-06-29T06:16:11.221861",
     "exception": false,
     "start_time": "2022-06-29T06:16:11.137889",
     "status": "completed"
    },
    "tags": []
   },
   "outputs": [],
   "source": [
    "L2_WEIGHT_DECAY = 1e-4\n",
    "\n",
    "\n",
    "class SegmentationHead(tfkl.Layer):\n",
    "    def __init__(\n",
    "        self,\n",
    "        name=\"seg_head\",\n",
    "        num_classes=9,\n",
    "        kernel_size=1,\n",
    "        final_act=\"sigmoid\",\n",
    "        **kwargs\n",
    "    ):\n",
    "        super(SegmentationHead, self).__init__(name=name, **kwargs)\n",
    "        self.num_classes = num_classes\n",
    "        self.kernel_size = kernel_size\n",
    "        self.final_act = final_act\n",
    "\n",
    "    def build(self, input_shape):\n",
    "        self.conv = tfkl.Conv2D(\n",
    "            filters=self.num_classes,\n",
    "            kernel_size=self.kernel_size,\n",
    "            padding=\"same\",\n",
    "            kernel_regularizer=tfk.regularizers.L2(L2_WEIGHT_DECAY),\n",
    "            kernel_initializer=tfk.initializers.LecunNormal(),\n",
    "        )\n",
    "        self.act = tfkl.Activation(self.final_act)\n",
    "\n",
    "    def call(self, inputs):\n",
    "        x = self.conv(inputs)\n",
    "        x = self.act(x)\n",
    "        return x\n",
    "\n",
    "\n",
    "class Conv2DReLu(tfkl.Layer):\n",
    "    def __init__(self, filters, kernel_size, padding=\"same\", strides=1, **kwargs):\n",
    "        super().__init__(**kwargs)\n",
    "        self.filters = filters\n",
    "        self.kernel_size = kernel_size\n",
    "        self.padding = padding\n",
    "        self.strides = strides\n",
    "\n",
    "    def build(self, input_shape):\n",
    "        self.conv = tfkl.Conv2D(\n",
    "            filters=self.filters,\n",
    "            kernel_size=self.kernel_size,\n",
    "            strides=self.strides,\n",
    "            padding=self.padding,\n",
    "            use_bias=False,\n",
    "            kernel_regularizer=tfk.regularizers.L2(L2_WEIGHT_DECAY),\n",
    "            kernel_initializer=\"lecun_normal\",\n",
    "        )\n",
    "\n",
    "        self.bn = tfkl.BatchNormalization(momentum=0.9, epsilon=1e-5)\n",
    "\n",
    "    def call(self, inputs):\n",
    "        x = self.conv(inputs)\n",
    "        x = self.bn(x)\n",
    "        x = tf.nn.relu(x)\n",
    "        return x\n",
    "\n",
    "\n",
    "class DecoderBlock(tfkl.Layer):\n",
    "    def __init__(self, filters, **kwargs):\n",
    "        super().__init__(**kwargs)\n",
    "        self.filters = filters\n",
    "\n",
    "    def build(self, input_shape):\n",
    "        self.conv1 = Conv2DReLu(filters=self.filters, kernel_size=3)\n",
    "        self.conv2 = Conv2DReLu(filters=self.filters, kernel_size=3)\n",
    "        self.upsampling = tfkl.UpSampling2D(size=2, interpolation=\"bilinear\")\n",
    "\n",
    "    def call(self, inputs, skip=None):\n",
    "        x = self.upsampling(inputs)\n",
    "        if skip is not None:\n",
    "            x = tf.concat([x, skip], axis=-1)\n",
    "        x = self.conv1(x)\n",
    "        x = self.conv2(x)\n",
    "        return x\n",
    "\n",
    "\n",
    "class DecoderCup(tfkl.Layer):\n",
    "    def __init__(self, decoder_channels, n_skip=3, **kwargs):\n",
    "        super().__init__(**kwargs)\n",
    "        self.decoder_channels = decoder_channels\n",
    "        self.n_skip = n_skip\n",
    "\n",
    "    def build(self, input_shape):\n",
    "        self.conv_more = Conv2DReLu(filters=512, kernel_size=3)\n",
    "        self.blocks = [DecoderBlock(filters=out_ch) for out_ch in self.decoder_channels]\n",
    "\n",
    "    def call(self, hidden_states, features):\n",
    "        x = self.conv_more(hidden_states)\n",
    "        for i, decoder_block in enumerate(self.blocks):\n",
    "            if features is not None:\n",
    "                skip = features[i] if (i < self.n_skip) else None\n",
    "            else:\n",
    "                skip = None\n",
    "            x = decoder_block(x, skip=skip)\n",
    "        return x\n"
   ]
  },
  {
   "cell_type": "markdown",
   "id": "600648e8",
   "metadata": {
    "papermill": {
     "duration": 0.056113,
     "end_time": "2022-06-29T06:16:11.335488",
     "exception": false,
     "start_time": "2022-06-29T06:16:11.279375",
     "status": "completed"
    },
    "tags": []
   },
   "source": [
    "## Model\n",
    "* Merge Encoder & Decoder part of TransUNet Model.\n",
    "* You can also ditch so many lines of code above for **TransUNet** model and load model directly using simple two lines of code,\n",
    "```py\n",
    "from transunet import TransUNet\n",
    "model = TransUNet(image_size=224, pretrain=True)\n",
    "```"
   ]
  },
  {
   "cell_type": "code",
   "execution_count": 20,
   "id": "a622405b",
   "metadata": {
    "_kg_hide-input": true,
    "execution": {
     "iopub.execute_input": "2022-06-29T06:16:11.454322Z",
     "iopub.status.busy": "2022-06-29T06:16:11.453512Z",
     "iopub.status.idle": "2022-06-29T06:16:11.470661Z",
     "shell.execute_reply": "2022-06-29T06:16:11.471234Z",
     "shell.execute_reply.started": "2022-06-29T05:51:57.186451Z"
    },
    "papermill": {
     "duration": 0.079306,
     "end_time": "2022-06-29T06:16:11.471466",
     "exception": false,
     "start_time": "2022-06-29T06:16:11.392160",
     "status": "completed"
    },
    "tags": []
   },
   "outputs": [],
   "source": [
    "MODELS_URL = \"https://storage.googleapis.com/vit_models/imagenet21k/\"\n",
    "\n",
    "\n",
    "def load_pretrained(model, fname=\"R50+ViT-B_16.npz\"):\n",
    "    \"\"\"Load model weights for a known configuration.\"\"\"\n",
    "    origin = MODELS_URL + fname\n",
    "    local_filepath = tf.keras.utils.get_file(fname, origin, cache_subdir=\"weights\")\n",
    "    load_weights_numpy(model, local_filepath)\n",
    "\n",
    "\n",
    "def TransUNet(\n",
    "    image_size=224,\n",
    "    patch_size=16,\n",
    "    hybrid=True,\n",
    "    grid=(14, 14),\n",
    "    resnet_n_layers=(3, 4, 9),\n",
    "    hidden_size=768,\n",
    "    n_layers=12,\n",
    "    n_heads=12,\n",
    "    mlp_dim=3072,\n",
    "    dropout=0.1,\n",
    "    decoder_channels=[256, 128, 64, 16],\n",
    "    n_skip=3,\n",
    "    num_classes=3,\n",
    "    final_act=\"sigmoid\",\n",
    "    pretrain=True,\n",
    "    freeze_enc_cnn=True,\n",
    "    name=\"TransUNet\",\n",
    "):\n",
    "    # Tranformer Encoder\n",
    "    assert image_size % patch_size == 0, \"image_size must be a multiple of patch_size\"\n",
    "    x = tf.keras.layers.Input(shape=(image_size, image_size, 3))\n",
    "\n",
    "    #  CNN + Transformer\n",
    "    if hybrid:\n",
    "        grid_size = grid\n",
    "        patch_size = image_size // 16 // grid_size[0]\n",
    "        if patch_size == 0:\n",
    "            patch_size = 1\n",
    "        resnet50v2, features = resnet_embeddings(\n",
    "            x, image_size=image_size, n_skip=n_skip\n",
    "        )\n",
    "        if freeze_enc_cnn:\n",
    "            resnet50v2.trainable = False\n",
    "        y = resnet50v2.get_layer(\"conv4_block6_preact_relu\").output\n",
    "        x = resnet50v2.input\n",
    "    else:\n",
    "        y = x\n",
    "        features = None\n",
    "\n",
    "    y = tfkl.Conv2D(\n",
    "        filters=hidden_size,\n",
    "        kernel_size=patch_size,\n",
    "        strides=patch_size,\n",
    "        padding=\"valid\",\n",
    "        name=\"embedding\",\n",
    "        trainable=not freeze_enc_cnn,\n",
    "    )(y)\n",
    "    y = tfkl.Reshape((y.shape[1] * y.shape[2], hidden_size))(y)\n",
    "    y = AddPositionEmbs(name=\"Transformer/posembed_input\", trainable=True)(y)\n",
    "\n",
    "    y = tfkl.Dropout(0.1)(y)\n",
    "\n",
    "    # Transformer/Encoder\n",
    "    for n in range(n_layers):\n",
    "        y, _ = TransformerBlock(\n",
    "            n_heads=n_heads,\n",
    "            mlp_dim=mlp_dim,\n",
    "            dropout=dropout,\n",
    "            name=f\"Transformer/encoderblock_{n}\",\n",
    "            trainable=True,\n",
    "        )(y)\n",
    "    y = tfkl.LayerNormalization(epsilon=1e-6, name=\"Transformer/encoder_norm\")(y)\n",
    "\n",
    "    n_patch_sqrt = int(math.sqrt(y.shape[1]))\n",
    "\n",
    "    y = tfkl.Reshape(target_shape=[n_patch_sqrt, n_patch_sqrt, hidden_size])(y)\n",
    "\n",
    "    # Decoder\n",
    "    if len(decoder_channels):\n",
    "        y = DecoderCup(decoder_channels=decoder_channels, n_skip=n_skip)(y, features)\n",
    "\n",
    "    # Segmentation Head\n",
    "    y = SegmentationHead(num_classes=num_classes, final_act=final_act)(y)\n",
    "\n",
    "    # Build Model\n",
    "    model = tfk.models.Model(inputs=x, outputs=y, name=name)\n",
    "\n",
    "    # Load Pretrain Weights\n",
    "    if pretrain:\n",
    "        load_pretrained(model)\n",
    "\n",
    "    return model"
   ]
  },
  {
   "cell_type": "markdown",
   "id": "af7d5942",
   "metadata": {
    "papermill": {
     "duration": 0.055862,
     "end_time": "2022-06-29T06:16:11.584132",
     "exception": false,
     "start_time": "2022-06-29T06:16:11.528270",
     "status": "completed"
    },
    "tags": []
   },
   "source": [
    "## Build Model\n",
    "* Build complete model.\n",
    "* Select Loss, LR_Scheduling, Metrics and so on.\n",
    "* Compile model for training."
   ]
  },
  {
   "cell_type": "code",
   "execution_count": 21,
   "id": "b87e1dc0",
   "metadata": {
    "execution": {
     "iopub.execute_input": "2022-06-29T06:16:11.701205Z",
     "iopub.status.busy": "2022-06-29T06:16:11.700494Z",
     "iopub.status.idle": "2022-06-29T06:16:11.707649Z",
     "shell.execute_reply": "2022-06-29T06:16:11.708115Z",
     "shell.execute_reply.started": "2022-06-29T05:51:57.206578Z"
    },
    "papermill": {
     "duration": 0.068131,
     "end_time": "2022-06-29T06:16:11.708336",
     "exception": false,
     "start_time": "2022-06-29T06:16:11.640205",
     "status": "completed"
    },
    "tags": []
   },
   "outputs": [],
   "source": [
    "def get_model(name=CFG.model_name, loss=CFG.loss, backbone=CFG.backbone):\n",
    "    model = TransUNet(image_size=CFG.img_size[0], freeze_enc_cnn=False, pretrain=True)\n",
    "\n",
    "    lr = CFG.lr\n",
    "    if CFG.optimizer == \"Adam\":\n",
    "        opt = tf.keras.optimizers.Adam(learning_rate=lr)\n",
    "    elif CFG.optimizer == \"AdamW\":\n",
    "        opt = tfa.optimizers.AdamW(learning_rate=lr, weight_decay=lr)\n",
    "    elif CFG.optimizer == \"RectifiedAdam\":\n",
    "        opt = tfa.optimizers.RectifiedAdam(learning_rate=lr)\n",
    "    else:\n",
    "        raise ValueError(\"Wrong Optimzer Name\")\n",
    "\n",
    "    model.compile(\n",
    "        optimizer=opt,\n",
    "        loss=loss,\n",
    "        steps_per_execution=CFG.steps_per_execution, # to reduce idle time\n",
    "        metrics=[\n",
    "            dice_coef,\n",
    "            \"precision\",\n",
    "            \"recall\",\n",
    "        ],\n",
    "    )\n",
    "    return model"
   ]
  },
  {
   "cell_type": "code",
   "execution_count": 22,
   "id": "31ea61d9",
   "metadata": {
    "_kg_hide-output": true,
    "execution": {
     "iopub.execute_input": "2022-06-29T06:16:11.824943Z",
     "iopub.status.busy": "2022-06-29T06:16:11.824255Z",
     "iopub.status.idle": "2022-06-29T06:16:27.060880Z",
     "shell.execute_reply": "2022-06-29T06:16:27.061509Z",
     "shell.execute_reply.started": "2022-06-29T05:51:57.220126Z"
    },
    "papermill": {
     "duration": 15.297562,
     "end_time": "2022-06-29T06:16:27.061722",
     "exception": false,
     "start_time": "2022-06-29T06:16:11.764160",
     "status": "completed"
    },
    "tags": []
   },
   "outputs": [
    {
     "name": "stdout",
     "output_type": "stream",
     "text": [
      "Downloading data from https://storage.googleapis.com/tensorflow/keras-applications/resnet/resnet50v2_weights_tf_dim_ordering_tf_kernels_notop.h5\n",
      "94674944/94668760 [==============================] - 1s 0us/step\n",
      "Downloading data from https://storage.googleapis.com/vit_models/imagenet21k/R50+ViT-B_16.npz\n",
      "461217792/461217452 [==============================] - 5s 0us/step\n"
     ]
    },
    {
     "name": "stderr",
     "output_type": "stream",
     "text": [
      "/opt/conda/lib/python3.7/site-packages/ipykernel_launcher.py:21: UserWarning: Resizing position embeddings from 14 to 8\n"
     ]
    },
    {
     "name": "stdout",
     "output_type": "stream",
     "text": [
      "Model: \"TransUNet\"\n",
      "__________________________________________________________________________________________________\n",
      "Layer (type)                    Output Shape         Param #     Connected to                     \n",
      "==================================================================================================\n",
      "input_2 (InputLayer)            [(None, 128, 128, 3) 0                                            \n",
      "__________________________________________________________________________________________________\n",
      "conv1_pad (ZeroPadding2D)       (None, 134, 134, 3)  0           input_2[0][0]                    \n",
      "__________________________________________________________________________________________________\n",
      "conv1_conv (Conv2D)             (None, 64, 64, 64)   9472        conv1_pad[0][0]                  \n",
      "__________________________________________________________________________________________________\n",
      "pool1_pad (ZeroPadding2D)       (None, 66, 66, 64)   0           conv1_conv[0][0]                 \n",
      "__________________________________________________________________________________________________\n",
      "pool1_pool (MaxPooling2D)       (None, 32, 32, 64)   0           pool1_pad[0][0]                  \n",
      "__________________________________________________________________________________________________\n",
      "conv2_block1_preact_bn (BatchNo (None, 32, 32, 64)   256         pool1_pool[0][0]                 \n",
      "__________________________________________________________________________________________________\n",
      "conv2_block1_preact_relu (Activ (None, 32, 32, 64)   0           conv2_block1_preact_bn[0][0]     \n",
      "__________________________________________________________________________________________________\n",
      "conv2_block1_1_conv (Conv2D)    (None, 32, 32, 64)   4096        conv2_block1_preact_relu[0][0]   \n",
      "__________________________________________________________________________________________________\n",
      "conv2_block1_1_bn (BatchNormali (None, 32, 32, 64)   256         conv2_block1_1_conv[0][0]        \n",
      "__________________________________________________________________________________________________\n",
      "conv2_block1_1_relu (Activation (None, 32, 32, 64)   0           conv2_block1_1_bn[0][0]          \n",
      "__________________________________________________________________________________________________\n",
      "conv2_block1_2_pad (ZeroPadding (None, 34, 34, 64)   0           conv2_block1_1_relu[0][0]        \n",
      "__________________________________________________________________________________________________\n",
      "conv2_block1_2_conv (Conv2D)    (None, 32, 32, 64)   36864       conv2_block1_2_pad[0][0]         \n",
      "__________________________________________________________________________________________________\n",
      "conv2_block1_2_bn (BatchNormali (None, 32, 32, 64)   256         conv2_block1_2_conv[0][0]        \n",
      "__________________________________________________________________________________________________\n",
      "conv2_block1_2_relu (Activation (None, 32, 32, 64)   0           conv2_block1_2_bn[0][0]          \n",
      "__________________________________________________________________________________________________\n",
      "conv2_block1_0_conv (Conv2D)    (None, 32, 32, 256)  16640       conv2_block1_preact_relu[0][0]   \n",
      "__________________________________________________________________________________________________\n",
      "conv2_block1_3_conv (Conv2D)    (None, 32, 32, 256)  16640       conv2_block1_2_relu[0][0]        \n",
      "__________________________________________________________________________________________________\n",
      "conv2_block1_out (Add)          (None, 32, 32, 256)  0           conv2_block1_0_conv[0][0]        \n",
      "                                                                 conv2_block1_3_conv[0][0]        \n",
      "__________________________________________________________________________________________________\n",
      "conv2_block2_preact_bn (BatchNo (None, 32, 32, 256)  1024        conv2_block1_out[0][0]           \n",
      "__________________________________________________________________________________________________\n",
      "conv2_block2_preact_relu (Activ (None, 32, 32, 256)  0           conv2_block2_preact_bn[0][0]     \n",
      "__________________________________________________________________________________________________\n",
      "conv2_block2_1_conv (Conv2D)    (None, 32, 32, 64)   16384       conv2_block2_preact_relu[0][0]   \n",
      "__________________________________________________________________________________________________\n",
      "conv2_block2_1_bn (BatchNormali (None, 32, 32, 64)   256         conv2_block2_1_conv[0][0]        \n",
      "__________________________________________________________________________________________________\n",
      "conv2_block2_1_relu (Activation (None, 32, 32, 64)   0           conv2_block2_1_bn[0][0]          \n",
      "__________________________________________________________________________________________________\n",
      "conv2_block2_2_pad (ZeroPadding (None, 34, 34, 64)   0           conv2_block2_1_relu[0][0]        \n",
      "__________________________________________________________________________________________________\n",
      "conv2_block2_2_conv (Conv2D)    (None, 32, 32, 64)   36864       conv2_block2_2_pad[0][0]         \n",
      "__________________________________________________________________________________________________\n",
      "conv2_block2_2_bn (BatchNormali (None, 32, 32, 64)   256         conv2_block2_2_conv[0][0]        \n",
      "__________________________________________________________________________________________________\n",
      "conv2_block2_2_relu (Activation (None, 32, 32, 64)   0           conv2_block2_2_bn[0][0]          \n",
      "__________________________________________________________________________________________________\n",
      "conv2_block2_3_conv (Conv2D)    (None, 32, 32, 256)  16640       conv2_block2_2_relu[0][0]        \n",
      "__________________________________________________________________________________________________\n",
      "conv2_block2_out (Add)          (None, 32, 32, 256)  0           conv2_block1_out[0][0]           \n",
      "                                                                 conv2_block2_3_conv[0][0]        \n",
      "__________________________________________________________________________________________________\n",
      "conv2_block3_preact_bn (BatchNo (None, 32, 32, 256)  1024        conv2_block2_out[0][0]           \n",
      "__________________________________________________________________________________________________\n",
      "conv2_block3_preact_relu (Activ (None, 32, 32, 256)  0           conv2_block3_preact_bn[0][0]     \n",
      "__________________________________________________________________________________________________\n",
      "conv2_block3_1_conv (Conv2D)    (None, 32, 32, 64)   16384       conv2_block3_preact_relu[0][0]   \n",
      "__________________________________________________________________________________________________\n",
      "conv2_block3_1_bn (BatchNormali (None, 32, 32, 64)   256         conv2_block3_1_conv[0][0]        \n",
      "__________________________________________________________________________________________________\n",
      "conv2_block3_1_relu (Activation (None, 32, 32, 64)   0           conv2_block3_1_bn[0][0]          \n",
      "__________________________________________________________________________________________________\n",
      "conv2_block3_2_pad (ZeroPadding (None, 34, 34, 64)   0           conv2_block3_1_relu[0][0]        \n",
      "__________________________________________________________________________________________________\n",
      "conv2_block3_2_conv (Conv2D)    (None, 16, 16, 64)   36864       conv2_block3_2_pad[0][0]         \n",
      "__________________________________________________________________________________________________\n",
      "conv2_block3_2_bn (BatchNormali (None, 16, 16, 64)   256         conv2_block3_2_conv[0][0]        \n",
      "__________________________________________________________________________________________________\n",
      "conv2_block3_2_relu (Activation (None, 16, 16, 64)   0           conv2_block3_2_bn[0][0]          \n",
      "__________________________________________________________________________________________________\n",
      "max_pooling2d (MaxPooling2D)    (None, 16, 16, 256)  0           conv2_block2_out[0][0]           \n",
      "__________________________________________________________________________________________________\n",
      "conv2_block3_3_conv (Conv2D)    (None, 16, 16, 256)  16640       conv2_block3_2_relu[0][0]        \n",
      "__________________________________________________________________________________________________\n",
      "conv2_block3_out (Add)          (None, 16, 16, 256)  0           max_pooling2d[0][0]              \n",
      "                                                                 conv2_block3_3_conv[0][0]        \n",
      "__________________________________________________________________________________________________\n",
      "conv3_block1_preact_bn (BatchNo (None, 16, 16, 256)  1024        conv2_block3_out[0][0]           \n",
      "__________________________________________________________________________________________________\n",
      "conv3_block1_preact_relu (Activ (None, 16, 16, 256)  0           conv3_block1_preact_bn[0][0]     \n",
      "__________________________________________________________________________________________________\n",
      "conv3_block1_1_conv (Conv2D)    (None, 16, 16, 128)  32768       conv3_block1_preact_relu[0][0]   \n",
      "__________________________________________________________________________________________________\n",
      "conv3_block1_1_bn (BatchNormali (None, 16, 16, 128)  512         conv3_block1_1_conv[0][0]        \n",
      "__________________________________________________________________________________________________\n",
      "conv3_block1_1_relu (Activation (None, 16, 16, 128)  0           conv3_block1_1_bn[0][0]          \n",
      "__________________________________________________________________________________________________\n",
      "conv3_block1_2_pad (ZeroPadding (None, 18, 18, 128)  0           conv3_block1_1_relu[0][0]        \n",
      "__________________________________________________________________________________________________\n",
      "conv3_block1_2_conv (Conv2D)    (None, 16, 16, 128)  147456      conv3_block1_2_pad[0][0]         \n",
      "__________________________________________________________________________________________________\n",
      "conv3_block1_2_bn (BatchNormali (None, 16, 16, 128)  512         conv3_block1_2_conv[0][0]        \n",
      "__________________________________________________________________________________________________\n",
      "conv3_block1_2_relu (Activation (None, 16, 16, 128)  0           conv3_block1_2_bn[0][0]          \n",
      "__________________________________________________________________________________________________\n",
      "conv3_block1_0_conv (Conv2D)    (None, 16, 16, 512)  131584      conv3_block1_preact_relu[0][0]   \n",
      "__________________________________________________________________________________________________\n",
      "conv3_block1_3_conv (Conv2D)    (None, 16, 16, 512)  66048       conv3_block1_2_relu[0][0]        \n",
      "__________________________________________________________________________________________________\n",
      "conv3_block1_out (Add)          (None, 16, 16, 512)  0           conv3_block1_0_conv[0][0]        \n",
      "                                                                 conv3_block1_3_conv[0][0]        \n",
      "__________________________________________________________________________________________________\n",
      "conv3_block2_preact_bn (BatchNo (None, 16, 16, 512)  2048        conv3_block1_out[0][0]           \n",
      "__________________________________________________________________________________________________\n",
      "conv3_block2_preact_relu (Activ (None, 16, 16, 512)  0           conv3_block2_preact_bn[0][0]     \n",
      "__________________________________________________________________________________________________\n",
      "conv3_block2_1_conv (Conv2D)    (None, 16, 16, 128)  65536       conv3_block2_preact_relu[0][0]   \n",
      "__________________________________________________________________________________________________\n",
      "conv3_block2_1_bn (BatchNormali (None, 16, 16, 128)  512         conv3_block2_1_conv[0][0]        \n",
      "__________________________________________________________________________________________________\n",
      "conv3_block2_1_relu (Activation (None, 16, 16, 128)  0           conv3_block2_1_bn[0][0]          \n",
      "__________________________________________________________________________________________________\n",
      "conv3_block2_2_pad (ZeroPadding (None, 18, 18, 128)  0           conv3_block2_1_relu[0][0]        \n",
      "__________________________________________________________________________________________________\n",
      "conv3_block2_2_conv (Conv2D)    (None, 16, 16, 128)  147456      conv3_block2_2_pad[0][0]         \n",
      "__________________________________________________________________________________________________\n",
      "conv3_block2_2_bn (BatchNormali (None, 16, 16, 128)  512         conv3_block2_2_conv[0][0]        \n",
      "__________________________________________________________________________________________________\n",
      "conv3_block2_2_relu (Activation (None, 16, 16, 128)  0           conv3_block2_2_bn[0][0]          \n",
      "__________________________________________________________________________________________________\n",
      "conv3_block2_3_conv (Conv2D)    (None, 16, 16, 512)  66048       conv3_block2_2_relu[0][0]        \n",
      "__________________________________________________________________________________________________\n",
      "conv3_block2_out (Add)          (None, 16, 16, 512)  0           conv3_block1_out[0][0]           \n",
      "                                                                 conv3_block2_3_conv[0][0]        \n",
      "__________________________________________________________________________________________________\n",
      "conv3_block3_preact_bn (BatchNo (None, 16, 16, 512)  2048        conv3_block2_out[0][0]           \n",
      "__________________________________________________________________________________________________\n",
      "conv3_block3_preact_relu (Activ (None, 16, 16, 512)  0           conv3_block3_preact_bn[0][0]     \n",
      "__________________________________________________________________________________________________\n",
      "conv3_block3_1_conv (Conv2D)    (None, 16, 16, 128)  65536       conv3_block3_preact_relu[0][0]   \n",
      "__________________________________________________________________________________________________\n",
      "conv3_block3_1_bn (BatchNormali (None, 16, 16, 128)  512         conv3_block3_1_conv[0][0]        \n",
      "__________________________________________________________________________________________________\n",
      "conv3_block3_1_relu (Activation (None, 16, 16, 128)  0           conv3_block3_1_bn[0][0]          \n",
      "__________________________________________________________________________________________________\n",
      "conv3_block3_2_pad (ZeroPadding (None, 18, 18, 128)  0           conv3_block3_1_relu[0][0]        \n",
      "__________________________________________________________________________________________________\n",
      "conv3_block3_2_conv (Conv2D)    (None, 16, 16, 128)  147456      conv3_block3_2_pad[0][0]         \n",
      "__________________________________________________________________________________________________\n",
      "conv3_block3_2_bn (BatchNormali (None, 16, 16, 128)  512         conv3_block3_2_conv[0][0]        \n",
      "__________________________________________________________________________________________________\n",
      "conv3_block3_2_relu (Activation (None, 16, 16, 128)  0           conv3_block3_2_bn[0][0]          \n",
      "__________________________________________________________________________________________________\n",
      "conv3_block3_3_conv (Conv2D)    (None, 16, 16, 512)  66048       conv3_block3_2_relu[0][0]        \n",
      "__________________________________________________________________________________________________\n",
      "conv3_block3_out (Add)          (None, 16, 16, 512)  0           conv3_block2_out[0][0]           \n",
      "                                                                 conv3_block3_3_conv[0][0]        \n",
      "__________________________________________________________________________________________________\n",
      "conv3_block4_preact_bn (BatchNo (None, 16, 16, 512)  2048        conv3_block3_out[0][0]           \n",
      "__________________________________________________________________________________________________\n",
      "conv3_block4_preact_relu (Activ (None, 16, 16, 512)  0           conv3_block4_preact_bn[0][0]     \n",
      "__________________________________________________________________________________________________\n",
      "conv3_block4_1_conv (Conv2D)    (None, 16, 16, 128)  65536       conv3_block4_preact_relu[0][0]   \n",
      "__________________________________________________________________________________________________\n",
      "conv3_block4_1_bn (BatchNormali (None, 16, 16, 128)  512         conv3_block4_1_conv[0][0]        \n",
      "__________________________________________________________________________________________________\n",
      "conv3_block4_1_relu (Activation (None, 16, 16, 128)  0           conv3_block4_1_bn[0][0]          \n",
      "__________________________________________________________________________________________________\n",
      "conv3_block4_2_pad (ZeroPadding (None, 18, 18, 128)  0           conv3_block4_1_relu[0][0]        \n",
      "__________________________________________________________________________________________________\n",
      "conv3_block4_2_conv (Conv2D)    (None, 8, 8, 128)    147456      conv3_block4_2_pad[0][0]         \n",
      "__________________________________________________________________________________________________\n",
      "conv3_block4_2_bn (BatchNormali (None, 8, 8, 128)    512         conv3_block4_2_conv[0][0]        \n",
      "__________________________________________________________________________________________________\n",
      "conv3_block4_2_relu (Activation (None, 8, 8, 128)    0           conv3_block4_2_bn[0][0]          \n",
      "__________________________________________________________________________________________________\n",
      "max_pooling2d_1 (MaxPooling2D)  (None, 8, 8, 512)    0           conv3_block3_out[0][0]           \n",
      "__________________________________________________________________________________________________\n",
      "conv3_block4_3_conv (Conv2D)    (None, 8, 8, 512)    66048       conv3_block4_2_relu[0][0]        \n",
      "__________________________________________________________________________________________________\n",
      "conv3_block4_out (Add)          (None, 8, 8, 512)    0           max_pooling2d_1[0][0]            \n",
      "                                                                 conv3_block4_3_conv[0][0]        \n",
      "__________________________________________________________________________________________________\n",
      "conv4_block1_preact_bn (BatchNo (None, 8, 8, 512)    2048        conv3_block4_out[0][0]           \n",
      "__________________________________________________________________________________________________\n",
      "conv4_block1_preact_relu (Activ (None, 8, 8, 512)    0           conv4_block1_preact_bn[0][0]     \n",
      "__________________________________________________________________________________________________\n",
      "conv4_block1_1_conv (Conv2D)    (None, 8, 8, 256)    131072      conv4_block1_preact_relu[0][0]   \n",
      "__________________________________________________________________________________________________\n",
      "conv4_block1_1_bn (BatchNormali (None, 8, 8, 256)    1024        conv4_block1_1_conv[0][0]        \n",
      "__________________________________________________________________________________________________\n",
      "conv4_block1_1_relu (Activation (None, 8, 8, 256)    0           conv4_block1_1_bn[0][0]          \n",
      "__________________________________________________________________________________________________\n",
      "conv4_block1_2_pad (ZeroPadding (None, 10, 10, 256)  0           conv4_block1_1_relu[0][0]        \n",
      "__________________________________________________________________________________________________\n",
      "conv4_block1_2_conv (Conv2D)    (None, 8, 8, 256)    589824      conv4_block1_2_pad[0][0]         \n",
      "__________________________________________________________________________________________________\n",
      "conv4_block1_2_bn (BatchNormali (None, 8, 8, 256)    1024        conv4_block1_2_conv[0][0]        \n",
      "__________________________________________________________________________________________________\n",
      "conv4_block1_2_relu (Activation (None, 8, 8, 256)    0           conv4_block1_2_bn[0][0]          \n",
      "__________________________________________________________________________________________________\n",
      "conv4_block1_0_conv (Conv2D)    (None, 8, 8, 1024)   525312      conv4_block1_preact_relu[0][0]   \n",
      "__________________________________________________________________________________________________\n",
      "conv4_block1_3_conv (Conv2D)    (None, 8, 8, 1024)   263168      conv4_block1_2_relu[0][0]        \n",
      "__________________________________________________________________________________________________\n",
      "conv4_block1_out (Add)          (None, 8, 8, 1024)   0           conv4_block1_0_conv[0][0]        \n",
      "                                                                 conv4_block1_3_conv[0][0]        \n",
      "__________________________________________________________________________________________________\n",
      "conv4_block2_preact_bn (BatchNo (None, 8, 8, 1024)   4096        conv4_block1_out[0][0]           \n",
      "__________________________________________________________________________________________________\n",
      "conv4_block2_preact_relu (Activ (None, 8, 8, 1024)   0           conv4_block2_preact_bn[0][0]     \n",
      "__________________________________________________________________________________________________\n",
      "conv4_block2_1_conv (Conv2D)    (None, 8, 8, 256)    262144      conv4_block2_preact_relu[0][0]   \n",
      "__________________________________________________________________________________________________\n",
      "conv4_block2_1_bn (BatchNormali (None, 8, 8, 256)    1024        conv4_block2_1_conv[0][0]        \n",
      "__________________________________________________________________________________________________\n",
      "conv4_block2_1_relu (Activation (None, 8, 8, 256)    0           conv4_block2_1_bn[0][0]          \n",
      "__________________________________________________________________________________________________\n",
      "conv4_block2_2_pad (ZeroPadding (None, 10, 10, 256)  0           conv4_block2_1_relu[0][0]        \n",
      "__________________________________________________________________________________________________\n",
      "conv4_block2_2_conv (Conv2D)    (None, 8, 8, 256)    589824      conv4_block2_2_pad[0][0]         \n",
      "__________________________________________________________________________________________________\n",
      "conv4_block2_2_bn (BatchNormali (None, 8, 8, 256)    1024        conv4_block2_2_conv[0][0]        \n",
      "__________________________________________________________________________________________________\n",
      "conv4_block2_2_relu (Activation (None, 8, 8, 256)    0           conv4_block2_2_bn[0][0]          \n",
      "__________________________________________________________________________________________________\n",
      "conv4_block2_3_conv (Conv2D)    (None, 8, 8, 1024)   263168      conv4_block2_2_relu[0][0]        \n",
      "__________________________________________________________________________________________________\n",
      "conv4_block2_out (Add)          (None, 8, 8, 1024)   0           conv4_block1_out[0][0]           \n",
      "                                                                 conv4_block2_3_conv[0][0]        \n",
      "__________________________________________________________________________________________________\n",
      "conv4_block3_preact_bn (BatchNo (None, 8, 8, 1024)   4096        conv4_block2_out[0][0]           \n",
      "__________________________________________________________________________________________________\n",
      "conv4_block3_preact_relu (Activ (None, 8, 8, 1024)   0           conv4_block3_preact_bn[0][0]     \n",
      "__________________________________________________________________________________________________\n",
      "conv4_block3_1_conv (Conv2D)    (None, 8, 8, 256)    262144      conv4_block3_preact_relu[0][0]   \n",
      "__________________________________________________________________________________________________\n",
      "conv4_block3_1_bn (BatchNormali (None, 8, 8, 256)    1024        conv4_block3_1_conv[0][0]        \n",
      "__________________________________________________________________________________________________\n",
      "conv4_block3_1_relu (Activation (None, 8, 8, 256)    0           conv4_block3_1_bn[0][0]          \n",
      "__________________________________________________________________________________________________\n",
      "conv4_block3_2_pad (ZeroPadding (None, 10, 10, 256)  0           conv4_block3_1_relu[0][0]        \n",
      "__________________________________________________________________________________________________\n",
      "conv4_block3_2_conv (Conv2D)    (None, 8, 8, 256)    589824      conv4_block3_2_pad[0][0]         \n",
      "__________________________________________________________________________________________________\n",
      "conv4_block3_2_bn (BatchNormali (None, 8, 8, 256)    1024        conv4_block3_2_conv[0][0]        \n",
      "__________________________________________________________________________________________________\n",
      "conv4_block3_2_relu (Activation (None, 8, 8, 256)    0           conv4_block3_2_bn[0][0]          \n",
      "__________________________________________________________________________________________________\n",
      "conv4_block3_3_conv (Conv2D)    (None, 8, 8, 1024)   263168      conv4_block3_2_relu[0][0]        \n",
      "__________________________________________________________________________________________________\n",
      "conv4_block3_out (Add)          (None, 8, 8, 1024)   0           conv4_block2_out[0][0]           \n",
      "                                                                 conv4_block3_3_conv[0][0]        \n",
      "__________________________________________________________________________________________________\n",
      "conv4_block4_preact_bn (BatchNo (None, 8, 8, 1024)   4096        conv4_block3_out[0][0]           \n",
      "__________________________________________________________________________________________________\n",
      "conv4_block4_preact_relu (Activ (None, 8, 8, 1024)   0           conv4_block4_preact_bn[0][0]     \n",
      "__________________________________________________________________________________________________\n",
      "conv4_block4_1_conv (Conv2D)    (None, 8, 8, 256)    262144      conv4_block4_preact_relu[0][0]   \n",
      "__________________________________________________________________________________________________\n",
      "conv4_block4_1_bn (BatchNormali (None, 8, 8, 256)    1024        conv4_block4_1_conv[0][0]        \n",
      "__________________________________________________________________________________________________\n",
      "conv4_block4_1_relu (Activation (None, 8, 8, 256)    0           conv4_block4_1_bn[0][0]          \n",
      "__________________________________________________________________________________________________\n",
      "conv4_block4_2_pad (ZeroPadding (None, 10, 10, 256)  0           conv4_block4_1_relu[0][0]        \n",
      "__________________________________________________________________________________________________\n",
      "conv4_block4_2_conv (Conv2D)    (None, 8, 8, 256)    589824      conv4_block4_2_pad[0][0]         \n",
      "__________________________________________________________________________________________________\n",
      "conv4_block4_2_bn (BatchNormali (None, 8, 8, 256)    1024        conv4_block4_2_conv[0][0]        \n",
      "__________________________________________________________________________________________________\n",
      "conv4_block4_2_relu (Activation (None, 8, 8, 256)    0           conv4_block4_2_bn[0][0]          \n",
      "__________________________________________________________________________________________________\n",
      "conv4_block4_3_conv (Conv2D)    (None, 8, 8, 1024)   263168      conv4_block4_2_relu[0][0]        \n",
      "__________________________________________________________________________________________________\n",
      "conv4_block4_out (Add)          (None, 8, 8, 1024)   0           conv4_block3_out[0][0]           \n",
      "                                                                 conv4_block4_3_conv[0][0]        \n",
      "__________________________________________________________________________________________________\n",
      "conv4_block5_preact_bn (BatchNo (None, 8, 8, 1024)   4096        conv4_block4_out[0][0]           \n",
      "__________________________________________________________________________________________________\n",
      "conv4_block5_preact_relu (Activ (None, 8, 8, 1024)   0           conv4_block5_preact_bn[0][0]     \n",
      "__________________________________________________________________________________________________\n",
      "conv4_block5_1_conv (Conv2D)    (None, 8, 8, 256)    262144      conv4_block5_preact_relu[0][0]   \n",
      "__________________________________________________________________________________________________\n",
      "conv4_block5_1_bn (BatchNormali (None, 8, 8, 256)    1024        conv4_block5_1_conv[0][0]        \n",
      "__________________________________________________________________________________________________\n",
      "conv4_block5_1_relu (Activation (None, 8, 8, 256)    0           conv4_block5_1_bn[0][0]          \n",
      "__________________________________________________________________________________________________\n",
      "conv4_block5_2_pad (ZeroPadding (None, 10, 10, 256)  0           conv4_block5_1_relu[0][0]        \n",
      "__________________________________________________________________________________________________\n",
      "conv4_block5_2_conv (Conv2D)    (None, 8, 8, 256)    589824      conv4_block5_2_pad[0][0]         \n",
      "__________________________________________________________________________________________________\n",
      "conv4_block5_2_bn (BatchNormali (None, 8, 8, 256)    1024        conv4_block5_2_conv[0][0]        \n",
      "__________________________________________________________________________________________________\n",
      "conv4_block5_2_relu (Activation (None, 8, 8, 256)    0           conv4_block5_2_bn[0][0]          \n",
      "__________________________________________________________________________________________________\n",
      "conv4_block5_3_conv (Conv2D)    (None, 8, 8, 1024)   263168      conv4_block5_2_relu[0][0]        \n",
      "__________________________________________________________________________________________________\n",
      "conv4_block5_out (Add)          (None, 8, 8, 1024)   0           conv4_block4_out[0][0]           \n",
      "                                                                 conv4_block5_3_conv[0][0]        \n",
      "__________________________________________________________________________________________________\n",
      "conv4_block6_preact_bn (BatchNo (None, 8, 8, 1024)   4096        conv4_block5_out[0][0]           \n",
      "__________________________________________________________________________________________________\n",
      "conv4_block6_preact_relu (Activ (None, 8, 8, 1024)   0           conv4_block6_preact_bn[0][0]     \n",
      "__________________________________________________________________________________________________\n",
      "embedding (Conv2D)              (None, 8, 8, 768)    787200      conv4_block6_preact_relu[0][0]   \n",
      "__________________________________________________________________________________________________\n",
      "reshape (Reshape)               (None, 64, 768)      0           embedding[0][0]                  \n",
      "__________________________________________________________________________________________________\n",
      "Transformer/posembed_input (Add (None, 64, 768)      49152       reshape[0][0]                    \n",
      "__________________________________________________________________________________________________\n",
      "dropout (Dropout)               (None, 64, 768)      0           Transformer/posembed_input[0][0] \n",
      "__________________________________________________________________________________________________\n",
      "Transformer/encoderblock_0 (Tra ((None, 64, 768), (N 7087872     dropout[0][0]                    \n",
      "__________________________________________________________________________________________________\n",
      "Transformer/encoderblock_1 (Tra ((None, 64, 768), (N 7087872     Transformer/encoderblock_0[0][0] \n",
      "__________________________________________________________________________________________________\n",
      "Transformer/encoderblock_2 (Tra ((None, 64, 768), (N 7087872     Transformer/encoderblock_1[0][0] \n",
      "__________________________________________________________________________________________________\n",
      "Transformer/encoderblock_3 (Tra ((None, 64, 768), (N 7087872     Transformer/encoderblock_2[0][0] \n",
      "__________________________________________________________________________________________________\n",
      "Transformer/encoderblock_4 (Tra ((None, 64, 768), (N 7087872     Transformer/encoderblock_3[0][0] \n",
      "__________________________________________________________________________________________________\n",
      "Transformer/encoderblock_5 (Tra ((None, 64, 768), (N 7087872     Transformer/encoderblock_4[0][0] \n",
      "__________________________________________________________________________________________________\n",
      "Transformer/encoderblock_6 (Tra ((None, 64, 768), (N 7087872     Transformer/encoderblock_5[0][0] \n",
      "__________________________________________________________________________________________________\n",
      "Transformer/encoderblock_7 (Tra ((None, 64, 768), (N 7087872     Transformer/encoderblock_6[0][0] \n",
      "__________________________________________________________________________________________________\n",
      "Transformer/encoderblock_8 (Tra ((None, 64, 768), (N 7087872     Transformer/encoderblock_7[0][0] \n",
      "__________________________________________________________________________________________________\n",
      "Transformer/encoderblock_9 (Tra ((None, 64, 768), (N 7087872     Transformer/encoderblock_8[0][0] \n",
      "__________________________________________________________________________________________________\n",
      "Transformer/encoderblock_10 (Tr ((None, 64, 768), (N 7087872     Transformer/encoderblock_9[0][0] \n",
      "__________________________________________________________________________________________________\n",
      "Transformer/encoderblock_11 (Tr ((None, 64, 768), (N 7087872     Transformer/encoderblock_10[0][0]\n",
      "__________________________________________________________________________________________________\n",
      "Transformer/encoder_norm (Layer (None, 64, 768)      1536        Transformer/encoderblock_11[0][0]\n",
      "__________________________________________________________________________________________________\n",
      "reshape_1 (Reshape)             (None, 8, 8, 768)    0           Transformer/encoder_norm[0][0]   \n",
      "__________________________________________________________________________________________________\n",
      "decoder_cup (DecoderCup)        (None, 128, 128, 16) 7390080     reshape_1[0][0]                  \n",
      "                                                                 conv3_block4_preact_relu[0][0]   \n",
      "                                                                 conv2_block3_preact_relu[0][0]   \n",
      "                                                                 conv1_conv[0][0]                 \n",
      "__________________________________________________________________________________________________\n",
      "seg_head (SegmentationHead)     (None, 128, 128, 3)  51          decoder_cup[0][0]                \n",
      "==================================================================================================\n",
      "Total params: 100,738,739\n",
      "Trainable params: 100,711,923\n",
      "Non-trainable params: 26,816\n",
      "__________________________________________________________________________________________________\n"
     ]
    }
   ],
   "source": [
    "model = get_model()\n",
    "model.summary()"
   ]
  },
  {
   "cell_type": "markdown",
   "id": "c52d5bbb",
   "metadata": {
    "papermill": {
     "duration": 0.08173,
     "end_time": "2022-06-29T06:16:27.226815",
     "exception": false,
     "start_time": "2022-06-29T06:16:27.145085",
     "status": "completed"
    },
    "tags": []
   },
   "source": [
    "# 13. WandB 🪄\n",
    "<img src=\"https://camo.githubusercontent.com/dd842f7b0be57140e68b2ab9cb007992acd131c48284eaf6b1aca758bfea358b/68747470733a2f2f692e696d6775722e636f6d2f52557469567a482e706e67\" width=\"400\" alt=\"Weights & Biases\" />\n",
    "\n",
    "To track model's training I'll be using **Weights & Biases** tool. Weights & Biases (W&B) is MLOps platform for tracking our experiemnts. We can use it to Build better models faster with experiment tracking, dataset versioning, and model management."
   ]
  },
  {
   "cell_type": "code",
   "execution_count": 23,
   "id": "f4285343",
   "metadata": {
    "_kg_hide-input": false,
    "execution": {
     "iopub.execute_input": "2022-06-29T06:16:27.408091Z",
     "iopub.status.busy": "2022-06-29T06:16:27.407294Z",
     "iopub.status.idle": "2022-06-29T06:16:27.631451Z",
     "shell.execute_reply": "2022-06-29T06:16:27.630631Z",
     "shell.execute_reply.started": "2022-06-29T05:52:12.051936Z"
    },
    "papermill": {
     "duration": 0.322854,
     "end_time": "2022-06-29T06:16:27.631634",
     "exception": false,
     "start_time": "2022-06-29T06:16:27.308780",
     "status": "completed"
    },
    "tags": []
   },
   "outputs": [],
   "source": [
    "if CFG.wandb:\n",
    "    \"login in wandb otherwise run anonymously\"\n",
    "    try:\n",
    "        # Addo-ons > Secrets > WANDB\n",
    "        from kaggle_secrets import UserSecretsClient\n",
    "        user_secrets = UserSecretsClient()\n",
    "        api_key = user_secrets.get_secret(\"WANDB\")\n",
    "        wandb.login(key=api_key)\n",
    "        anonymous = None\n",
    "    except:\n",
    "        anonymous = \"must\"\n",
    "\n",
    "\n",
    "def wandb_init(fold):\n",
    "    \"initialize project on wandb\"\n",
    "    id_ = wandb.util.generate_id() # generate random id\n",
    "    config = {k: v for k, v in dict(vars(CFG)).items() if \"__\" not in k} # convert class to dict\n",
    "    config[\"id\"] = id_\n",
    "    config[\"fold\"] = int(fold) # np to python\n",
    "    run = wandb.init(\n",
    "        id=id_,\n",
    "        project=\"uwmgi-tf\",\n",
    "        name=f\"fold-{fold}|dim-{CFG.img_size[0]}x{CFG.img_size[1]}|model-{CFG.model_name}|backbone-{CFG.backbone}\",\n",
    "        config=config,\n",
    "        anonymous=anonymous,\n",
    "        group=CFG.comment,\n",
    "        reinit=True,\n",
    "        resume=\"allow\",\n",
    "    )\n",
    "    return run"
   ]
  },
  {
   "cell_type": "markdown",
   "id": "0c389fb6",
   "metadata": {
    "papermill": {
     "duration": 0.081582,
     "end_time": "2022-06-29T06:16:27.795488",
     "exception": false,
     "start_time": "2022-06-29T06:16:27.713906",
     "status": "completed"
    },
    "tags": []
   },
   "source": [
    "# 14. Training 🚅\n",
    "Our model will be trained for the number of `FOLDS` and `EPOCHS` you chose in the configuration above. Each fold the model with hightest validation `Dice Score` will be saved and used to predict OOF and test. "
   ]
  },
  {
   "cell_type": "code",
   "execution_count": 24,
   "id": "c0555cb6",
   "metadata": {
    "_kg_hide-input": true,
    "_kg_hide-output": false,
    "execution": {
     "iopub.execute_input": "2022-06-29T06:16:27.992854Z",
     "iopub.status.busy": "2022-06-29T06:16:27.961812Z",
     "iopub.status.idle": "2022-06-29T07:04:49.602198Z",
     "shell.execute_reply": "2022-06-29T07:04:49.602799Z"
    },
    "papermill": {
     "duration": 2901.726267,
     "end_time": "2022-06-29T07:04:49.603118",
     "exception": false,
     "start_time": "2022-06-29T06:16:27.876851",
     "status": "completed"
    },
    "tags": []
   },
   "outputs": [
    {
     "name": "stderr",
     "output_type": "stream",
     "text": [
      "\u001b[34m\u001b[1mwandb\u001b[0m: Appending key for api.wandb.ai to your netrc file: /root/.netrc\n",
      "2022-06-29 06:16:30.835242: W tensorflow/stream_executor/platform/default/dso_loader.cc:60] Could not load dynamic library 'libcudart.so.11.0'; dlerror: libcudart.so.11.0: cannot open shared object file: No such file or directory; LD_LIBRARY_PATH: /opt/conda/lib\n",
      "2022-06-29 06:16:30.835820: I tensorflow/stream_executor/cuda/cudart_stub.cc:29] Ignore above cudart dlerror if you do not have a GPU set up on your machine.\n"
     ]
    },
    {
     "data": {
      "text/html": [
       "Tracking run with wandb version 0.12.19"
      ],
      "text/plain": [
       "<IPython.core.display.HTML object>"
      ]
     },
     "metadata": {},
     "output_type": "display_data"
    },
    {
     "data": {
      "text/html": [
       "Run data is saved locally in <code>/kaggle/working/wandb/run-20220629_061628-1tugi2xv</code>"
      ],
      "text/plain": [
       "<IPython.core.display.HTML object>"
      ]
     },
     "metadata": {},
     "output_type": "display_data"
    },
    {
     "data": {
      "text/html": [
       "Syncing run <strong><a href=\"https://wandb.ai/anony-mouse-339698/uwmgi-tf/runs/1tugi2xv?apiKey=ba561ee250672eec57537bc737b83e20b3216be4\" target=\"_blank\">fold-0|dim-128x128|model-TransUNet|backbone-efficientnetb7</a></strong> to <a href=\"https://wandb.ai/anony-mouse-339698/uwmgi-tf?apiKey=ba561ee250672eec57537bc737b83e20b3216be4\" target=\"_blank\">Weights & Biases</a> (<a href=\"https://wandb.me/run\" target=\"_blank\">docs</a>)<br/>"
      ],
      "text/plain": [
       "<IPython.core.display.HTML object>"
      ]
     },
     "metadata": {},
     "output_type": "display_data"
    },
    {
     "name": "stdout",
     "output_type": "stream",
     "text": [
      "#################################################################\n",
      "#### FOLD: 0\n",
      "#### IMAGE_SIZE: (128, 128) | BATCH_SIZE: 256 | EPOCHS: 15\n",
      "#### MODEL: TransUNet | BACKBONE: efficientnetb7 | LOSS: dice_loss\n",
      "#### NUM_TRAIN: 30,432 | NUM_VALID: 7,776\n",
      "#################################################################\n"
     ]
    },
    {
     "name": "stderr",
     "output_type": "stream",
     "text": [
      "/opt/conda/lib/python3.7/site-packages/ipykernel_launcher.py:21: UserWarning: Resizing position embeddings from 14 to 8\n",
      "2022-06-29 06:19:54.439453: W ./tensorflow/core/distributed_runtime/eager/destroy_tensor_handle_node.h:57] Ignoring an error encountered when deleting remote tensors handles: Invalid argument: Unable to find the relevant tensor remote_handle: Op ID: 48921, Output num: 3\n",
      "Additional GRPC error information from remote target /job:worker/replica:0/task:0:\n",
      ":{\"created\":\"@1656483594.436129660\",\"description\":\"Error received from peer ipv4:10.0.0.2:8470\",\"file\":\"external/com_github_grpc_grpc/src/core/lib/surface/call.cc\",\"file_line\":1056,\"grpc_message\":\"Unable to find the relevant tensor remote_handle: Op ID: 48921, Output num: 3\",\"grpc_status\":3}\n"
     ]
    },
    {
     "name": "stdout",
     "output_type": "stream",
     "text": [
      "\n",
      "Valid Result:\n",
      "31/31 [==============================] - 3s 63ms/step - loss: 0.6915 - dice_coef: 0.7627 - precision: 0.3630 - recall: 0.7831\n",
      "\n"
     ]
    },
    {
     "name": "stderr",
     "output_type": "stream",
     "text": [
      "2022-06-29 06:25:55.630544: W ./tensorflow/core/distributed_runtime/eager/destroy_tensor_handle_node.h:57] Ignoring an error encountered when deleting remote tensors handles: Invalid argument: Unable to find the relevant tensor remote_handle: Op ID: 100329, Output num: 1\n",
      "Additional GRPC error information from remote target /job:worker/replica:0/task:0:\n",
      ":{\"created\":\"@1656483955.629571074\",\"description\":\"Error received from peer ipv4:10.0.0.2:8470\",\"file\":\"external/com_github_grpc_grpc/src/core/lib/surface/call.cc\",\"file_line\":1056,\"grpc_message\":\"Unable to find the relevant tensor remote_handle: Op ID: 100329, Output num: 1\",\"grpc_status\":3}\n"
     ]
    },
    {
     "data": {
      "text/html": [
       "Waiting for W&B process to finish... <strong style=\"color:green\">(success).</strong>"
      ],
      "text/plain": [
       "<IPython.core.display.HTML object>"
      ]
     },
     "metadata": {},
     "output_type": "display_data"
    },
    {
     "data": {
      "application/vnd.jupyter.widget-view+json": {
       "model_id": "a3df020e1b6d4854848a560df17a1799",
       "version_major": 2,
       "version_minor": 0
      },
      "text/plain": [
       "VBox(children=(Label(value='0.000 MB of 0.000 MB uploaded (0.000 MB deduped)\\r'), FloatProgress(value=1.0, max…"
      ]
     },
     "metadata": {},
     "output_type": "display_data"
    },
    {
     "data": {
      "text/html": [
       "<style>\n",
       "    table.wandb td:nth-child(1) { padding: 0 10px; text-align: left ; width: auto;} td:nth-child(2) {text-align: left ; width: 100%}\n",
       "    .wandb-row { display: flex; flex-direction: row; flex-wrap: wrap; justify-content: flex-start; width: 100% }\n",
       "    .wandb-col { display: flex; flex-direction: column; flex-basis: 100%; flex: 1; padding: 10px; }\n",
       "    </style>\n",
       "<div class=\"wandb-row\"><div class=\"wandb-col\"><h3>Run history:</h3><br/><table class=\"wandb\"><tr><td>dice_coef</td><td>▁▂▃▅▆▇▇████████</td></tr><tr><td>epoch</td><td>▁▁▂▃▃▃▄▅▅▅▆▇▇▇█</td></tr><tr><td>loss</td><td>██▇▆▄▃▂▂▁▁▁▁▁▁▁</td></tr><tr><td>lr</td><td>███▇▇▆▆▅▅▄▃▃▂▁▁</td></tr><tr><td>num_train</td><td>▁</td></tr><tr><td>num_valid</td><td>▁</td></tr><tr><td>precision</td><td>▁▁▁▂▄▆▇▇▇██████</td></tr><tr><td>recall</td><td>██▇▅▂▁▁▂▂▃▃▄▄▄▄</td></tr><tr><td>val_dice_coef</td><td>▁▂▄▃▄▆▇▇███████</td></tr><tr><td>val_loss</td><td>██▇▆▄▂▂▂▁▁▁▁▁▁▁</td></tr><tr><td>val_precision</td><td>▁▁▂▃▅▆▇▇███████</td></tr><tr><td>val_recall</td><td>██▄▂▁▅▂▄▄▄▄▄▄▅▅</td></tr></table><br/></div><div class=\"wandb-col\"><h3>Run summary:</h3><br/><table class=\"wandb\"><tr><td>best_epoch</td><td>14</td></tr><tr><td>best_val_loss</td><td>0.67186</td></tr><tr><td>dice_coef</td><td>0.89075</td></tr><tr><td>epoch</td><td>14</td></tr><tr><td>loss</td><td>0.13704</td></tr><tr><td>lr</td><td>4e-05</td></tr><tr><td>num_train</td><td>30432</td></tr><tr><td>num_valid</td><td>7776</td></tr><tr><td>precision</td><td>0.8614</td></tr><tr><td>recall</td><td>0.89383</td></tr><tr><td>val_dice_coef</td><td>0.76022</td></tr><tr><td>val_loss</td><td>0.67186</td></tr><tr><td>val_precision</td><td>0.36666</td></tr><tr><td>val_recall</td><td>0.81147</td></tr></table><br/></div></div>"
      ],
      "text/plain": [
       "<IPython.core.display.HTML object>"
      ]
     },
     "metadata": {},
     "output_type": "display_data"
    },
    {
     "data": {
      "text/html": [
       "Synced <strong style=\"color:#cdcd00\">fold-0|dim-128x128|model-TransUNet|backbone-efficientnetb7</strong>: <a href=\"https://wandb.ai/anony-mouse-339698/uwmgi-tf/runs/1tugi2xv?apiKey=ba561ee250672eec57537bc737b83e20b3216be4\" target=\"_blank\">https://wandb.ai/anony-mouse-339698/uwmgi-tf/runs/1tugi2xv?apiKey=ba561ee250672eec57537bc737b83e20b3216be4</a><br/>Synced 5 W&B file(s), 0 media file(s), 0 artifact file(s) and 0 other file(s)"
      ],
      "text/plain": [
       "<IPython.core.display.HTML object>"
      ]
     },
     "metadata": {},
     "output_type": "display_data"
    },
    {
     "data": {
      "text/html": [
       "Find logs at: <code>./wandb/run-20220629_061628-1tugi2xv/logs</code>"
      ],
      "text/plain": [
       "<IPython.core.display.HTML object>"
      ]
     },
     "metadata": {},
     "output_type": "display_data"
    },
    {
     "data": {
      "image/png": "[encoded data removed]",
      "text/plain": [
       "<Figure size 1080x360 with 2 Axes>"
      ]
     },
     "metadata": {
      "needs_background": "light"
     },
     "output_type": "display_data"
    },
    {
     "name": "stderr",
     "output_type": "stream",
     "text": [
      "\u001b[34m\u001b[1mwandb\u001b[0m: Currently logged in as: \u001b[33manony-mouse-339698\u001b[0m. Use \u001b[1m`wandb login --relogin`\u001b[0m to force relogin\n",
      "2022-06-29 06:26:19.481130: W tensorflow/stream_executor/platform/default/dso_loader.cc:60] Could not load dynamic library 'libcudart.so.11.0'; dlerror: libcudart.so.11.0: cannot open shared object file: No such file or directory; LD_LIBRARY_PATH: /opt/conda/lib\n",
      "2022-06-29 06:26:19.481201: I tensorflow/stream_executor/cuda/cudart_stub.cc:29] Ignore above cudart dlerror if you do not have a GPU set up on your machine.\n"
     ]
    },
    {
     "data": {
      "text/html": [
       "Tracking run with wandb version 0.12.19"
      ],
      "text/plain": [
       "<IPython.core.display.HTML object>"
      ]
     },
     "metadata": {},
     "output_type": "display_data"
    },
    {
     "data": {
      "text/html": [
       "Run data is saved locally in <code>/kaggle/working/wandb/run-20220629_062617-bhictlof</code>"
      ],
      "text/plain": [
       "<IPython.core.display.HTML object>"
      ]
     },
     "metadata": {},
     "output_type": "display_data"
    },
    {
     "data": {
      "text/html": [
       "Syncing run <strong><a href=\"https://wandb.ai/anony-mouse-339698/uwmgi-tf/runs/bhictlof?apiKey=ba561ee250672eec57537bc737b83e20b3216be4\" target=\"_blank\">fold-1|dim-128x128|model-TransUNet|backbone-efficientnetb7</a></strong> to <a href=\"https://wandb.ai/anony-mouse-339698/uwmgi-tf?apiKey=ba561ee250672eec57537bc737b83e20b3216be4\" target=\"_blank\">Weights & Biases</a> (<a href=\"https://wandb.me/run\" target=\"_blank\">docs</a>)<br/>"
      ],
      "text/plain": [
       "<IPython.core.display.HTML object>"
      ]
     },
     "metadata": {},
     "output_type": "display_data"
    },
    {
     "name": "stdout",
     "output_type": "stream",
     "text": [
      "#################################################################\n",
      "#### FOLD: 1\n",
      "#### IMAGE_SIZE: (128, 128) | BATCH_SIZE: 256 | EPOCHS: 15\n",
      "#### MODEL: TransUNet | BACKBONE: efficientnetb7 | LOSS: dice_loss\n",
      "#### NUM_TRAIN: 30,960 | NUM_VALID: 7,248\n",
      "#################################################################\n"
     ]
    },
    {
     "name": "stderr",
     "output_type": "stream",
     "text": [
      "/opt/conda/lib/python3.7/site-packages/ipykernel_launcher.py:21: UserWarning: Resizing position embeddings from 14 to 8\n",
      "2022-06-29 06:29:32.245682: W ./tensorflow/core/distributed_runtime/eager/destroy_tensor_handle_node.h:57] Ignoring an error encountered when deleting remote tensors handles: Invalid argument: Unable to find the relevant tensor remote_handle: Op ID: 154883, Output num: 0\n",
      "Additional GRPC error information from remote target /job:worker/replica:0/task:0:\n",
      ":{\"created\":\"@1656484172.245415430\",\"description\":\"Error received from peer ipv4:10.0.0.2:8470\",\"file\":\"external/com_github_grpc_grpc/src/core/lib/surface/call.cc\",\"file_line\":1056,\"grpc_message\":\"Unable to find the relevant tensor remote_handle: Op ID: 154883, Output num: 0\",\"grpc_status\":3}\n"
     ]
    },
    {
     "name": "stdout",
     "output_type": "stream",
     "text": [
      "\n",
      "Valid Result:\n"
     ]
    },
    {
     "name": "stderr",
     "output_type": "stream",
     "text": [
      "E0629 06:35:39.967450554     543 backup_poller.cc:118]       run_poller: {\"created\":\"@1656484539.967416133\",\"description\":\"Shutting down timer system\",\"file\":\"external/com_github_grpc_grpc/src/core/lib/iomgr/timer_generic.cc\",\"file_line\":706}\n"
     ]
    },
    {
     "name": "stdout",
     "output_type": "stream",
     "text": [
      "29/29 [==============================] - 3s 64ms/step - loss: 0.4509 - dice_coef: 0.6920 - precision: 0.5930 - recall: 0.7281\n",
      "\n"
     ]
    },
    {
     "name": "stderr",
     "output_type": "stream",
     "text": [
      "2022-06-29 06:35:42.771271: W ./tensorflow/core/distributed_runtime/eager/destroy_tensor_handle_node.h:57] Ignoring an error encountered when deleting remote tensors handles: Invalid argument: Unable to find the relevant tensor remote_handle: Op ID: 211315, Output num: 3\n",
      "Additional GRPC error information from remote target /job:worker/replica:0/task:0:\n",
      ":{\"created\":\"@1656484542.770758828\",\"description\":\"Error received from peer ipv4:10.0.0.2:8470\",\"file\":\"external/com_github_grpc_grpc/src/core/lib/surface/call.cc\",\"file_line\":1056,\"grpc_message\":\"Unable to find the relevant tensor remote_handle: Op ID: 211315, Output num: 3\",\"grpc_status\":3}\n"
     ]
    },
    {
     "data": {
      "text/html": [
       "Waiting for W&B process to finish... <strong style=\"color:green\">(success).</strong>"
      ],
      "text/plain": [
       "<IPython.core.display.HTML object>"
      ]
     },
     "metadata": {},
     "output_type": "display_data"
    },
    {
     "data": {
      "application/vnd.jupyter.widget-view+json": {
       "model_id": "152661a030404930b35565f752d5cc90",
       "version_major": 2,
       "version_minor": 0
      },
      "text/plain": [
       "VBox(children=(Label(value='0.000 MB of 0.000 MB uploaded (0.000 MB deduped)\\r'), FloatProgress(value=1.0, max…"
      ]
     },
     "metadata": {},
     "output_type": "display_data"
    },
    {
     "data": {
      "text/html": [
       "<style>\n",
       "    table.wandb td:nth-child(1) { padding: 0 10px; text-align: left ; width: auto;} td:nth-child(2) {text-align: left ; width: 100%}\n",
       "    .wandb-row { display: flex; flex-direction: row; flex-wrap: wrap; justify-content: flex-start; width: 100% }\n",
       "    .wandb-col { display: flex; flex-direction: column; flex-basis: 100%; flex: 1; padding: 10px; }\n",
       "    </style>\n",
       "<div class=\"wandb-row\"><div class=\"wandb-col\"><h3>Run history:</h3><br/><table class=\"wandb\"><tr><td>dice_coef</td><td>▁▁▂▂▃▅▆▇▇▇▇████</td></tr><tr><td>epoch</td><td>▁▁▂▃▃▃▄▅▅▅▆▇▇▇█</td></tr><tr><td>loss</td><td>██▇▇▆▅▃▂▂▂▂▁▁▁▁</td></tr><tr><td>lr</td><td>███▇▇▆▆▅▅▄▃▃▂▁▁</td></tr><tr><td>num_train</td><td>▁</td></tr><tr><td>num_valid</td><td>▁</td></tr><tr><td>precision</td><td>▁▁▁▂▂▃▅▆▇▇▇████</td></tr><tr><td>recall</td><td>██▇▅▄▂▁▁▁▂▂▃▃▃▃</td></tr><tr><td>val_dice_coef</td><td>▁▂▁▂▄▆▆▇▇▇█████</td></tr><tr><td>val_loss</td><td>████▇▄▃▂▂▂▁▁▁▁▁</td></tr><tr><td>val_precision</td><td>▁▁▁▁▂▄▅▆▇▇█████</td></tr><tr><td>val_recall</td><td>▇█▁▁▂▃▄▃▄▃▃▃▄▃▃</td></tr></table><br/></div><div class=\"wandb-col\"><h3>Run summary:</h3><br/><table class=\"wandb\"><tr><td>best_epoch</td><td>12</td></tr><tr><td>best_val_loss</td><td>0.45095</td></tr><tr><td>dice_coef</td><td>0.87984</td></tr><tr><td>epoch</td><td>14</td></tr><tr><td>loss</td><td>0.15458</td></tr><tr><td>lr</td><td>4e-05</td></tr><tr><td>num_train</td><td>30960</td></tr><tr><td>num_valid</td><td>7248</td></tr><tr><td>precision</td><td>0.84255</td></tr><tr><td>recall</td><td>0.87781</td></tr><tr><td>val_dice_coef</td><td>0.68935</td></tr><tr><td>val_loss</td><td>0.45557</td></tr><tr><td>val_precision</td><td>0.60073</td></tr><tr><td>val_recall</td><td>0.7122</td></tr></table><br/></div></div>"
      ],
      "text/plain": [
       "<IPython.core.display.HTML object>"
      ]
     },
     "metadata": {},
     "output_type": "display_data"
    },
    {
     "data": {
      "text/html": [
       "Synced <strong style=\"color:#cdcd00\">fold-1|dim-128x128|model-TransUNet|backbone-efficientnetb7</strong>: <a href=\"https://wandb.ai/anony-mouse-339698/uwmgi-tf/runs/bhictlof?apiKey=ba561ee250672eec57537bc737b83e20b3216be4\" target=\"_blank\">https://wandb.ai/anony-mouse-339698/uwmgi-tf/runs/bhictlof?apiKey=ba561ee250672eec57537bc737b83e20b3216be4</a><br/>Synced 5 W&B file(s), 0 media file(s), 0 artifact file(s) and 0 other file(s)"
      ],
      "text/plain": [
       "<IPython.core.display.HTML object>"
      ]
     },
     "metadata": {},
     "output_type": "display_data"
    },
    {
     "data": {
      "text/html": [
       "Find logs at: <code>./wandb/run-20220629_062617-bhictlof/logs</code>"
      ],
      "text/plain": [
       "<IPython.core.display.HTML object>"
      ]
     },
     "metadata": {},
     "output_type": "display_data"
    },
    {
     "data": {
      "image/png": "[encoded data removed]",
      "text/plain": [
       "<Figure size 1080x360 with 2 Axes>"
      ]
     },
     "metadata": {
      "needs_background": "light"
     },
     "output_type": "display_data"
    },
    {
     "name": "stderr",
     "output_type": "stream",
     "text": [
      "2022-06-29 06:36:08.562423: W tensorflow/stream_executor/platform/default/dso_loader.cc:60] Could not load dynamic library 'libcudart.so.11.0'; dlerror: libcudart.so.11.0: cannot open shared object file: No such file or directory; LD_LIBRARY_PATH: /opt/conda/lib\n",
      "2022-06-29 06:36:08.562726: I tensorflow/stream_executor/cuda/cudart_stub.cc:29] Ignore above cudart dlerror if you do not have a GPU set up on your machine.\n"
     ]
    },
    {
     "data": {
      "text/html": [
       "Tracking run with wandb version 0.12.19"
      ],
      "text/plain": [
       "<IPython.core.display.HTML object>"
      ]
     },
     "metadata": {},
     "output_type": "display_data"
    },
    {
     "data": {
      "text/html": [
       "Run data is saved locally in <code>/kaggle/working/wandb/run-20220629_063606-1pjuvmi8</code>"
      ],
      "text/plain": [
       "<IPython.core.display.HTML object>"
      ]
     },
     "metadata": {},
     "output_type": "display_data"
    },
    {
     "data": {
      "text/html": [
       "Syncing run <strong><a href=\"https://wandb.ai/anony-mouse-339698/uwmgi-tf/runs/1pjuvmi8?apiKey=ba561ee250672eec57537bc737b83e20b3216be4\" target=\"_blank\">fold-2|dim-128x128|model-TransUNet|backbone-efficientnetb7</a></strong> to <a href=\"https://wandb.ai/anony-mouse-339698/uwmgi-tf?apiKey=ba561ee250672eec57537bc737b83e20b3216be4\" target=\"_blank\">Weights & Biases</a> (<a href=\"https://wandb.me/run\" target=\"_blank\">docs</a>)<br/>"
      ],
      "text/plain": [
       "<IPython.core.display.HTML object>"
      ]
     },
     "metadata": {},
     "output_type": "display_data"
    },
    {
     "name": "stdout",
     "output_type": "stream",
     "text": [
      "#################################################################\n",
      "#### FOLD: 2\n",
      "#### IMAGE_SIZE: (128, 128) | BATCH_SIZE: 256 | EPOCHS: 15\n",
      "#### MODEL: TransUNet | BACKBONE: efficientnetb7 | LOSS: dice_loss\n",
      "#### NUM_TRAIN: 30,608 | NUM_VALID: 7,600\n",
      "#################################################################\n"
     ]
    },
    {
     "name": "stderr",
     "output_type": "stream",
     "text": [
      "/opt/conda/lib/python3.7/site-packages/ipykernel_launcher.py:21: UserWarning: Resizing position embeddings from 14 to 8\n",
      "2022-06-29 06:39:21.975531: W ./tensorflow/core/distributed_runtime/eager/destroy_tensor_handle_node.h:57] Ignoring an error encountered when deleting remote tensors handles: Invalid argument: Unable to find the relevant tensor remote_handle: Op ID: 265869, Output num: 0\n",
      "Additional GRPC error information from remote target /job:worker/replica:0/task:0:\n",
      ":{\"created\":\"@1656484761.974930211\",\"description\":\"Error received from peer ipv4:10.0.0.2:8470\",\"file\":\"external/com_github_grpc_grpc/src/core/lib/surface/call.cc\",\"file_line\":1056,\"grpc_message\":\"Unable to find the relevant tensor remote_handle: Op ID: 265869, Output num: 0\",\"grpc_status\":3}\n"
     ]
    },
    {
     "name": "stdout",
     "output_type": "stream",
     "text": [
      "\n",
      "Valid Result:\n",
      "30/30 [==============================] - 3s 64ms/step - loss: 0.5366 - dice_coef: 0.6786 - precision: 0.4974 - recall: 0.7174\n",
      "\n"
     ]
    },
    {
     "name": "stderr",
     "output_type": "stream",
     "text": [
      "2022-06-29 06:45:24.931452: W ./tensorflow/core/distributed_runtime/eager/destroy_tensor_handle_node.h:57] Ignoring an error encountered when deleting remote tensors handles: Invalid argument: Unable to find the relevant tensor remote_handle: Op ID: 314726, Output num: 0\n",
      "Additional GRPC error information from remote target /job:worker/replica:0/task:0:\n",
      ":{\"created\":\"@1656485124.931053574\",\"description\":\"Error received from peer ipv4:10.0.0.2:8470\",\"file\":\"external/com_github_grpc_grpc/src/core/lib/surface/call.cc\",\"file_line\":1056,\"grpc_message\":\"Unable to find the relevant tensor remote_handle: Op ID: 314726, Output num: 0\",\"grpc_status\":3}\n"
     ]
    },
    {
     "data": {
      "text/html": [
       "Waiting for W&B process to finish... <strong style=\"color:green\">(success).</strong>"
      ],
      "text/plain": [
       "<IPython.core.display.HTML object>"
      ]
     },
     "metadata": {},
     "output_type": "display_data"
    },
    {
     "data": {
      "application/vnd.jupyter.widget-view+json": {
       "model_id": "359b3607e8a54ed3a259ad05bd4e80e5",
       "version_major": 2,
       "version_minor": 0
      },
      "text/plain": [
       "VBox(children=(Label(value='0.000 MB of 0.000 MB uploaded (0.000 MB deduped)\\r'), FloatProgress(value=1.0, max…"
      ]
     },
     "metadata": {},
     "output_type": "display_data"
    },
    {
     "data": {
      "text/html": [
       "<style>\n",
       "    table.wandb td:nth-child(1) { padding: 0 10px; text-align: left ; width: auto;} td:nth-child(2) {text-align: left ; width: 100%}\n",
       "    .wandb-row { display: flex; flex-direction: row; flex-wrap: wrap; justify-content: flex-start; width: 100% }\n",
       "    .wandb-col { display: flex; flex-direction: column; flex-basis: 100%; flex: 1; padding: 10px; }\n",
       "    </style>\n",
       "<div class=\"wandb-row\"><div class=\"wandb-col\"><h3>Run history:</h3><br/><table class=\"wandb\"><tr><td>dice_coef</td><td>▁▂▃▃▅▆▇▇███████</td></tr><tr><td>epoch</td><td>▁▁▂▃▃▃▄▅▅▅▆▇▇▇█</td></tr><tr><td>loss</td><td>██▇▆▅▄▂▂▂▁▁▁▁▁▁</td></tr><tr><td>lr</td><td>███▇▇▆▆▅▅▄▃▃▂▁▁</td></tr><tr><td>num_train</td><td>▁</td></tr><tr><td>num_valid</td><td>▁</td></tr><tr><td>precision</td><td>▁▁▁▂▃▄▆▇▇▇█████</td></tr><tr><td>recall</td><td>██▇▅▃▁▁▁▂▂▃▃▄▄▄</td></tr><tr><td>val_dice_coef</td><td>▁▃▂▄▅▇█▇▇██████</td></tr><tr><td>val_loss</td><td>██▇▆▅▃▂▂▂▁▁▁▁▁▁</td></tr><tr><td>val_precision</td><td>▁▁▁▂▄▆▇▇▇▇█▇███</td></tr><tr><td>val_recall</td><td>█▇▅▁▂▅▄▃▂▅▅▅▅▅▄</td></tr></table><br/></div><div class=\"wandb-col\"><h3>Run summary:</h3><br/><table class=\"wandb\"><tr><td>best_epoch</td><td>12</td></tr><tr><td>best_val_loss</td><td>0.5366</td></tr><tr><td>dice_coef</td><td>0.87634</td></tr><tr><td>epoch</td><td>14</td></tr><tr><td>loss</td><td>0.15289</td></tr><tr><td>lr</td><td>4e-05</td></tr><tr><td>num_train</td><td>30608</td></tr><tr><td>num_valid</td><td>7600</td></tr><tr><td>precision</td><td>0.84564</td></tr><tr><td>recall</td><td>0.87872</td></tr><tr><td>val_dice_coef</td><td>0.67704</td></tr><tr><td>val_loss</td><td>0.53819</td></tr><tr><td>val_precision</td><td>0.50017</td></tr><tr><td>val_recall</td><td>0.71083</td></tr></table><br/></div></div>"
      ],
      "text/plain": [
       "<IPython.core.display.HTML object>"
      ]
     },
     "metadata": {},
     "output_type": "display_data"
    },
    {
     "data": {
      "text/html": [
       "Synced <strong style=\"color:#cdcd00\">fold-2|dim-128x128|model-TransUNet|backbone-efficientnetb7</strong>: <a href=\"https://wandb.ai/anony-mouse-339698/uwmgi-tf/runs/1pjuvmi8?apiKey=ba561ee250672eec57537bc737b83e20b3216be4\" target=\"_blank\">https://wandb.ai/anony-mouse-339698/uwmgi-tf/runs/1pjuvmi8?apiKey=ba561ee250672eec57537bc737b83e20b3216be4</a><br/>Synced 5 W&B file(s), 0 media file(s), 0 artifact file(s) and 0 other file(s)"
      ],
      "text/plain": [
       "<IPython.core.display.HTML object>"
      ]
     },
     "metadata": {},
     "output_type": "display_data"
    },
    {
     "data": {
      "text/html": [
       "Find logs at: <code>./wandb/run-20220629_063606-1pjuvmi8/logs</code>"
      ],
      "text/plain": [
       "<IPython.core.display.HTML object>"
      ]
     },
     "metadata": {},
     "output_type": "display_data"
    },
    {
     "data": {
      "image/png": "[encoded data removed]",
      "text/plain": [
       "<Figure size 1080x360 with 2 Axes>"
      ]
     },
     "metadata": {
      "needs_background": "light"
     },
     "output_type": "display_data"
    },
    {
     "name": "stderr",
     "output_type": "stream",
     "text": [
      "2022-06-29 06:45:35.948376: W tensorflow/stream_executor/platform/default/dso_loader.cc:60] Could not load dynamic library 'libcudart.so.11.0'; dlerror: libcudart.so.11.0: cannot open shared object file: No such file or directory; LD_LIBRARY_PATH: /opt/conda/lib\n",
      "2022-06-29 06:45:35.948438: I tensorflow/stream_executor/cuda/cudart_stub.cc:29] Ignore above cudart dlerror if you do not have a GPU set up on your machine.\n"
     ]
    },
    {
     "data": {
      "text/html": [
       "Tracking run with wandb version 0.12.19"
      ],
      "text/plain": [
       "<IPython.core.display.HTML object>"
      ]
     },
     "metadata": {},
     "output_type": "display_data"
    },
    {
     "data": {
      "text/html": [
       "Run data is saved locally in <code>/kaggle/working/wandb/run-20220629_064533-18tubq58</code>"
      ],
      "text/plain": [
       "<IPython.core.display.HTML object>"
      ]
     },
     "metadata": {},
     "output_type": "display_data"
    },
    {
     "data": {
      "text/html": [
       "Syncing run <strong><a href=\"https://wandb.ai/anony-mouse-339698/uwmgi-tf/runs/18tubq58?apiKey=ba561ee250672eec57537bc737b83e20b3216be4\" target=\"_blank\">fold-3|dim-128x128|model-TransUNet|backbone-efficientnetb7</a></strong> to <a href=\"https://wandb.ai/anony-mouse-339698/uwmgi-tf?apiKey=ba561ee250672eec57537bc737b83e20b3216be4\" target=\"_blank\">Weights & Biases</a> (<a href=\"https://wandb.me/run\" target=\"_blank\">docs</a>)<br/>"
      ],
      "text/plain": [
       "<IPython.core.display.HTML object>"
      ]
     },
     "metadata": {},
     "output_type": "display_data"
    },
    {
     "name": "stdout",
     "output_type": "stream",
     "text": [
      "#################################################################\n",
      "#### FOLD: 3\n",
      "#### IMAGE_SIZE: (128, 128) | BATCH_SIZE: 256 | EPOCHS: 15\n",
      "#### MODEL: TransUNet | BACKBONE: efficientnetb7 | LOSS: dice_loss\n",
      "#### NUM_TRAIN: 30,048 | NUM_VALID: 8,160\n",
      "#################################################################\n"
     ]
    },
    {
     "name": "stderr",
     "output_type": "stream",
     "text": [
      "/opt/conda/lib/python3.7/site-packages/ipykernel_launcher.py:21: UserWarning: Resizing position embeddings from 14 to 8\n",
      "2022-06-29 06:48:50.593985: W ./tensorflow/core/distributed_runtime/eager/destroy_tensor_handle_node.h:57] Ignoring an error encountered when deleting remote tensors handles: Invalid argument: Unable to find the relevant tensor remote_handle: Op ID: 369280, Output num: 1\n",
      "Additional GRPC error information from remote target /job:worker/replica:0/task:0:\n",
      ":{\"created\":\"@1656485330.593609880\",\"description\":\"Error received from peer ipv4:10.0.0.2:8470\",\"file\":\"external/com_github_grpc_grpc/src/core/lib/surface/call.cc\",\"file_line\":1056,\"grpc_message\":\"Unable to find the relevant tensor remote_handle: Op ID: 369280, Output num: 1\",\"grpc_status\":3}\n"
     ]
    },
    {
     "name": "stdout",
     "output_type": "stream",
     "text": [
      "\n",
      "Valid Result:\n",
      "32/32 [==============================] - 3s 65ms/step - loss: 0.6440 - dice_coef: 0.7783 - precision: 0.3980 - recall: 0.7929\n",
      "\n"
     ]
    },
    {
     "name": "stderr",
     "output_type": "stream",
     "text": [
      "2022-06-29 06:54:55.542856: W ./tensorflow/core/distributed_runtime/eager/destroy_tensor_handle_node.h:57] Ignoring an error encountered when deleting remote tensors handles: Invalid argument: Unable to find the relevant tensor remote_handle: Op ID: 423211, Output num: 0\n",
      "Additional GRPC error information from remote target /job:worker/replica:0/task:0:\n",
      ":{\"created\":\"@1656485695.542606098\",\"description\":\"Error received from peer ipv4:10.0.0.2:8470\",\"file\":\"external/com_github_grpc_grpc/src/core/lib/surface/call.cc\",\"file_line\":1056,\"grpc_message\":\"Unable to find the relevant tensor remote_handle: Op ID: 423211, Output num: 0\",\"grpc_status\":3}\n"
     ]
    },
    {
     "data": {
      "text/html": [
       "Waiting for W&B process to finish... <strong style=\"color:green\">(success).</strong>"
      ],
      "text/plain": [
       "<IPython.core.display.HTML object>"
      ]
     },
     "metadata": {},
     "output_type": "display_data"
    },
    {
     "data": {
      "application/vnd.jupyter.widget-view+json": {
       "model_id": "6df2789c98194d0494c04d8342ae0e79",
       "version_major": 2,
       "version_minor": 0
      },
      "text/plain": [
       "VBox(children=(Label(value='0.000 MB of 0.000 MB uploaded (0.000 MB deduped)\\r'), FloatProgress(value=1.0, max…"
      ]
     },
     "metadata": {},
     "output_type": "display_data"
    },
    {
     "data": {
      "text/html": [
       "<style>\n",
       "    table.wandb td:nth-child(1) { padding: 0 10px; text-align: left ; width: auto;} td:nth-child(2) {text-align: left ; width: 100%}\n",
       "    .wandb-row { display: flex; flex-direction: row; flex-wrap: wrap; justify-content: flex-start; width: 100% }\n",
       "    .wandb-col { display: flex; flex-direction: column; flex-basis: 100%; flex: 1; padding: 10px; }\n",
       "    </style>\n",
       "<div class=\"wandb-row\"><div class=\"wandb-col\"><h3>Run history:</h3><br/><table class=\"wandb\"><tr><td>dice_coef</td><td>▁▂▂▄▅▆▇▇███████</td></tr><tr><td>epoch</td><td>▁▁▂▃▃▃▄▅▅▅▆▇▇▇█</td></tr><tr><td>loss</td><td>██▇▇▅▄▃▂▂▁▁▁▁▁▁</td></tr><tr><td>lr</td><td>███▇▇▆▆▅▅▄▃▃▂▁▁</td></tr><tr><td>num_train</td><td>▁</td></tr><tr><td>num_valid</td><td>▁</td></tr><tr><td>precision</td><td>▁▁▁▂▃▄▆▇▇▇█████</td></tr><tr><td>recall</td><td>██▇▅▃▂▁▁▂▂▃▃▃▃▄</td></tr><tr><td>val_dice_coef</td><td>▁▃▂▂▅▆▆▆▇██████</td></tr><tr><td>val_loss</td><td>██▇▇▆▄▃▃▂▂▁▁▁▁▁</td></tr><tr><td>val_precision</td><td>▁▁▁▂▄▅▆▇▇▇█████</td></tr><tr><td>val_recall</td><td>█▇▄▃▂▁▃▂▄▄▄▄▄▅▅</td></tr></table><br/></div><div class=\"wandb-col\"><h3>Run summary:</h3><br/><table class=\"wandb\"><tr><td>best_epoch</td><td>14</td></tr><tr><td>best_val_loss</td><td>0.64402</td></tr><tr><td>dice_coef</td><td>0.88181</td></tr><tr><td>epoch</td><td>14</td></tr><tr><td>loss</td><td>0.14997</td></tr><tr><td>lr</td><td>4e-05</td></tr><tr><td>num_train</td><td>30048</td></tr><tr><td>num_valid</td><td>8160</td></tr><tr><td>precision</td><td>0.84414</td></tr><tr><td>recall</td><td>0.88602</td></tr><tr><td>val_dice_coef</td><td>0.77835</td></tr><tr><td>val_loss</td><td>0.64402</td></tr><tr><td>val_precision</td><td>0.39801</td></tr><tr><td>val_recall</td><td>0.79288</td></tr></table><br/></div></div>"
      ],
      "text/plain": [
       "<IPython.core.display.HTML object>"
      ]
     },
     "metadata": {},
     "output_type": "display_data"
    },
    {
     "data": {
      "text/html": [
       "Synced <strong style=\"color:#cdcd00\">fold-3|dim-128x128|model-TransUNet|backbone-efficientnetb7</strong>: <a href=\"https://wandb.ai/anony-mouse-339698/uwmgi-tf/runs/18tubq58?apiKey=ba561ee250672eec57537bc737b83e20b3216be4\" target=\"_blank\">https://wandb.ai/anony-mouse-339698/uwmgi-tf/runs/18tubq58?apiKey=ba561ee250672eec57537bc737b83e20b3216be4</a><br/>Synced 5 W&B file(s), 0 media file(s), 0 artifact file(s) and 0 other file(s)"
      ],
      "text/plain": [
       "<IPython.core.display.HTML object>"
      ]
     },
     "metadata": {},
     "output_type": "display_data"
    },
    {
     "data": {
      "text/html": [
       "Find logs at: <code>./wandb/run-20220629_064533-18tubq58/logs</code>"
      ],
      "text/plain": [
       "<IPython.core.display.HTML object>"
      ]
     },
     "metadata": {},
     "output_type": "display_data"
    },
    {
     "data": {
      "image/png": "[encoded data removed]",
      "text/plain": [
       "<Figure size 1080x360 with 2 Axes>"
      ]
     },
     "metadata": {
      "needs_background": "light"
     },
     "output_type": "display_data"
    },
    {
     "name": "stderr",
     "output_type": "stream",
     "text": [
      "2022-06-29 06:55:03.428191: W tensorflow/stream_executor/platform/default/dso_loader.cc:60] Could not load dynamic library 'libcudart.so.11.0'; dlerror: libcudart.so.11.0: cannot open shared object file: No such file or directory; LD_LIBRARY_PATH: /opt/conda/lib\n",
      "2022-06-29 06:55:03.428257: I tensorflow/stream_executor/cuda/cudart_stub.cc:29] Ignore above cudart dlerror if you do not have a GPU set up on your machine.\n"
     ]
    },
    {
     "data": {
      "text/html": [
       "Tracking run with wandb version 0.12.19"
      ],
      "text/plain": [
       "<IPython.core.display.HTML object>"
      ]
     },
     "metadata": {},
     "output_type": "display_data"
    },
    {
     "data": {
      "text/html": [
       "Run data is saved locally in <code>/kaggle/working/wandb/run-20220629_065501-1re6rxnj</code>"
      ],
      "text/plain": [
       "<IPython.core.display.HTML object>"
      ]
     },
     "metadata": {},
     "output_type": "display_data"
    },
    {
     "data": {
      "text/html": [
       "Syncing run <strong><a href=\"https://wandb.ai/anony-mouse-339698/uwmgi-tf/runs/1re6rxnj?apiKey=ba561ee250672eec57537bc737b83e20b3216be4\" target=\"_blank\">fold-4|dim-128x128|model-TransUNet|backbone-efficientnetb7</a></strong> to <a href=\"https://wandb.ai/anony-mouse-339698/uwmgi-tf?apiKey=ba561ee250672eec57537bc737b83e20b3216be4\" target=\"_blank\">Weights & Biases</a> (<a href=\"https://wandb.me/run\" target=\"_blank\">docs</a>)<br/>"
      ],
      "text/plain": [
       "<IPython.core.display.HTML object>"
      ]
     },
     "metadata": {},
     "output_type": "display_data"
    },
    {
     "name": "stdout",
     "output_type": "stream",
     "text": [
      "#################################################################\n",
      "#### FOLD: 4\n",
      "#### IMAGE_SIZE: (128, 128) | BATCH_SIZE: 256 | EPOCHS: 15\n",
      "#### MODEL: TransUNet | BACKBONE: efficientnetb7 | LOSS: dice_loss\n",
      "#### NUM_TRAIN: 30,784 | NUM_VALID: 7,424\n",
      "#################################################################\n"
     ]
    },
    {
     "name": "stderr",
     "output_type": "stream",
     "text": [
      "/opt/conda/lib/python3.7/site-packages/ipykernel_launcher.py:21: UserWarning: Resizing position embeddings from 14 to 8\n",
      "2022-06-29 06:58:15.066629: W ./tensorflow/core/distributed_runtime/eager/destroy_tensor_handle_node.h:57] Ignoring an error encountered when deleting remote tensors handles: Invalid argument: Unable to find the relevant tensor remote_handle: Op ID: 477765, Output num: 0\n",
      "Additional GRPC error information from remote target /job:worker/replica:0/task:0:\n",
      ":{\"created\":\"@1656485895.066304595\",\"description\":\"Error received from peer ipv4:10.0.0.2:8470\",\"file\":\"external/com_github_grpc_grpc/src/core/lib/surface/call.cc\",\"file_line\":1056,\"grpc_message\":\"Unable to find the relevant tensor remote_handle: Op ID: 477765, Output num: 0\",\"grpc_status\":3}\n"
     ]
    },
    {
     "name": "stdout",
     "output_type": "stream",
     "text": [
      "\n",
      "Valid Result:\n",
      "29/29 [==============================] - 3s 64ms/step - loss: 0.6628 - dice_coef: 0.7675 - precision: 0.3743 - recall: 0.7834\n",
      "\n"
     ]
    },
    {
     "name": "stderr",
     "output_type": "stream",
     "text": [
      "2022-06-29 07:04:32.302139: W ./tensorflow/core/distributed_runtime/eager/destroy_tensor_handle_node.h:57] Ignoring an error encountered when deleting remote tensors handles: Invalid argument: Unable to find the relevant tensor remote_handle: Op ID: 539253, Output num: 0\n",
      "Additional GRPC error information from remote target /job:worker/replica:0/task:0:\n",
      ":{\"created\":\"@1656486272.301729978\",\"description\":\"Error received from peer ipv4:10.0.0.2:8470\",\"file\":\"external/com_github_grpc_grpc/src/core/lib/surface/call.cc\",\"file_line\":1056,\"grpc_message\":\"Unable to find the relevant tensor remote_handle: Op ID: 539253, Output num: 0\",\"grpc_status\":3}\n"
     ]
    },
    {
     "data": {
      "text/html": [
       "Waiting for W&B process to finish... <strong style=\"color:green\">(success).</strong>"
      ],
      "text/plain": [
       "<IPython.core.display.HTML object>"
      ]
     },
     "metadata": {},
     "output_type": "display_data"
    },
    {
     "data": {
      "application/vnd.jupyter.widget-view+json": {
       "model_id": "c75e0360455a4ec986ed28670a0044ae",
       "version_major": 2,
       "version_minor": 0
      },
      "text/plain": [
       "VBox(children=(Label(value='0.000 MB of 0.000 MB uploaded (0.000 MB deduped)\\r'), FloatProgress(value=1.0, max…"
      ]
     },
     "metadata": {},
     "output_type": "display_data"
    },
    {
     "data": {
      "text/html": [
       "<style>\n",
       "    table.wandb td:nth-child(1) { padding: 0 10px; text-align: left ; width: auto;} td:nth-child(2) {text-align: left ; width: 100%}\n",
       "    .wandb-row { display: flex; flex-direction: row; flex-wrap: wrap; justify-content: flex-start; width: 100% }\n",
       "    .wandb-col { display: flex; flex-direction: column; flex-basis: 100%; flex: 1; padding: 10px; }\n",
       "    </style>\n",
       "<div class=\"wandb-row\"><div class=\"wandb-col\"><h3>Run history:</h3><br/><table class=\"wandb\"><tr><td>dice_coef</td><td>▁▂▄▅▆▇▇▇███████</td></tr><tr><td>epoch</td><td>▁▁▂▃▃▃▄▅▅▅▆▇▇▇█</td></tr><tr><td>loss</td><td>██▇▆▄▃▂▂▁▁▁▁▁▁▁</td></tr><tr><td>lr</td><td>███▇▇▆▆▅▅▄▃▃▂▁▁</td></tr><tr><td>num_train</td><td>▁</td></tr><tr><td>num_valid</td><td>▁</td></tr><tr><td>precision</td><td>▁▁▁▂▄▆▇▇▇██████</td></tr><tr><td>recall</td><td>██▇▅▃▁▁▁▂▂▃▃▃▄▄</td></tr><tr><td>val_dice_coef</td><td>▁▂▂▃▄▅▆▆▇▇█████</td></tr><tr><td>val_loss</td><td>██▇▅▄▄▃▃▂▂▂▁▁▁▁</td></tr><tr><td>val_precision</td><td>▁▁▂▃▄▅▆▇█▇█████</td></tr><tr><td>val_recall</td><td>▇█▅▅▄▂▃▁▃▂▃▃▄▄▄</td></tr></table><br/></div><div class=\"wandb-col\"><h3>Run summary:</h3><br/><table class=\"wandb\"><tr><td>best_epoch</td><td>13</td></tr><tr><td>best_val_loss</td><td>0.66158</td></tr><tr><td>dice_coef</td><td>0.88772</td></tr><tr><td>epoch</td><td>14</td></tr><tr><td>loss</td><td>0.14122</td></tr><tr><td>lr</td><td>4e-05</td></tr><tr><td>num_train</td><td>30784</td></tr><tr><td>num_valid</td><td>7424</td></tr><tr><td>precision</td><td>0.85769</td></tr><tr><td>recall</td><td>0.89169</td></tr><tr><td>val_dice_coef</td><td>0.76734</td></tr><tr><td>val_loss</td><td>0.66289</td></tr><tr><td>val_precision</td><td>0.37426</td></tr><tr><td>val_recall</td><td>0.78336</td></tr></table><br/></div></div>"
      ],
      "text/plain": [
       "<IPython.core.display.HTML object>"
      ]
     },
     "metadata": {},
     "output_type": "display_data"
    },
    {
     "data": {
      "text/html": [
       "Synced <strong style=\"color:#cdcd00\">fold-4|dim-128x128|model-TransUNet|backbone-efficientnetb7</strong>: <a href=\"https://wandb.ai/anony-mouse-339698/uwmgi-tf/runs/1re6rxnj?apiKey=ba561ee250672eec57537bc737b83e20b3216be4\" target=\"_blank\">https://wandb.ai/anony-mouse-339698/uwmgi-tf/runs/1re6rxnj?apiKey=ba561ee250672eec57537bc737b83e20b3216be4</a><br/>Synced 5 W&B file(s), 0 media file(s), 0 artifact file(s) and 0 other file(s)"
      ],
      "text/plain": [
       "<IPython.core.display.HTML object>"
      ]
     },
     "metadata": {},
     "output_type": "display_data"
    },
    {
     "data": {
      "text/html": [
       "Find logs at: <code>./wandb/run-20220629_065501-1re6rxnj/logs</code>"
      ],
      "text/plain": [
       "<IPython.core.display.HTML object>"
      ]
     },
     "metadata": {},
     "output_type": "display_data"
    },
    {
     "data": {
      "image/png": "[encoded data removed]",
      "text/plain": [
       "<Figure size 1080x360 with 2 Axes>"
      ]
     },
     "metadata": {
      "needs_background": "light"
     },
     "output_type": "display_data"
    }
   ],
   "source": [
    "M = {}\n",
    "# Which Metrics to store\n",
    "metrics = [\n",
    "    \"loss\",\n",
    "    \"dice_coef\",\n",
    "    \"precision\",\n",
    "    \"recall\",\n",
    "]\n",
    "# Intialize Metrics\n",
    "for fm in metrics:\n",
    "    M[\"val_\" + fm] = []\n",
    "\n",
    "ALL_FILENAMES = sorted(ALL_FILENAMES)\n",
    "\n",
    "# Split tfrecord using KFold\n",
    "kf = KFold(n_splits=CFG.folds, shuffle=True, random_state=CFG.seed) # kfold between trrecord files\n",
    "for fold, (train_idx, valid_idx) in enumerate(kf.split(ALL_FILENAMES)):\n",
    "    # If fold is not in selected folds then avoid that fold\n",
    "    if fold not in CFG.selected_folds:\n",
    "        continue\n",
    "        \n",
    "    # Initialize wandb Run\n",
    "    if CFG.wandb:\n",
    "        run = wandb_init(fold)\n",
    "        WandbCallback = wandb.keras.WandbCallback(save_model=False)\n",
    "\n",
    "    # Train and validation files\n",
    "    TRAIN_FILENAMES = [ALL_FILENAMES[i] for i in train_idx]\n",
    "    VALID_FILENAMES = [ALL_FILENAMES[i] for i in valid_idx]\n",
    "    \n",
    "    # Take Only 10 Files if run in Debug Mode\n",
    "    if CFG.debug:\n",
    "        TRAIN_FILENAMES = TRAIN_FILENAMES[:10]\n",
    "        VALID_FILENAMES = VALID_FILENAMES[:10]\n",
    "\n",
    "    # Shuffle train files\n",
    "    random.shuffle(TRAIN_FILENAMES)\n",
    "\n",
    "    # Count train and valid samples\n",
    "    NUM_TRAIN = count_data_items(TRAIN_FILENAMES)\n",
    "    NUM_VALID = count_data_items(VALID_FILENAMES)\n",
    "\n",
    "    # Compute batch size & steps_per_epoch\n",
    "    BATCH_SIZE = CFG.batch_size * REPLICAS\n",
    "    STEPS_PER_EPOCH = NUM_TRAIN // BATCH_SIZE\n",
    "\n",
    "    print(\"#\" * 65)\n",
    "    print(\"#### FOLD:\", fold)\n",
    "    print(\n",
    "        \"#### IMAGE_SIZE: (%i, %i) | BATCH_SIZE: %i | EPOCHS: %i\"\n",
    "        % (CFG.img_size[0], CFG.img_size[1], BATCH_SIZE, CFG.epochs)\n",
    "    )\n",
    "    print(\n",
    "        \"#### MODEL: %s | BACKBONE: %s | LOSS: %s\"\n",
    "        % (CFG.model_name, CFG.backbone, CFG.loss)\n",
    "    )\n",
    "    print(\"#### NUM_TRAIN: {:,} | NUM_VALID: {:,}\".format(NUM_TRAIN, NUM_VALID))\n",
    "    print(\"#\" * 65)\n",
    "\n",
    "    # Log in w&B before training\n",
    "    if CFG.wandb:\n",
    "        wandb.log(\n",
    "            {\n",
    "                \"num_train\": NUM_TRAIN,\n",
    "                \"num_valid\": NUM_VALID,\n",
    "            }\n",
    "        )\n",
    "\n",
    "    # Build model in device\n",
    "    K.clear_session()\n",
    "    with strategy.scope():\n",
    "        model = get_model(name=CFG.model_name, backbone=CFG.backbone, loss=CFG.loss)\n",
    "\n",
    "    # Callbacks\n",
    "    checkpoint = tf.keras.callbacks.ModelCheckpoint(\n",
    "        \"/kaggle/working/fold-%i.h5\" % fold,\n",
    "        verbose=CFG.verbose,\n",
    "        monitor=\"val_dice_coef\",\n",
    "        mode=\"max\",\n",
    "        save_best_only=True,\n",
    "        save_weights_only=True,\n",
    "    )\n",
    "    callbacks = [checkpoint, get_lr_callback()]\n",
    "\n",
    "    if CFG.wandb:\n",
    "        # Include w&b callback if WANDB is True\n",
    "        callbacks.append(WandbCallback)\n",
    "\n",
    "    # Create train & valid dataset\n",
    "    train_ds = get_dataset(\n",
    "        TRAIN_FILENAMES,\n",
    "        augment=CFG.augment,\n",
    "        batch_size=BATCH_SIZE,\n",
    "        cache=False,\n",
    "        drop_remainder=False,\n",
    "    )\n",
    "    valid_ds = get_dataset(\n",
    "        VALID_FILENAMES,\n",
    "        shuffle=False,\n",
    "        augment=False,\n",
    "        repeat=False,\n",
    "        batch_size=BATCH_SIZE,\n",
    "        cache=False,\n",
    "        drop_remainder=False,\n",
    "    )\n",
    "\n",
    "    # Train model\n",
    "    history = model.fit(\n",
    "        train_ds,\n",
    "        epochs=CFG.epochs if not CFG.debug else 2,\n",
    "        steps_per_epoch=STEPS_PER_EPOCH,\n",
    "        callbacks=callbacks,\n",
    "        validation_data=valid_ds,\n",
    "        #         validation_steps = NUM_VALID/BATCH_SIZE,\n",
    "        verbose=CFG.verbose,\n",
    "    )\n",
    "\n",
    "    # Convert dict history to df history\n",
    "    history = pd.DataFrame(history.history)\n",
    "\n",
    "    # Load best weights\n",
    "    model.load_weights(\"/kaggle/working/fold-%i.h5\" % fold)\n",
    "\n",
    "    # Compute & save best valid result\n",
    "    print(\"\\nValid Result:\")\n",
    "    m = model.evaluate(\n",
    "        get_dataset(\n",
    "            VALID_FILENAMES,\n",
    "            batch_size=BATCH_SIZE,\n",
    "            augment=False,\n",
    "            shuffle=False,\n",
    "            repeat=False,\n",
    "            cache=False,\n",
    "        ),\n",
    "        return_dict=True,\n",
    "#        steps=NUM_VALID/BATCH_SIZE,\n",
    "        verbose=1,\n",
    "    )\n",
    "    print()\n",
    "    \n",
    "    # Store valid results\n",
    "    for fm in metrics:\n",
    "        M[\"val_\" + fm].append(m[fm])\n",
    "        \n",
    "    # Log in wandb\n",
    "    if CFG.wandb:\n",
    "        m[\"epoch\"] = np.argmax(history[\"val_dice_coef\"]) + 1\n",
    "        wandb.log({\"best\": m})\n",
    "        wandb.run.finish()\n",
    "\n",
    "    # Plot Training History\n",
    "    if CFG.display_plot:\n",
    "        plt.figure(figsize=(15, 5))\n",
    "        plt.plot(\n",
    "            np.arange(len(history[\"dice_coef\"])),\n",
    "            history[\"dice_coef\"],\n",
    "            \"-o\",\n",
    "            label=\"Train Dice\",\n",
    "            color=\"#ff7f0e\",\n",
    "        )\n",
    "        plt.plot(\n",
    "            np.arange(len(history[\"dice_coef\"])),\n",
    "            history[\"val_dice_coef\"],\n",
    "            \"-o\",\n",
    "            label=\"Val Dice\",\n",
    "            color=\"#1f77b4\",\n",
    "        )\n",
    "        x = np.argmax(history[\"val_dice_coef\"])\n",
    "        y = np.max(history[\"val_dice_coef\"])\n",
    "        xdist = plt.xlim()[1] - plt.xlim()[0]\n",
    "        ydist = plt.ylim()[1] - plt.ylim()[0]\n",
    "        plt.scatter(x, y, s=200, color=\"#1f77b4\")\n",
    "        plt.text(x - 0.03 * xdist, y - 0.13 * ydist, \"max dice\\n%.2f\" % y, size=14)\n",
    "        plt.ylabel(\"dice_coef\", size=14)\n",
    "        plt.xlabel(\"Epoch\", size=14)\n",
    "        plt.legend(loc=2)\n",
    "        plt2 = plt.gca().twinx()\n",
    "        plt2.plot(\n",
    "            np.arange(len(history[\"dice_coef\"])),\n",
    "            history[\"loss\"],\n",
    "            \"-o\",\n",
    "            label=\"Train Loss\",\n",
    "            color=\"#2ca02c\",\n",
    "        )\n",
    "        plt2.plot(\n",
    "            np.arange(len(history[\"dice_coef\"])),\n",
    "            history[\"val_loss\"],\n",
    "            \"-o\",\n",
    "            label=\"Val Loss\",\n",
    "            color=\"#d62728\",\n",
    "        )\n",
    "        x = np.argmin(history[\"val_loss\"])\n",
    "        y = np.min(history[\"val_loss\"])\n",
    "        ydist = plt.ylim()[1] - plt.ylim()[0]\n",
    "        plt.scatter(x, y, s=200, color=\"#d62728\")\n",
    "        plt.text(x - 0.03 * xdist, y + 0.05 * ydist, \"min loss\", size=14)\n",
    "        plt.ylabel(\"Loss\", size=14)\n",
    "        plt.title(\"FOLD %i\" % (fold), size=18)\n",
    "        plt.legend(loc=3)\n",
    "        plt.savefig(f\"fig-{fold}.png\")\n",
    "        plt.show()"
   ]
  },
  {
   "cell_type": "markdown",
   "id": "96d5eaf4",
   "metadata": {
    "papermill": {
     "duration": 0.171629,
     "end_time": "2022-06-29T07:04:49.945411",
     "exception": false,
     "start_time": "2022-06-29T07:04:49.773782",
     "status": "completed"
    },
    "tags": []
   },
   "source": [
    "## Training Log\n",
    "### [Click Here ➡️](https://wandb.ai/awsaf49/uwmgi-tf) to check training log in **WandB** dashboard.\n",
    "\n",
    "<img src=\"https://i.ibb.co/V3XGd4r/wandb-dashboard.png\">"
   ]
  },
  {
   "cell_type": "markdown",
   "id": "d4f0a80a",
   "metadata": {
    "papermill": {
     "duration": 0.168808,
     "end_time": "2022-06-29T07:04:50.309175",
     "exception": false,
     "start_time": "2022-06-29T07:04:50.140367",
     "status": "completed"
    },
    "tags": []
   },
   "source": [
    "# 15. Calculate OOF 👀\n",
    "Let's check our average score across all folds. This will help us compare our model's performance."
   ]
  },
  {
   "cell_type": "code",
   "execution_count": 25,
   "id": "84cc1369",
   "metadata": {
    "_kg_hide-input": true,
    "execution": {
     "iopub.execute_input": "2022-06-29T07:04:50.657851Z",
     "iopub.status.busy": "2022-06-29T07:04:50.657096Z",
     "iopub.status.idle": "2022-06-29T07:04:50.662619Z",
     "shell.execute_reply": "2022-06-29T07:04:50.663261Z"
    },
    "papermill": {
     "duration": 0.182521,
     "end_time": "2022-06-29T07:04:50.663449",
     "exception": false,
     "start_time": "2022-06-29T07:04:50.480928",
     "status": "completed"
    },
    "tags": []
   },
   "outputs": [
    {
     "name": "stdout",
     "output_type": "stream",
     "text": [
      "OOF loss: 0.5971803367137909\n",
      "OOF dice_coef: 0.7358123540878296\n",
      "OOF precision: 0.44514020085334777\n",
      "OOF recall: 0.7609665632247925\n"
     ]
    }
   ],
   "source": [
    "# Save Metrics\n",
    "M['datetime'] = str(datetime.now())\n",
    "for fm in metrics:\n",
    "    M['oof_'+fm] = np.mean(M['val_'+fm])\n",
    "    print('OOF '+ fm + ': '+ str(M['oof_'+fm]))\n",
    "with open('metrics.json', 'w') as outfile:\n",
    "    json.dump(M, outfile)"
   ]
  },
  {
   "cell_type": "markdown",
   "id": "c5364272",
   "metadata": {
    "papermill": {
     "duration": 0.171378,
     "end_time": "2022-06-29T07:04:51.005714",
     "exception": false,
     "start_time": "2022-06-29T07:04:50.834336",
     "status": "completed"
    },
    "tags": []
   },
   "source": [
    "# 16. Reference 💡\n",
    "* [Triple Stratified KFold with TFRecords](https://www.kaggle.com/cdeotte/triple-stratified-kfold-with-tfrecords) by [Chris Deotte](https://www.kaggle.com/cdeotte)\n",
    "* [TransUNet](https://github.com/Beckschen/TransUNet)(Official)\n",
    "* [TransUnet](https://github.com/kenza-bouzid/TransUnet)(Keras)"
   ]
  },
  {
   "cell_type": "markdown",
   "id": "4f6bee9b",
   "metadata": {
    "papermill": {
     "duration": 0.170285,
     "end_time": "2022-06-29T07:04:51.348210",
     "exception": false,
     "start_time": "2022-06-29T07:04:51.177925",
     "status": "completed"
    },
    "tags": []
   },
   "source": [
    "# 17. Remove Files ✂️"
   ]
  },
  {
   "cell_type": "code",
   "execution_count": 26,
   "id": "6d0bf43c",
   "metadata": {
    "_kg_hide-input": true,
    "_kg_hide-output": true,
    "execution": {
     "iopub.execute_input": "2022-06-29T07:04:51.725210Z",
     "iopub.status.busy": "2022-06-29T07:04:51.696311Z",
     "iopub.status.idle": "2022-06-29T07:04:52.493511Z",
     "shell.execute_reply": "2022-06-29T07:04:52.492810Z"
    },
    "papermill": {
     "duration": 0.972985,
     "end_time": "2022-06-29T07:04:52.493669",
     "exception": false,
     "start_time": "2022-06-29T07:04:51.520684",
     "status": "completed"
    },
    "tags": []
   },
   "outputs": [],
   "source": [
    "import shutil\n",
    "try:\n",
    "    !rm -r ./wandb\n",
    "except:\n",
    "    pass"
   ]
  }
 ],
 "metadata": {
  "kernelspec": {
   "display_name": "Python 3",
   "language": "python",
   "name": "python3"
  },
  "language_info": {
   "codemirror_mode": {
    "name": "ipython",
    "version": 3
   },
   "file_extension": ".py",
   "mimetype": "text/x-python",
   "name": "python",
   "nbconvert_exporter": "python",
   "pygments_lexer": "ipython3",
   "version": "3.7.10"
  },
  "papermill": {
   "default_parameters": {},
   "duration": 2994.939634,
   "end_time": "2022-06-29T07:04:55.411596",
   "environment_variables": {},
   "exception": null,
   "input_path": "__notebook__.ipynb",
   "output_path": "__notebook__.ipynb",
   "parameters": {},
   "start_time": "2022-06-29T06:15:00.471962",
   "version": "2.3.3"
  },
  "widgets": {
   "application/vnd.jupyter.widget-state+json": {
    "state": {
     "0156fb5e542e4e818c76909026d8b714": {
      "model_module": "@jupyter-widgets/base",
      "model_module_version": "1.2.0",
      "model_name": "LayoutModel",
      "state": {
       "_model_module": "@jupyter-widgets/base",
       "_model_module_version": "1.2.0",
       "_model_name": "LayoutModel",
       "_view_count": null,
       "_view_module": "@jupyter-widgets/base",
       "_view_module_version": "1.2.0",
       "_view_name": "LayoutView",
       "align_content": null,
       "align_items": null,
       "align_self": null,
       "border": null,
       "bottom": null,
       "display": null,
       "flex": null,
       "flex_flow": null,
       "grid_area": null,
       "grid_auto_columns": null,
       "grid_auto_flow": null,
       "grid_auto_rows": null,
       "grid_column": null,
       "grid_gap": null,
       "grid_row": null,
       "grid_template_areas": null,
       "grid_template_columns": null,
       "grid_template_rows": null,
       "height": null,
       "justify_content": null,
       "justify_items": null,
       "left": null,
       "margin": null,
       "max_height": null,
       "max_width": null,
       "min_height": null,
       "min_width": null,
       "object_fit": null,
       "object_position": null,
       "order": null,
       "overflow": null,
       "overflow_x": null,
       "overflow_y": null,
       "padding": null,
       "right": null,
       "top": null,
       "visibility": null,
       "width": null
      }
     },
     "02ba9b89b5574f87a1e6ddf5e2292358": {
      "model_module": "@jupyter-widgets/controls",
      "model_module_version": "1.5.0",
      "model_name": "FloatProgressModel",
      "state": {
       "_dom_classes": [],
       "_model_module": "@jupyter-widgets/controls",
       "_model_module_version": "1.5.0",
       "_model_name": "FloatProgressModel",
       "_view_count": null,
       "_view_module": "@jupyter-widgets/controls",
       "_view_module_version": "1.5.0",
       "_view_name": "ProgressView",
       "bar_style": "",
       "description": "",
       "description_tooltip": null,
       "layout": "IPY_MODEL_94e64dd572bd4da7b1f733af00fef148",
       "max": 1.0,
       "min": 0.0,
       "orientation": "horizontal",
       "style": "IPY_MODEL_89ba8ca29a4245f7b405dc6dfc152a75",
       "value": 1.0
      }
     },
     "0322199e93d843fd91a46c24d0d9f45d": {
      "model_module": "@jupyter-widgets/controls",
      "model_module_version": "1.5.0",
      "model_name": "ProgressStyleModel",
      "state": {
       "_model_module": "@jupyter-widgets/controls",
       "_model_module_version": "1.5.0",
       "_model_name": "ProgressStyleModel",
       "_view_count": null,
       "_view_module": "@jupyter-widgets/base",
       "_view_module_version": "1.2.0",
       "_view_name": "StyleView",
       "bar_color": null,
       "description_width": ""
      }
     },
     "1059a3b7d98149888acffb8c395b455e": {
      "model_module": "@jupyter-widgets/controls",
      "model_module_version": "1.5.0",
      "model_name": "VBoxModel",
      "state": {
       "_dom_classes": [],
       "_model_module": "@jupyter-widgets/controls",
       "_model_module_version": "1.5.0",
       "_model_name": "VBoxModel",
       "_view_count": null,
       "_view_module": "@jupyter-widgets/controls",
       "_view_module_version": "1.5.0",
       "_view_name": "VBoxView",
       "box_style": "",
       "children": [
        "IPY_MODEL_84a073dede0f49abaea16880a59a5df6",
        "IPY_MODEL_de017ca0d00641de985e5f7ae2b3ae59"
       ],
       "layout": "IPY_MODEL_cd84fa5851d9441fb9950a9bcf7cfc8f"
      }
     },
     "152661a030404930b35565f752d5cc90": {
      "model_module": "@jupyter-widgets/controls",
      "model_module_version": "1.5.0",
      "model_name": "VBoxModel",
      "state": {
       "_dom_classes": [],
       "_model_module": "@jupyter-widgets/controls",
       "_model_module_version": "1.5.0",
       "_model_name": "VBoxModel",
       "_view_count": null,
       "_view_module": "@jupyter-widgets/controls",
       "_view_module_version": "1.5.0",
       "_view_name": "VBoxView",
       "box_style": "",
       "children": [
        "IPY_MODEL_3cb2c492b24044f5b57deef2ed91cf65",
        "IPY_MODEL_e8d434a984c144618e05ff8db23bb9ec"
       ],
       "layout": "IPY_MODEL_5ae2a2b780f743ea9aecdb9344b15ed8"
      }
     },
     "1fc6e78e7207435fb622fdfb64bb460b": {
      "model_module": "@jupyter-widgets/base",
      "model_module_version": "1.2.0",
      "model_name": "LayoutModel",
      "state": {
       "_model_module": "@jupyter-widgets/base",
       "_model_module_version": "1.2.0",
       "_model_name": "LayoutModel",
       "_view_count": null,
       "_view_module": "@jupyter-widgets/base",
       "_view_module_version": "1.2.0",
       "_view_name": "LayoutView",
       "align_content": null,
       "align_items": null,
       "align_self": null,
       "border": null,
       "bottom": null,
       "display": null,
       "flex": null,
       "flex_flow": null,
       "grid_area": null,
       "grid_auto_columns": null,
       "grid_auto_flow": null,
       "grid_auto_rows": null,
       "grid_column": null,
       "grid_gap": null,
       "grid_row": null,
       "grid_template_areas": null,
       "grid_template_columns": null,
       "grid_template_rows": null,
       "height": null,
       "justify_content": null,
       "justify_items": null,
       "left": null,
       "margin": null,
       "max_height": null,
       "max_width": null,
       "min_height": null,
       "min_width": null,
       "object_fit": null,
       "object_position": null,
       "order": null,
       "overflow": null,
       "overflow_x": null,
       "overflow_y": null,
       "padding": null,
       "right": null,
       "top": null,
       "visibility": null,
       "width": null
      }
     },
     "23aec0a9fa79493595dc2abecdaac6ee": {
      "model_module": "@jupyter-widgets/base",
      "model_module_version": "1.2.0",
      "model_name": "LayoutModel",
      "state": {
       "_model_module": "@jupyter-widgets/base",
       "_model_module_version": "1.2.0",
       "_model_name": "LayoutModel",
       "_view_count": null,
       "_view_module": "@jupyter-widgets/base",
       "_view_module_version": "1.2.0",
       "_view_name": "LayoutView",
       "align_content": null,
       "align_items": null,
       "align_self": null,
       "border": null,
       "bottom": null,
       "display": null,
       "flex": null,
       "flex_flow": null,
       "grid_area": null,
       "grid_auto_columns": null,
       "grid_auto_flow": null,
       "grid_auto_rows": null,
       "grid_column": null,
       "grid_gap": null,
       "grid_row": null,
       "grid_template_areas": null,
       "grid_template_columns": null,
       "grid_template_rows": null,
       "height": null,
       "justify_content": null,
       "justify_items": null,
       "left": null,
       "margin": null,
       "max_height": null,
       "max_width": null,
       "min_height": null,
       "min_width": null,
       "object_fit": null,
       "object_position": null,
       "order": null,
       "overflow": null,
       "overflow_x": null,
       "overflow_y": null,
       "padding": null,
       "right": null,
       "top": null,
       "visibility": null,
       "width": null
      }
     },
     "26af8b119b734ad986cbfdae7f14bc26": {
      "model_module": "@jupyter-widgets/controls",
      "model_module_version": "1.5.0",
      "model_name": "ProgressStyleModel",
      "state": {
       "_model_module": "@jupyter-widgets/controls",
       "_model_module_version": "1.5.0",
       "_model_name": "ProgressStyleModel",
       "_view_count": null,
       "_view_module": "@jupyter-widgets/base",
       "_view_module_version": "1.2.0",
       "_view_name": "StyleView",
       "bar_color": null,
       "description_width": ""
      }
     },
     "282e9e861d25469a9c562ea9094548a2": {
      "model_module": "@jupyter-widgets/controls",
      "model_module_version": "1.5.0",
      "model_name": "LabelModel",
      "state": {
       "_dom_classes": [],
       "_model_module": "@jupyter-widgets/controls",
       "_model_module_version": "1.5.0",
       "_model_name": "LabelModel",
       "_view_count": null,
       "_view_module": "@jupyter-widgets/controls",
       "_view_module_version": "1.5.0",
       "_view_name": "LabelView",
       "description": "",
       "description_tooltip": null,
       "layout": "IPY_MODEL_b6904fb44ebf402a9ffa76ea494f6545",
       "placeholder": "​",
       "style": "IPY_MODEL_d777fcbc62fd413ba797216b977fbca6",
       "value": ""
      }
     },
     "2dd5deced9174fe487230515dd90de59": {
      "model_module": "@jupyter-widgets/controls",
      "model_module_version": "1.5.0",
      "model_name": "VBoxModel",
      "state": {
       "_dom_classes": [],
       "_model_module": "@jupyter-widgets/controls",
       "_model_module_version": "1.5.0",
       "_model_name": "VBoxModel",
       "_view_count": null,
       "_view_module": "@jupyter-widgets/controls",
       "_view_module_version": "1.5.0",
       "_view_name": "VBoxView",
       "box_style": "",
       "children": [
        "IPY_MODEL_282e9e861d25469a9c562ea9094548a2",
        "IPY_MODEL_633e69bf0ba548e08cca559a55c43f42"
       ],
       "layout": "IPY_MODEL_e2911aa849f7440e8d75a42eec147e25"
      }
     },
     "2efa5c03387d46748d7403699d4776a2": {
      "model_module": "@jupyter-widgets/controls",
      "model_module_version": "1.5.0",
      "model_name": "LabelModel",
      "state": {
       "_dom_classes": [],
       "_model_module": "@jupyter-widgets/controls",
       "_model_module_version": "1.5.0",
       "_model_name": "LabelModel",
       "_view_count": null,
       "_view_module": "@jupyter-widgets/controls",
       "_view_module_version": "1.5.0",
       "_view_name": "LabelView",
       "description": "",
       "description_tooltip": null,
       "layout": "IPY_MODEL_55ecab7d7fbd435ebaea0f4a25378d97",
       "placeholder": "​",
       "style": "IPY_MODEL_3d80a4ae4c204318b9b15a7bf3b0f815",
       "value": "0.017 MB of 0.017 MB uploaded (0.000 MB deduped)\r"
      }
     },
     "2f629a72d5034f318288f78b99454831": {
      "model_module": "@jupyter-widgets/controls",
      "model_module_version": "1.5.0",
      "model_name": "LabelModel",
      "state": {
       "_dom_classes": [],
       "_model_module": "@jupyter-widgets/controls",
       "_model_module_version": "1.5.0",
       "_model_name": "LabelModel",
       "_view_count": null,
       "_view_module": "@jupyter-widgets/controls",
       "_view_module_version": "1.5.0",
       "_view_name": "LabelView",
       "description": "",
       "description_tooltip": null,
       "layout": "IPY_MODEL_8b34428a4d454fddac6b2cfeb7cfa292",
       "placeholder": "​",
       "style": "IPY_MODEL_b16aa4be2f0f4beead617ae92a0da1b6",
       "value": ""
      }
     },
     "326af925957540d9baed011a6d0fc276": {
      "model_module": "@jupyter-widgets/base",
      "model_module_version": "1.2.0",
      "model_name": "LayoutModel",
      "state": {
       "_model_module": "@jupyter-widgets/base",
       "_model_module_version": "1.2.0",
       "_model_name": "LayoutModel",
       "_view_count": null,
       "_view_module": "@jupyter-widgets/base",
       "_view_module_version": "1.2.0",
       "_view_name": "LayoutView",
       "align_content": null,
       "align_items": null,
       "align_self": null,
       "border": null,
       "bottom": null,
       "display": null,
       "flex": null,
       "flex_flow": null,
       "grid_area": null,
       "grid_auto_columns": null,
       "grid_auto_flow": null,
       "grid_auto_rows": null,
       "grid_column": null,
       "grid_gap": null,
       "grid_row": null,
       "grid_template_areas": null,
       "grid_template_columns": null,
       "grid_template_rows": null,
       "height": null,
       "justify_content": null,
       "justify_items": null,
       "left": null,
       "margin": null,
       "max_height": null,
       "max_width": null,
       "min_height": null,
       "min_width": null,
       "object_fit": null,
       "object_position": null,
       "order": null,
       "overflow": null,
       "overflow_x": null,
       "overflow_y": null,
       "padding": null,
       "right": null,
       "top": null,
       "visibility": null,
       "width": null
      }
     },
     "352b75ea14884ba8948f06d65f32d824": {
      "model_module": "@jupyter-widgets/base",
      "model_module_version": "1.2.0",
      "model_name": "LayoutModel",
      "state": {
       "_model_module": "@jupyter-widgets/base",
       "_model_module_version": "1.2.0",
       "_model_name": "LayoutModel",
       "_view_count": null,
       "_view_module": "@jupyter-widgets/base",
       "_view_module_version": "1.2.0",
       "_view_name": "LayoutView",
       "align_content": null,
       "align_items": null,
       "align_self": null,
       "border": null,
       "bottom": null,
       "display": null,
       "flex": null,
       "flex_flow": null,
       "grid_area": null,
       "grid_auto_columns": null,
       "grid_auto_flow": null,
       "grid_auto_rows": null,
       "grid_column": null,
       "grid_gap": null,
       "grid_row": null,
       "grid_template_areas": null,
       "grid_template_columns": null,
       "grid_template_rows": null,
       "height": null,
       "justify_content": null,
       "justify_items": null,
       "left": null,
       "margin": null,
       "max_height": null,
       "max_width": null,
       "min_height": null,
       "min_width": null,
       "object_fit": null,
       "object_position": null,
       "order": null,
       "overflow": null,
       "overflow_x": null,
       "overflow_y": null,
       "padding": null,
       "right": null,
       "top": null,
       "visibility": null,
       "width": null
      }
     },
     "359b3607e8a54ed3a259ad05bd4e80e5": {
      "model_module": "@jupyter-widgets/controls",
      "model_module_version": "1.5.0",
      "model_name": "VBoxModel",
      "state": {
       "_dom_classes": [],
       "_model_module": "@jupyter-widgets/controls",
       "_model_module_version": "1.5.0",
       "_model_name": "VBoxModel",
       "_view_count": null,
       "_view_module": "@jupyter-widgets/controls",
       "_view_module_version": "1.5.0",
       "_view_name": "VBoxView",
       "box_style": "",
       "children": [
        "IPY_MODEL_c211de401aed426c84f13b9f0de5fc64",
        "IPY_MODEL_f4401b61616e47d6b3dd65f685532b26"
       ],
       "layout": "IPY_MODEL_af152a58ea1f45769180d094d7727cdf"
      }
     },
     "3cb2c492b24044f5b57deef2ed91cf65": {
      "model_module": "@jupyter-widgets/controls",
      "model_module_version": "1.5.0",
      "model_name": "LabelModel",
      "state": {
       "_dom_classes": [],
       "_model_module": "@jupyter-widgets/controls",
       "_model_module_version": "1.5.0",
       "_model_name": "LabelModel",
       "_view_count": null,
       "_view_module": "@jupyter-widgets/controls",
       "_view_module_version": "1.5.0",
       "_view_name": "LabelView",
       "description": "",
       "description_tooltip": null,
       "layout": "IPY_MODEL_23aec0a9fa79493595dc2abecdaac6ee",
       "placeholder": "​",
       "style": "IPY_MODEL_b2f0124ae1d0499bbd220376a2cdd998",
       "value": "0.017 MB of 0.017 MB uploaded (0.000 MB deduped)\r"
      }
     },
     "3d80a4ae4c204318b9b15a7bf3b0f815": {
      "model_module": "@jupyter-widgets/controls",
      "model_module_version": "1.5.0",
      "model_name": "DescriptionStyleModel",
      "state": {
       "_model_module": "@jupyter-widgets/controls",
       "_model_module_version": "1.5.0",
       "_model_name": "DescriptionStyleModel",
       "_view_count": null,
       "_view_module": "@jupyter-widgets/base",
       "_view_module_version": "1.2.0",
       "_view_name": "StyleView",
       "description_width": ""
      }
     },
     "46403938282a483f85de9d809bc46338": {
      "model_module": "@jupyter-widgets/controls",
      "model_module_version": "1.5.0",
      "model_name": "LabelModel",
      "state": {
       "_dom_classes": [],
       "_model_module": "@jupyter-widgets/controls",
       "_model_module_version": "1.5.0",
       "_model_name": "LabelModel",
       "_view_count": null,
       "_view_module": "@jupyter-widgets/controls",
       "_view_module_version": "1.5.0",
       "_view_name": "LabelView",
       "description": "",
       "description_tooltip": null,
       "layout": "IPY_MODEL_1fc6e78e7207435fb622fdfb64bb460b",
       "placeholder": "​",
       "style": "IPY_MODEL_c1ac2d93ae2245f697de6dfad05520a1",
       "value": "0.017 MB of 0.017 MB uploaded (0.000 MB deduped)\r"
      }
     },
     "4c5affc1deb34001b2ff018bb671f6f0": {
      "model_module": "@jupyter-widgets/base",
      "model_module_version": "1.2.0",
      "model_name": "LayoutModel",
      "state": {
       "_model_module": "@jupyter-widgets/base",
       "_model_module_version": "1.2.0",
       "_model_name": "LayoutModel",
       "_view_count": null,
       "_view_module": "@jupyter-widgets/base",
       "_view_module_version": "1.2.0",
       "_view_name": "LayoutView",
       "align_content": null,
       "align_items": null,
       "align_self": null,
       "border": null,
       "bottom": null,
       "display": null,
       "flex": null,
       "flex_flow": null,
       "grid_area": null,
       "grid_auto_columns": null,
       "grid_auto_flow": null,
       "grid_auto_rows": null,
       "grid_column": null,
       "grid_gap": null,
       "grid_row": null,
       "grid_template_areas": null,
       "grid_template_columns": null,
       "grid_template_rows": null,
       "height": null,
       "justify_content": null,
       "justify_items": null,
       "left": null,
       "margin": null,
       "max_height": null,
       "max_width": null,
       "min_height": null,
       "min_width": null,
       "object_fit": null,
       "object_position": null,
       "order": null,
       "overflow": null,
       "overflow_x": null,
       "overflow_y": null,
       "padding": null,
       "right": null,
       "top": null,
       "visibility": null,
       "width": null
      }
     },
     "4e1f8987550044fcbd3f45c8df44364c": {
      "model_module": "@jupyter-widgets/controls",
      "model_module_version": "1.5.0",
      "model_name": "FloatProgressModel",
      "state": {
       "_dom_classes": [],
       "_model_module": "@jupyter-widgets/controls",
       "_model_module_version": "1.5.0",
       "_model_name": "FloatProgressModel",
       "_view_count": null,
       "_view_module": "@jupyter-widgets/controls",
       "_view_module_version": "1.5.0",
       "_view_name": "ProgressView",
       "bar_style": "",
       "description": "",
       "description_tooltip": null,
       "layout": "IPY_MODEL_859d5a6980fa435e8715e1dd4f4139d8",
       "max": 1.0,
       "min": 0.0,
       "orientation": "horizontal",
       "style": "IPY_MODEL_b6be97577e48410bae3f821f481ba5c5",
       "value": 0.0
      }
     },
     "537d852216ef44e1b722b58131a866d0": {
      "model_module": "@jupyter-widgets/base",
      "model_module_version": "1.2.0",
      "model_name": "LayoutModel",
      "state": {
       "_model_module": "@jupyter-widgets/base",
       "_model_module_version": "1.2.0",
       "_model_name": "LayoutModel",
       "_view_count": null,
       "_view_module": "@jupyter-widgets/base",
       "_view_module_version": "1.2.0",
       "_view_name": "LayoutView",
       "align_content": null,
       "align_items": null,
       "align_self": null,
       "border": null,
       "bottom": null,
       "display": null,
       "flex": null,
       "flex_flow": null,
       "grid_area": null,
       "grid_auto_columns": null,
       "grid_auto_flow": null,
       "grid_auto_rows": null,
       "grid_column": null,
       "grid_gap": null,
       "grid_row": null,
       "grid_template_areas": null,
       "grid_template_columns": null,
       "grid_template_rows": null,
       "height": null,
       "justify_content": null,
       "justify_items": null,
       "left": null,
       "margin": null,
       "max_height": null,
       "max_width": null,
       "min_height": null,
       "min_width": null,
       "object_fit": null,
       "object_position": null,
       "order": null,
       "overflow": null,
       "overflow_x": null,
       "overflow_y": null,
       "padding": null,
       "right": null,
       "top": null,
       "visibility": null,
       "width": null
      }
     },
     "55ecab7d7fbd435ebaea0f4a25378d97": {
      "model_module": "@jupyter-widgets/base",
      "model_module_version": "1.2.0",
      "model_name": "LayoutModel",
      "state": {
       "_model_module": "@jupyter-widgets/base",
       "_model_module_version": "1.2.0",
       "_model_name": "LayoutModel",
       "_view_count": null,
       "_view_module": "@jupyter-widgets/base",
       "_view_module_version": "1.2.0",
       "_view_name": "LayoutView",
       "align_content": null,
       "align_items": null,
       "align_self": null,
       "border": null,
       "bottom": null,
       "display": null,
       "flex": null,
       "flex_flow": null,
       "grid_area": null,
       "grid_auto_columns": null,
       "grid_auto_flow": null,
       "grid_auto_rows": null,
       "grid_column": null,
       "grid_gap": null,
       "grid_row": null,
       "grid_template_areas": null,
       "grid_template_columns": null,
       "grid_template_rows": null,
       "height": null,
       "justify_content": null,
       "justify_items": null,
       "left": null,
       "margin": null,
       "max_height": null,
       "max_width": null,
       "min_height": null,
       "min_width": null,
       "object_fit": null,
       "object_position": null,
       "order": null,
       "overflow": null,
       "overflow_x": null,
       "overflow_y": null,
       "padding": null,
       "right": null,
       "top": null,
       "visibility": null,
       "width": null
      }
     },
     "5ae2a2b780f743ea9aecdb9344b15ed8": {
      "model_module": "@jupyter-widgets/base",
      "model_module_version": "1.2.0",
      "model_name": "LayoutModel",
      "state": {
       "_model_module": "@jupyter-widgets/base",
       "_model_module_version": "1.2.0",
       "_model_name": "LayoutModel",
       "_view_count": null,
       "_view_module": "@jupyter-widgets/base",
       "_view_module_version": "1.2.0",
       "_view_name": "LayoutView",
       "align_content": null,
       "align_items": null,
       "align_self": null,
       "border": null,
       "bottom": null,
       "display": null,
       "flex": null,
       "flex_flow": null,
       "grid_area": null,
       "grid_auto_columns": null,
       "grid_auto_flow": null,
       "grid_auto_rows": null,
       "grid_column": null,
       "grid_gap": null,
       "grid_row": null,
       "grid_template_areas": null,
       "grid_template_columns": null,
       "grid_template_rows": null,
       "height": null,
       "justify_content": null,
       "justify_items": null,
       "left": null,
       "margin": null,
       "max_height": null,
       "max_width": null,
       "min_height": null,
       "min_width": null,
       "object_fit": null,
       "object_position": null,
       "order": null,
       "overflow": null,
       "overflow_x": null,
       "overflow_y": null,
       "padding": null,
       "right": null,
       "top": null,
       "visibility": null,
       "width": null
      }
     },
     "5eb887db375144a78c4b73f2f90d503d": {
      "model_module": "@jupyter-widgets/controls",
      "model_module_version": "1.5.0",
      "model_name": "DescriptionStyleModel",
      "state": {
       "_model_module": "@jupyter-widgets/controls",
       "_model_module_version": "1.5.0",
       "_model_name": "DescriptionStyleModel",
       "_view_count": null,
       "_view_module": "@jupyter-widgets/base",
       "_view_module_version": "1.2.0",
       "_view_name": "StyleView",
       "description_width": ""
      }
     },
     "5fa5cb2ba030419f8ac7e75d1635034e": {
      "model_module": "@jupyter-widgets/controls",
      "model_module_version": "1.5.0",
      "model_name": "VBoxModel",
      "state": {
       "_dom_classes": [],
       "_model_module": "@jupyter-widgets/controls",
       "_model_module_version": "1.5.0",
       "_model_name": "VBoxModel",
       "_view_count": null,
       "_view_module": "@jupyter-widgets/controls",
       "_view_module_version": "1.5.0",
       "_view_name": "VBoxView",
       "box_style": "",
       "children": [
        "IPY_MODEL_c2fd0eed571d45fa9a1bf7059163db93",
        "IPY_MODEL_4e1f8987550044fcbd3f45c8df44364c"
       ],
       "layout": "IPY_MODEL_537d852216ef44e1b722b58131a866d0"
      }
     },
     "633e69bf0ba548e08cca559a55c43f42": {
      "model_module": "@jupyter-widgets/controls",
      "model_module_version": "1.5.0",
      "model_name": "FloatProgressModel",
      "state": {
       "_dom_classes": [],
       "_model_module": "@jupyter-widgets/controls",
       "_model_module_version": "1.5.0",
       "_model_name": "FloatProgressModel",
       "_view_count": null,
       "_view_module": "@jupyter-widgets/controls",
       "_view_module_version": "1.5.0",
       "_view_name": "ProgressView",
       "bar_style": "",
       "description": "",
       "description_tooltip": null,
       "layout": "IPY_MODEL_f829e3fe65e14ce19083bd946e3b56e8",
       "max": 1.0,
       "min": 0.0,
       "orientation": "horizontal",
       "style": "IPY_MODEL_26af8b119b734ad986cbfdae7f14bc26",
       "value": 0.0
      }
     },
     "6df2789c98194d0494c04d8342ae0e79": {
      "model_module": "@jupyter-widgets/controls",
      "model_module_version": "1.5.0",
      "model_name": "VBoxModel",
      "state": {
       "_dom_classes": [],
       "_model_module": "@jupyter-widgets/controls",
       "_model_module_version": "1.5.0",
       "_model_name": "VBoxModel",
       "_view_count": null,
       "_view_module": "@jupyter-widgets/controls",
       "_view_module_version": "1.5.0",
       "_view_name": "VBoxView",
       "box_style": "",
       "children": [
        "IPY_MODEL_7349d4953242410ba01ce8525afb262f",
        "IPY_MODEL_77a04e14657241e399535b62d46d0005"
       ],
       "layout": "IPY_MODEL_d4f7e05503eb444ca29a164eb5208583"
      }
     },
     "6f39f355da144fc8ad0e046f7ca3c195": {
      "model_module": "@jupyter-widgets/base",
      "model_module_version": "1.2.0",
      "model_name": "LayoutModel",
      "state": {
       "_model_module": "@jupyter-widgets/base",
       "_model_module_version": "1.2.0",
       "_model_name": "LayoutModel",
       "_view_count": null,
       "_view_module": "@jupyter-widgets/base",
       "_view_module_version": "1.2.0",
       "_view_name": "LayoutView",
       "align_content": null,
       "align_items": null,
       "align_self": null,
       "border": null,
       "bottom": null,
       "display": null,
       "flex": null,
       "flex_flow": null,
       "grid_area": null,
       "grid_auto_columns": null,
       "grid_auto_flow": null,
       "grid_auto_rows": null,
       "grid_column": null,
       "grid_gap": null,
       "grid_row": null,
       "grid_template_areas": null,
       "grid_template_columns": null,
       "grid_template_rows": null,
       "height": null,
       "justify_content": null,
       "justify_items": null,
       "left": null,
       "margin": null,
       "max_height": null,
       "max_width": null,
       "min_height": null,
       "min_width": null,
       "object_fit": null,
       "object_position": null,
       "order": null,
       "overflow": null,
       "overflow_x": null,
       "overflow_y": null,
       "padding": null,
       "right": null,
       "top": null,
       "visibility": null,
       "width": null
      }
     },
     "7349d4953242410ba01ce8525afb262f": {
      "model_module": "@jupyter-widgets/controls",
      "model_module_version": "1.5.0",
      "model_name": "LabelModel",
      "state": {
       "_dom_classes": [],
       "_model_module": "@jupyter-widgets/controls",
       "_model_module_version": "1.5.0",
       "_model_name": "LabelModel",
       "_view_count": null,
       "_view_module": "@jupyter-widgets/controls",
       "_view_module_version": "1.5.0",
       "_view_name": "LabelView",
       "description": "",
       "description_tooltip": null,
       "layout": "IPY_MODEL_e2a521947f974a55bde20163b356c698",
       "placeholder": "​",
       "style": "IPY_MODEL_b817bfc002434f3d982ae0d89ea6b7e3",
       "value": "0.017 MB of 0.017 MB uploaded (0.000 MB deduped)\r"
      }
     },
     "77a04e14657241e399535b62d46d0005": {
      "model_module": "@jupyter-widgets/controls",
      "model_module_version": "1.5.0",
      "model_name": "FloatProgressModel",
      "state": {
       "_dom_classes": [],
       "_model_module": "@jupyter-widgets/controls",
       "_model_module_version": "1.5.0",
       "_model_name": "FloatProgressModel",
       "_view_count": null,
       "_view_module": "@jupyter-widgets/controls",
       "_view_module_version": "1.5.0",
       "_view_name": "ProgressView",
       "bar_style": "",
       "description": "",
       "description_tooltip": null,
       "layout": "IPY_MODEL_7817d8b9708f4c1a965dd70f5b13f035",
       "max": 1.0,
       "min": 0.0,
       "orientation": "horizontal",
       "style": "IPY_MODEL_f152044394bc4d718edae6f344de037c",
       "value": 1.0
      }
     },
     "7817d8b9708f4c1a965dd70f5b13f035": {
      "model_module": "@jupyter-widgets/base",
      "model_module_version": "1.2.0",
      "model_name": "LayoutModel",
      "state": {
       "_model_module": "@jupyter-widgets/base",
       "_model_module_version": "1.2.0",
       "_model_name": "LayoutModel",
       "_view_count": null,
       "_view_module": "@jupyter-widgets/base",
       "_view_module_version": "1.2.0",
       "_view_name": "LayoutView",
       "align_content": null,
       "align_items": null,
       "align_self": null,
       "border": null,
       "bottom": null,
       "display": null,
       "flex": null,
       "flex_flow": null,
       "grid_area": null,
       "grid_auto_columns": null,
       "grid_auto_flow": null,
       "grid_auto_rows": null,
       "grid_column": null,
       "grid_gap": null,
       "grid_row": null,
       "grid_template_areas": null,
       "grid_template_columns": null,
       "grid_template_rows": null,
       "height": null,
       "justify_content": null,
       "justify_items": null,
       "left": null,
       "margin": null,
       "max_height": null,
       "max_width": null,
       "min_height": null,
       "min_width": null,
       "object_fit": null,
       "object_position": null,
       "order": null,
       "overflow": null,
       "overflow_x": null,
       "overflow_y": null,
       "padding": null,
       "right": null,
       "top": null,
       "visibility": null,
       "width": null
      }
     },
     "823be7d71af444aebec972603754e3cc": {
      "model_module": "@jupyter-widgets/controls",
      "model_module_version": "1.5.0",
      "model_name": "DescriptionStyleModel",
      "state": {
       "_model_module": "@jupyter-widgets/controls",
       "_model_module_version": "1.5.0",
       "_model_name": "DescriptionStyleModel",
       "_view_count": null,
       "_view_module": "@jupyter-widgets/base",
       "_view_module_version": "1.2.0",
       "_view_name": "StyleView",
       "description_width": ""
      }
     },
     "84a073dede0f49abaea16880a59a5df6": {
      "model_module": "@jupyter-widgets/controls",
      "model_module_version": "1.5.0",
      "model_name": "LabelModel",
      "state": {
       "_dom_classes": [],
       "_model_module": "@jupyter-widgets/controls",
       "_model_module_version": "1.5.0",
       "_model_name": "LabelModel",
       "_view_count": null,
       "_view_module": "@jupyter-widgets/controls",
       "_view_module_version": "1.5.0",
       "_view_name": "LabelView",
       "description": "",
       "description_tooltip": null,
       "layout": "IPY_MODEL_0156fb5e542e4e818c76909026d8b714",
       "placeholder": "​",
       "style": "IPY_MODEL_5eb887db375144a78c4b73f2f90d503d",
       "value": ""
      }
     },
     "859d5a6980fa435e8715e1dd4f4139d8": {
      "model_module": "@jupyter-widgets/base",
      "model_module_version": "1.2.0",
      "model_name": "LayoutModel",
      "state": {
       "_model_module": "@jupyter-widgets/base",
       "_model_module_version": "1.2.0",
       "_model_name": "LayoutModel",
       "_view_count": null,
       "_view_module": "@jupyter-widgets/base",
       "_view_module_version": "1.2.0",
       "_view_name": "LayoutView",
       "align_content": null,
       "align_items": null,
       "align_self": null,
       "border": null,
       "bottom": null,
       "display": null,
       "flex": null,
       "flex_flow": null,
       "grid_area": null,
       "grid_auto_columns": null,
       "grid_auto_flow": null,
       "grid_auto_rows": null,
       "grid_column": null,
       "grid_gap": null,
       "grid_row": null,
       "grid_template_areas": null,
       "grid_template_columns": null,
       "grid_template_rows": null,
       "height": null,
       "justify_content": null,
       "justify_items": null,
       "left": null,
       "margin": null,
       "max_height": null,
       "max_width": null,
       "min_height": null,
       "min_width": null,
       "object_fit": null,
       "object_position": null,
       "order": null,
       "overflow": null,
       "overflow_x": null,
       "overflow_y": null,
       "padding": null,
       "right": null,
       "top": null,
       "visibility": null,
       "width": null
      }
     },
     "89ba8ca29a4245f7b405dc6dfc152a75": {
      "model_module": "@jupyter-widgets/controls",
      "model_module_version": "1.5.0",
      "model_name": "ProgressStyleModel",
      "state": {
       "_model_module": "@jupyter-widgets/controls",
       "_model_module_version": "1.5.0",
       "_model_name": "ProgressStyleModel",
       "_view_count": null,
       "_view_module": "@jupyter-widgets/base",
       "_view_module_version": "1.2.0",
       "_view_name": "StyleView",
       "bar_color": null,
       "description_width": ""
      }
     },
     "8b34428a4d454fddac6b2cfeb7cfa292": {
      "model_module": "@jupyter-widgets/base",
      "model_module_version": "1.2.0",
      "model_name": "LayoutModel",
      "state": {
       "_model_module": "@jupyter-widgets/base",
       "_model_module_version": "1.2.0",
       "_model_name": "LayoutModel",
       "_view_count": null,
       "_view_module": "@jupyter-widgets/base",
       "_view_module_version": "1.2.0",
       "_view_name": "LayoutView",
       "align_content": null,
       "align_items": null,
       "align_self": null,
       "border": null,
       "bottom": null,
       "display": null,
       "flex": null,
       "flex_flow": null,
       "grid_area": null,
       "grid_auto_columns": null,
       "grid_auto_flow": null,
       "grid_auto_rows": null,
       "grid_column": null,
       "grid_gap": null,
       "grid_row": null,
       "grid_template_areas": null,
       "grid_template_columns": null,
       "grid_template_rows": null,
       "height": null,
       "justify_content": null,
       "justify_items": null,
       "left": null,
       "margin": null,
       "max_height": null,
       "max_width": null,
       "min_height": null,
       "min_width": null,
       "object_fit": null,
       "object_position": null,
       "order": null,
       "overflow": null,
       "overflow_x": null,
       "overflow_y": null,
       "padding": null,
       "right": null,
       "top": null,
       "visibility": null,
       "width": null
      }
     },
     "91cc47243fd046dc8e8b5ec375a0b841": {
      "model_module": "@jupyter-widgets/base",
      "model_module_version": "1.2.0",
      "model_name": "LayoutModel",
      "state": {
       "_model_module": "@jupyter-widgets/base",
       "_model_module_version": "1.2.0",
       "_model_name": "LayoutModel",
       "_view_count": null,
       "_view_module": "@jupyter-widgets/base",
       "_view_module_version": "1.2.0",
       "_view_name": "LayoutView",
       "align_content": null,
       "align_items": null,
       "align_self": null,
       "border": null,
       "bottom": null,
       "display": null,
       "flex": null,
       "flex_flow": null,
       "grid_area": null,
       "grid_auto_columns": null,
       "grid_auto_flow": null,
       "grid_auto_rows": null,
       "grid_column": null,
       "grid_gap": null,
       "grid_row": null,
       "grid_template_areas": null,
       "grid_template_columns": null,
       "grid_template_rows": null,
       "height": null,
       "justify_content": null,
       "justify_items": null,
       "left": null,
       "margin": null,
       "max_height": null,
       "max_width": null,
       "min_height": null,
       "min_width": null,
       "object_fit": null,
       "object_position": null,
       "order": null,
       "overflow": null,
       "overflow_x": null,
       "overflow_y": null,
       "padding": null,
       "right": null,
       "top": null,
       "visibility": null,
       "width": null
      }
     },
     "91e167d459a84ac9b7b09a560e4ebcc5": {
      "model_module": "@jupyter-widgets/controls",
      "model_module_version": "1.5.0",
      "model_name": "DescriptionStyleModel",
      "state": {
       "_model_module": "@jupyter-widgets/controls",
       "_model_module_version": "1.5.0",
       "_model_name": "DescriptionStyleModel",
       "_view_count": null,
       "_view_module": "@jupyter-widgets/base",
       "_view_module_version": "1.2.0",
       "_view_name": "StyleView",
       "description_width": ""
      }
     },
     "94e64dd572bd4da7b1f733af00fef148": {
      "model_module": "@jupyter-widgets/base",
      "model_module_version": "1.2.0",
      "model_name": "LayoutModel",
      "state": {
       "_model_module": "@jupyter-widgets/base",
       "_model_module_version": "1.2.0",
       "_model_name": "LayoutModel",
       "_view_count": null,
       "_view_module": "@jupyter-widgets/base",
       "_view_module_version": "1.2.0",
       "_view_name": "LayoutView",
       "align_content": null,
       "align_items": null,
       "align_self": null,
       "border": null,
       "bottom": null,
       "display": null,
       "flex": null,
       "flex_flow": null,
       "grid_area": null,
       "grid_auto_columns": null,
       "grid_auto_flow": null,
       "grid_auto_rows": null,
       "grid_column": null,
       "grid_gap": null,
       "grid_row": null,
       "grid_template_areas": null,
       "grid_template_columns": null,
       "grid_template_rows": null,
       "height": null,
       "justify_content": null,
       "justify_items": null,
       "left": null,
       "margin": null,
       "max_height": null,
       "max_width": null,
       "min_height": null,
       "min_width": null,
       "object_fit": null,
       "object_position": null,
       "order": null,
       "overflow": null,
       "overflow_x": null,
       "overflow_y": null,
       "padding": null,
       "right": null,
       "top": null,
       "visibility": null,
       "width": null
      }
     },
     "a3df020e1b6d4854848a560df17a1799": {
      "model_module": "@jupyter-widgets/controls",
      "model_module_version": "1.5.0",
      "model_name": "VBoxModel",
      "state": {
       "_dom_classes": [],
       "_model_module": "@jupyter-widgets/controls",
       "_model_module_version": "1.5.0",
       "_model_name": "VBoxModel",
       "_view_count": null,
       "_view_module": "@jupyter-widgets/controls",
       "_view_module_version": "1.5.0",
       "_view_name": "VBoxView",
       "box_style": "",
       "children": [
        "IPY_MODEL_46403938282a483f85de9d809bc46338",
        "IPY_MODEL_02ba9b89b5574f87a1e6ddf5e2292358"
       ],
       "layout": "IPY_MODEL_ad6b1e9d46844ad3884bb76717a2ea0e"
      }
     },
     "ad6b1e9d46844ad3884bb76717a2ea0e": {
      "model_module": "@jupyter-widgets/base",
      "model_module_version": "1.2.0",
      "model_name": "LayoutModel",
      "state": {
       "_model_module": "@jupyter-widgets/base",
       "_model_module_version": "1.2.0",
       "_model_name": "LayoutModel",
       "_view_count": null,
       "_view_module": "@jupyter-widgets/base",
       "_view_module_version": "1.2.0",
       "_view_name": "LayoutView",
       "align_content": null,
       "align_items": null,
       "align_self": null,
       "border": null,
       "bottom": null,
       "display": null,
       "flex": null,
       "flex_flow": null,
       "grid_area": null,
       "grid_auto_columns": null,
       "grid_auto_flow": null,
       "grid_auto_rows": null,
       "grid_column": null,
       "grid_gap": null,
       "grid_row": null,
       "grid_template_areas": null,
       "grid_template_columns": null,
       "grid_template_rows": null,
       "height": null,
       "justify_content": null,
       "justify_items": null,
       "left": null,
       "margin": null,
       "max_height": null,
       "max_width": null,
       "min_height": null,
       "min_width": null,
       "object_fit": null,
       "object_position": null,
       "order": null,
       "overflow": null,
       "overflow_x": null,
       "overflow_y": null,
       "padding": null,
       "right": null,
       "top": null,
       "visibility": null,
       "width": null
      }
     },
     "aec34fcf0238414989b090356a7d545b": {
      "model_module": "@jupyter-widgets/controls",
      "model_module_version": "1.5.0",
      "model_name": "ProgressStyleModel",
      "state": {
       "_model_module": "@jupyter-widgets/controls",
       "_model_module_version": "1.5.0",
       "_model_name": "ProgressStyleModel",
       "_view_count": null,
       "_view_module": "@jupyter-widgets/base",
       "_view_module_version": "1.2.0",
       "_view_name": "StyleView",
       "bar_color": null,
       "description_width": ""
      }
     },
     "af152a58ea1f45769180d094d7727cdf": {
      "model_module": "@jupyter-widgets/base",
      "model_module_version": "1.2.0",
      "model_name": "LayoutModel",
      "state": {
       "_model_module": "@jupyter-widgets/base",
       "_model_module_version": "1.2.0",
       "_model_name": "LayoutModel",
       "_view_count": null,
       "_view_module": "@jupyter-widgets/base",
       "_view_module_version": "1.2.0",
       "_view_name": "LayoutView",
       "align_content": null,
       "align_items": null,
       "align_self": null,
       "border": null,
       "bottom": null,
       "display": null,
       "flex": null,
       "flex_flow": null,
       "grid_area": null,
       "grid_auto_columns": null,
       "grid_auto_flow": null,
       "grid_auto_rows": null,
       "grid_column": null,
       "grid_gap": null,
       "grid_row": null,
       "grid_template_areas": null,
       "grid_template_columns": null,
       "grid_template_rows": null,
       "height": null,
       "justify_content": null,
       "justify_items": null,
       "left": null,
       "margin": null,
       "max_height": null,
       "max_width": null,
       "min_height": null,
       "min_width": null,
       "object_fit": null,
       "object_position": null,
       "order": null,
       "overflow": null,
       "overflow_x": null,
       "overflow_y": null,
       "padding": null,
       "right": null,
       "top": null,
       "visibility": null,
       "width": null
      }
     },
     "b03d88d4fd924d80ab9c02f753793d05": {
      "model_module": "@jupyter-widgets/controls",
      "model_module_version": "1.5.0",
      "model_name": "ProgressStyleModel",
      "state": {
       "_model_module": "@jupyter-widgets/controls",
       "_model_module_version": "1.5.0",
       "_model_name": "ProgressStyleModel",
       "_view_count": null,
       "_view_module": "@jupyter-widgets/base",
       "_view_module_version": "1.2.0",
       "_view_name": "StyleView",
       "bar_color": null,
       "description_width": ""
      }
     },
     "b16aa4be2f0f4beead617ae92a0da1b6": {
      "model_module": "@jupyter-widgets/controls",
      "model_module_version": "1.5.0",
      "model_name": "DescriptionStyleModel",
      "state": {
       "_model_module": "@jupyter-widgets/controls",
       "_model_module_version": "1.5.0",
       "_model_name": "DescriptionStyleModel",
       "_view_count": null,
       "_view_module": "@jupyter-widgets/base",
       "_view_module_version": "1.2.0",
       "_view_name": "StyleView",
       "description_width": ""
      }
     },
     "b2f0124ae1d0499bbd220376a2cdd998": {
      "model_module": "@jupyter-widgets/controls",
      "model_module_version": "1.5.0",
      "model_name": "DescriptionStyleModel",
      "state": {
       "_model_module": "@jupyter-widgets/controls",
       "_model_module_version": "1.5.0",
       "_model_name": "DescriptionStyleModel",
       "_view_count": null,
       "_view_module": "@jupyter-widgets/base",
       "_view_module_version": "1.2.0",
       "_view_name": "StyleView",
       "description_width": ""
      }
     },
     "b4625899a1dc4353b8e174cbcbe600d4": {
      "model_module": "@jupyter-widgets/controls",
      "model_module_version": "1.5.0",
      "model_name": "FloatProgressModel",
      "state": {
       "_dom_classes": [],
       "_model_module": "@jupyter-widgets/controls",
       "_model_module_version": "1.5.0",
       "_model_name": "FloatProgressModel",
       "_view_count": null,
       "_view_module": "@jupyter-widgets/controls",
       "_view_module_version": "1.5.0",
       "_view_name": "ProgressView",
       "bar_style": "",
       "description": "",
       "description_tooltip": null,
       "layout": "IPY_MODEL_4c5affc1deb34001b2ff018bb671f6f0",
       "max": 1.0,
       "min": 0.0,
       "orientation": "horizontal",
       "style": "IPY_MODEL_aec34fcf0238414989b090356a7d545b",
       "value": 0.0
      }
     },
     "b6904fb44ebf402a9ffa76ea494f6545": {
      "model_module": "@jupyter-widgets/base",
      "model_module_version": "1.2.0",
      "model_name": "LayoutModel",
      "state": {
       "_model_module": "@jupyter-widgets/base",
       "_model_module_version": "1.2.0",
       "_model_name": "LayoutModel",
       "_view_count": null,
       "_view_module": "@jupyter-widgets/base",
       "_view_module_version": "1.2.0",
       "_view_name": "LayoutView",
       "align_content": null,
       "align_items": null,
       "align_self": null,
       "border": null,
       "bottom": null,
       "display": null,
       "flex": null,
       "flex_flow": null,
       "grid_area": null,
       "grid_auto_columns": null,
       "grid_auto_flow": null,
       "grid_auto_rows": null,
       "grid_column": null,
       "grid_gap": null,
       "grid_row": null,
       "grid_template_areas": null,
       "grid_template_columns": null,
       "grid_template_rows": null,
       "height": null,
       "justify_content": null,
       "justify_items": null,
       "left": null,
       "margin": null,
       "max_height": null,
       "max_width": null,
       "min_height": null,
       "min_width": null,
       "object_fit": null,
       "object_position": null,
       "order": null,
       "overflow": null,
       "overflow_x": null,
       "overflow_y": null,
       "padding": null,
       "right": null,
       "top": null,
       "visibility": null,
       "width": null
      }
     },
     "b6be97577e48410bae3f821f481ba5c5": {
      "model_module": "@jupyter-widgets/controls",
      "model_module_version": "1.5.0",
      "model_name": "ProgressStyleModel",
      "state": {
       "_model_module": "@jupyter-widgets/controls",
       "_model_module_version": "1.5.0",
       "_model_name": "ProgressStyleModel",
       "_view_count": null,
       "_view_module": "@jupyter-widgets/base",
       "_view_module_version": "1.2.0",
       "_view_name": "StyleView",
       "bar_color": null,
       "description_width": ""
      }
     },
     "b817bfc002434f3d982ae0d89ea6b7e3": {
      "model_module": "@jupyter-widgets/controls",
      "model_module_version": "1.5.0",
      "model_name": "DescriptionStyleModel",
      "state": {
       "_model_module": "@jupyter-widgets/controls",
       "_model_module_version": "1.5.0",
       "_model_name": "DescriptionStyleModel",
       "_view_count": null,
       "_view_module": "@jupyter-widgets/base",
       "_view_module_version": "1.2.0",
       "_view_name": "StyleView",
       "description_width": ""
      }
     },
     "b9902d0aab1b4fafa95d1787ec0b8396": {
      "model_module": "@jupyter-widgets/base",
      "model_module_version": "1.2.0",
      "model_name": "LayoutModel",
      "state": {
       "_model_module": "@jupyter-widgets/base",
       "_model_module_version": "1.2.0",
       "_model_name": "LayoutModel",
       "_view_count": null,
       "_view_module": "@jupyter-widgets/base",
       "_view_module_version": "1.2.0",
       "_view_name": "LayoutView",
       "align_content": null,
       "align_items": null,
       "align_self": null,
       "border": null,
       "bottom": null,
       "display": null,
       "flex": null,
       "flex_flow": null,
       "grid_area": null,
       "grid_auto_columns": null,
       "grid_auto_flow": null,
       "grid_auto_rows": null,
       "grid_column": null,
       "grid_gap": null,
       "grid_row": null,
       "grid_template_areas": null,
       "grid_template_columns": null,
       "grid_template_rows": null,
       "height": null,
       "justify_content": null,
       "justify_items": null,
       "left": null,
       "margin": null,
       "max_height": null,
       "max_width": null,
       "min_height": null,
       "min_width": null,
       "object_fit": null,
       "object_position": null,
       "order": null,
       "overflow": null,
       "overflow_x": null,
       "overflow_y": null,
       "padding": null,
       "right": null,
       "top": null,
       "visibility": null,
       "width": null
      }
     },
     "c1ac2d93ae2245f697de6dfad05520a1": {
      "model_module": "@jupyter-widgets/controls",
      "model_module_version": "1.5.0",
      "model_name": "DescriptionStyleModel",
      "state": {
       "_model_module": "@jupyter-widgets/controls",
       "_model_module_version": "1.5.0",
       "_model_name": "DescriptionStyleModel",
       "_view_count": null,
       "_view_module": "@jupyter-widgets/base",
       "_view_module_version": "1.2.0",
       "_view_name": "StyleView",
       "description_width": ""
      }
     },
     "c211de401aed426c84f13b9f0de5fc64": {
      "model_module": "@jupyter-widgets/controls",
      "model_module_version": "1.5.0",
      "model_name": "LabelModel",
      "state": {
       "_dom_classes": [],
       "_model_module": "@jupyter-widgets/controls",
       "_model_module_version": "1.5.0",
       "_model_name": "LabelModel",
       "_view_count": null,
       "_view_module": "@jupyter-widgets/controls",
       "_view_module_version": "1.5.0",
       "_view_name": "LabelView",
       "description": "",
       "description_tooltip": null,
       "layout": "IPY_MODEL_91cc47243fd046dc8e8b5ec375a0b841",
       "placeholder": "​",
       "style": "IPY_MODEL_91e167d459a84ac9b7b09a560e4ebcc5",
       "value": "0.017 MB of 0.017 MB uploaded (0.000 MB deduped)\r"
      }
     },
     "c2fd0eed571d45fa9a1bf7059163db93": {
      "model_module": "@jupyter-widgets/controls",
      "model_module_version": "1.5.0",
      "model_name": "LabelModel",
      "state": {
       "_dom_classes": [],
       "_model_module": "@jupyter-widgets/controls",
       "_model_module_version": "1.5.0",
       "_model_name": "LabelModel",
       "_view_count": null,
       "_view_module": "@jupyter-widgets/controls",
       "_view_module_version": "1.5.0",
       "_view_name": "LabelView",
       "description": "",
       "description_tooltip": null,
       "layout": "IPY_MODEL_352b75ea14884ba8948f06d65f32d824",
       "placeholder": "​",
       "style": "IPY_MODEL_823be7d71af444aebec972603754e3cc",
       "value": ""
      }
     },
     "c4dc90708d1f41dea2e05223cbf84191": {
      "model_module": "@jupyter-widgets/controls",
      "model_module_version": "1.5.0",
      "model_name": "FloatProgressModel",
      "state": {
       "_dom_classes": [],
       "_model_module": "@jupyter-widgets/controls",
       "_model_module_version": "1.5.0",
       "_model_name": "FloatProgressModel",
       "_view_count": null,
       "_view_module": "@jupyter-widgets/controls",
       "_view_module_version": "1.5.0",
       "_view_name": "ProgressView",
       "bar_style": "",
       "description": "",
       "description_tooltip": null,
       "layout": "IPY_MODEL_c536b6f335124471844802139d8deec3",
       "max": 1.0,
       "min": 0.0,
       "orientation": "horizontal",
       "style": "IPY_MODEL_f50a5de289524c69bf9832e1301db8ba",
       "value": 1.0
      }
     },
     "c536b6f335124471844802139d8deec3": {
      "model_module": "@jupyter-widgets/base",
      "model_module_version": "1.2.0",
      "model_name": "LayoutModel",
      "state": {
       "_model_module": "@jupyter-widgets/base",
       "_model_module_version": "1.2.0",
       "_model_name": "LayoutModel",
       "_view_count": null,
       "_view_module": "@jupyter-widgets/base",
       "_view_module_version": "1.2.0",
       "_view_name": "LayoutView",
       "align_content": null,
       "align_items": null,
       "align_self": null,
       "border": null,
       "bottom": null,
       "display": null,
       "flex": null,
       "flex_flow": null,
       "grid_area": null,
       "grid_auto_columns": null,
       "grid_auto_flow": null,
       "grid_auto_rows": null,
       "grid_column": null,
       "grid_gap": null,
       "grid_row": null,
       "grid_template_areas": null,
       "grid_template_columns": null,
       "grid_template_rows": null,
       "height": null,
       "justify_content": null,
       "justify_items": null,
       "left": null,
       "margin": null,
       "max_height": null,
       "max_width": null,
       "min_height": null,
       "min_width": null,
       "object_fit": null,
       "object_position": null,
       "order": null,
       "overflow": null,
       "overflow_x": null,
       "overflow_y": null,
       "padding": null,
       "right": null,
       "top": null,
       "visibility": null,
       "width": null
      }
     },
     "c75e0360455a4ec986ed28670a0044ae": {
      "model_module": "@jupyter-widgets/controls",
      "model_module_version": "1.5.0",
      "model_name": "VBoxModel",
      "state": {
       "_dom_classes": [],
       "_model_module": "@jupyter-widgets/controls",
       "_model_module_version": "1.5.0",
       "_model_name": "VBoxModel",
       "_view_count": null,
       "_view_module": "@jupyter-widgets/controls",
       "_view_module_version": "1.5.0",
       "_view_name": "VBoxView",
       "box_style": "",
       "children": [
        "IPY_MODEL_2efa5c03387d46748d7403699d4776a2",
        "IPY_MODEL_c4dc90708d1f41dea2e05223cbf84191"
       ],
       "layout": "IPY_MODEL_d77671e6de6c4d4a87483b2bcb594d08"
      }
     },
     "cd84fa5851d9441fb9950a9bcf7cfc8f": {
      "model_module": "@jupyter-widgets/base",
      "model_module_version": "1.2.0",
      "model_name": "LayoutModel",
      "state": {
       "_model_module": "@jupyter-widgets/base",
       "_model_module_version": "1.2.0",
       "_model_name": "LayoutModel",
       "_view_count": null,
       "_view_module": "@jupyter-widgets/base",
       "_view_module_version": "1.2.0",
       "_view_name": "LayoutView",
       "align_content": null,
       "align_items": null,
       "align_self": null,
       "border": null,
       "bottom": null,
       "display": null,
       "flex": null,
       "flex_flow": null,
       "grid_area": null,
       "grid_auto_columns": null,
       "grid_auto_flow": null,
       "grid_auto_rows": null,
       "grid_column": null,
       "grid_gap": null,
       "grid_row": null,
       "grid_template_areas": null,
       "grid_template_columns": null,
       "grid_template_rows": null,
       "height": null,
       "justify_content": null,
       "justify_items": null,
       "left": null,
       "margin": null,
       "max_height": null,
       "max_width": null,
       "min_height": null,
       "min_width": null,
       "object_fit": null,
       "object_position": null,
       "order": null,
       "overflow": null,
       "overflow_x": null,
       "overflow_y": null,
       "padding": null,
       "right": null,
       "top": null,
       "visibility": null,
       "width": null
      }
     },
     "d4f7e05503eb444ca29a164eb5208583": {
      "model_module": "@jupyter-widgets/base",
      "model_module_version": "1.2.0",
      "model_name": "LayoutModel",
      "state": {
       "_model_module": "@jupyter-widgets/base",
       "_model_module_version": "1.2.0",
       "_model_name": "LayoutModel",
       "_view_count": null,
       "_view_module": "@jupyter-widgets/base",
       "_view_module_version": "1.2.0",
       "_view_name": "LayoutView",
       "align_content": null,
       "align_items": null,
       "align_self": null,
       "border": null,
       "bottom": null,
       "display": null,
       "flex": null,
       "flex_flow": null,
       "grid_area": null,
       "grid_auto_columns": null,
       "grid_auto_flow": null,
       "grid_auto_rows": null,
       "grid_column": null,
       "grid_gap": null,
       "grid_row": null,
       "grid_template_areas": null,
       "grid_template_columns": null,
       "grid_template_rows": null,
       "height": null,
       "justify_content": null,
       "justify_items": null,
       "left": null,
       "margin": null,
       "max_height": null,
       "max_width": null,
       "min_height": null,
       "min_width": null,
       "object_fit": null,
       "object_position": null,
       "order": null,
       "overflow": null,
       "overflow_x": null,
       "overflow_y": null,
       "padding": null,
       "right": null,
       "top": null,
       "visibility": null,
       "width": null
      }
     },
     "d77671e6de6c4d4a87483b2bcb594d08": {
      "model_module": "@jupyter-widgets/base",
      "model_module_version": "1.2.0",
      "model_name": "LayoutModel",
      "state": {
       "_model_module": "@jupyter-widgets/base",
       "_model_module_version": "1.2.0",
       "_model_name": "LayoutModel",
       "_view_count": null,
       "_view_module": "@jupyter-widgets/base",
       "_view_module_version": "1.2.0",
       "_view_name": "LayoutView",
       "align_content": null,
       "align_items": null,
       "align_self": null,
       "border": null,
       "bottom": null,
       "display": null,
       "flex": null,
       "flex_flow": null,
       "grid_area": null,
       "grid_auto_columns": null,
       "grid_auto_flow": null,
       "grid_auto_rows": null,
       "grid_column": null,
       "grid_gap": null,
       "grid_row": null,
       "grid_template_areas": null,
       "grid_template_columns": null,
       "grid_template_rows": null,
       "height": null,
       "justify_content": null,
       "justify_items": null,
       "left": null,
       "margin": null,
       "max_height": null,
       "max_width": null,
       "min_height": null,
       "min_width": null,
       "object_fit": null,
       "object_position": null,
       "order": null,
       "overflow": null,
       "overflow_x": null,
       "overflow_y": null,
       "padding": null,
       "right": null,
       "top": null,
       "visibility": null,
       "width": null
      }
     },
     "d777fcbc62fd413ba797216b977fbca6": {
      "model_module": "@jupyter-widgets/controls",
      "model_module_version": "1.5.0",
      "model_name": "DescriptionStyleModel",
      "state": {
       "_model_module": "@jupyter-widgets/controls",
       "_model_module_version": "1.5.0",
       "_model_name": "DescriptionStyleModel",
       "_view_count": null,
       "_view_module": "@jupyter-widgets/base",
       "_view_module_version": "1.2.0",
       "_view_name": "StyleView",
       "description_width": ""
      }
     },
     "de017ca0d00641de985e5f7ae2b3ae59": {
      "model_module": "@jupyter-widgets/controls",
      "model_module_version": "1.5.0",
      "model_name": "FloatProgressModel",
      "state": {
       "_dom_classes": [],
       "_model_module": "@jupyter-widgets/controls",
       "_model_module_version": "1.5.0",
       "_model_name": "FloatProgressModel",
       "_view_count": null,
       "_view_module": "@jupyter-widgets/controls",
       "_view_module_version": "1.5.0",
       "_view_name": "ProgressView",
       "bar_style": "",
       "description": "",
       "description_tooltip": null,
       "layout": "IPY_MODEL_b9902d0aab1b4fafa95d1787ec0b8396",
       "max": 1.0,
       "min": 0.0,
       "orientation": "horizontal",
       "style": "IPY_MODEL_fc19355501054e9d939286b4b524dd83",
       "value": 0.0
      }
     },
     "e2911aa849f7440e8d75a42eec147e25": {
      "model_module": "@jupyter-widgets/base",
      "model_module_version": "1.2.0",
      "model_name": "LayoutModel",
      "state": {
       "_model_module": "@jupyter-widgets/base",
       "_model_module_version": "1.2.0",
       "_model_name": "LayoutModel",
       "_view_count": null,
       "_view_module": "@jupyter-widgets/base",
       "_view_module_version": "1.2.0",
       "_view_name": "LayoutView",
       "align_content": null,
       "align_items": null,
       "align_self": null,
       "border": null,
       "bottom": null,
       "display": null,
       "flex": null,
       "flex_flow": null,
       "grid_area": null,
       "grid_auto_columns": null,
       "grid_auto_flow": null,
       "grid_auto_rows": null,
       "grid_column": null,
       "grid_gap": null,
       "grid_row": null,
       "grid_template_areas": null,
       "grid_template_columns": null,
       "grid_template_rows": null,
       "height": null,
       "justify_content": null,
       "justify_items": null,
       "left": null,
       "margin": null,
       "max_height": null,
       "max_width": null,
       "min_height": null,
       "min_width": null,
       "object_fit": null,
       "object_position": null,
       "order": null,
       "overflow": null,
       "overflow_x": null,
       "overflow_y": null,
       "padding": null,
       "right": null,
       "top": null,
       "visibility": null,
       "width": null
      }
     },
     "e2945220859346379d38ee94509c0599": {
      "model_module": "@jupyter-widgets/base",
      "model_module_version": "1.2.0",
      "model_name": "LayoutModel",
      "state": {
       "_model_module": "@jupyter-widgets/base",
       "_model_module_version": "1.2.0",
       "_model_name": "LayoutModel",
       "_view_count": null,
       "_view_module": "@jupyter-widgets/base",
       "_view_module_version": "1.2.0",
       "_view_name": "LayoutView",
       "align_content": null,
       "align_items": null,
       "align_self": null,
       "border": null,
       "bottom": null,
       "display": null,
       "flex": null,
       "flex_flow": null,
       "grid_area": null,
       "grid_auto_columns": null,
       "grid_auto_flow": null,
       "grid_auto_rows": null,
       "grid_column": null,
       "grid_gap": null,
       "grid_row": null,
       "grid_template_areas": null,
       "grid_template_columns": null,
       "grid_template_rows": null,
       "height": null,
       "justify_content": null,
       "justify_items": null,
       "left": null,
       "margin": null,
       "max_height": null,
       "max_width": null,
       "min_height": null,
       "min_width": null,
       "object_fit": null,
       "object_position": null,
       "order": null,
       "overflow": null,
       "overflow_x": null,
       "overflow_y": null,
       "padding": null,
       "right": null,
       "top": null,
       "visibility": null,
       "width": null
      }
     },
     "e2a521947f974a55bde20163b356c698": {
      "model_module": "@jupyter-widgets/base",
      "model_module_version": "1.2.0",
      "model_name": "LayoutModel",
      "state": {
       "_model_module": "@jupyter-widgets/base",
       "_model_module_version": "1.2.0",
       "_model_name": "LayoutModel",
       "_view_count": null,
       "_view_module": "@jupyter-widgets/base",
       "_view_module_version": "1.2.0",
       "_view_name": "LayoutView",
       "align_content": null,
       "align_items": null,
       "align_self": null,
       "border": null,
       "bottom": null,
       "display": null,
       "flex": null,
       "flex_flow": null,
       "grid_area": null,
       "grid_auto_columns": null,
       "grid_auto_flow": null,
       "grid_auto_rows": null,
       "grid_column": null,
       "grid_gap": null,
       "grid_row": null,
       "grid_template_areas": null,
       "grid_template_columns": null,
       "grid_template_rows": null,
       "height": null,
       "justify_content": null,
       "justify_items": null,
       "left": null,
       "margin": null,
       "max_height": null,
       "max_width": null,
       "min_height": null,
       "min_width": null,
       "object_fit": null,
       "object_position": null,
       "order": null,
       "overflow": null,
       "overflow_x": null,
       "overflow_y": null,
       "padding": null,
       "right": null,
       "top": null,
       "visibility": null,
       "width": null
      }
     },
     "e7182a66d424421f841df09b1549d24a": {
      "model_module": "@jupyter-widgets/controls",
      "model_module_version": "1.5.0",
      "model_name": "VBoxModel",
      "state": {
       "_dom_classes": [],
       "_model_module": "@jupyter-widgets/controls",
       "_model_module_version": "1.5.0",
       "_model_name": "VBoxModel",
       "_view_count": null,
       "_view_module": "@jupyter-widgets/controls",
       "_view_module_version": "1.5.0",
       "_view_name": "VBoxView",
       "box_style": "",
       "children": [
        "IPY_MODEL_2f629a72d5034f318288f78b99454831",
        "IPY_MODEL_b4625899a1dc4353b8e174cbcbe600d4"
       ],
       "layout": "IPY_MODEL_e2945220859346379d38ee94509c0599"
      }
     },
     "e8d434a984c144618e05ff8db23bb9ec": {
      "model_module": "@jupyter-widgets/controls",
      "model_module_version": "1.5.0",
      "model_name": "FloatProgressModel",
      "state": {
       "_dom_classes": [],
       "_model_module": "@jupyter-widgets/controls",
       "_model_module_version": "1.5.0",
       "_model_name": "FloatProgressModel",
       "_view_count": null,
       "_view_module": "@jupyter-widgets/controls",
       "_view_module_version": "1.5.0",
       "_view_name": "ProgressView",
       "bar_style": "",
       "description": "",
       "description_tooltip": null,
       "layout": "IPY_MODEL_326af925957540d9baed011a6d0fc276",
       "max": 1.0,
       "min": 0.0,
       "orientation": "horizontal",
       "style": "IPY_MODEL_0322199e93d843fd91a46c24d0d9f45d",
       "value": 1.0
      }
     },
     "f152044394bc4d718edae6f344de037c": {
      "model_module": "@jupyter-widgets/controls",
      "model_module_version": "1.5.0",
      "model_name": "ProgressStyleModel",
      "state": {
       "_model_module": "@jupyter-widgets/controls",
       "_model_module_version": "1.5.0",
       "_model_name": "ProgressStyleModel",
       "_view_count": null,
       "_view_module": "@jupyter-widgets/base",
       "_view_module_version": "1.2.0",
       "_view_name": "StyleView",
       "bar_color": null,
       "description_width": ""
      }
     },
     "f4401b61616e47d6b3dd65f685532b26": {
      "model_module": "@jupyter-widgets/controls",
      "model_module_version": "1.5.0",
      "model_name": "FloatProgressModel",
      "state": {
       "_dom_classes": [],
       "_model_module": "@jupyter-widgets/controls",
       "_model_module_version": "1.5.0",
       "_model_name": "FloatProgressModel",
       "_view_count": null,
       "_view_module": "@jupyter-widgets/controls",
       "_view_module_version": "1.5.0",
       "_view_name": "ProgressView",
       "bar_style": "",
       "description": "",
       "description_tooltip": null,
       "layout": "IPY_MODEL_6f39f355da144fc8ad0e046f7ca3c195",
       "max": 1.0,
       "min": 0.0,
       "orientation": "horizontal",
       "style": "IPY_MODEL_b03d88d4fd924d80ab9c02f753793d05",
       "value": 1.0
      }
     },
     "f50a5de289524c69bf9832e1301db8ba": {
      "model_module": "@jupyter-widgets/controls",
      "model_module_version": "1.5.0",
      "model_name": "ProgressStyleModel",
      "state": {
       "_model_module": "@jupyter-widgets/controls",
       "_model_module_version": "1.5.0",
       "_model_name": "ProgressStyleModel",
       "_view_count": null,
       "_view_module": "@jupyter-widgets/base",
       "_view_module_version": "1.2.0",
       "_view_name": "StyleView",
       "bar_color": null,
       "description_width": ""
      }
     },
     "f829e3fe65e14ce19083bd946e3b56e8": {
      "model_module": "@jupyter-widgets/base",
      "model_module_version": "1.2.0",
      "model_name": "LayoutModel",
      "state": {
       "_model_module": "@jupyter-widgets/base",
       "_model_module_version": "1.2.0",
       "_model_name": "LayoutModel",
       "_view_count": null,
       "_view_module": "@jupyter-widgets/base",
       "_view_module_version": "1.2.0",
       "_view_name": "LayoutView",
       "align_content": null,
       "align_items": null,
       "align_self": null,
       "border": null,
       "bottom": null,
       "display": null,
       "flex": null,
       "flex_flow": null,
       "grid_area": null,
       "grid_auto_columns": null,
       "grid_auto_flow": null,
       "grid_auto_rows": null,
       "grid_column": null,
       "grid_gap": null,
       "grid_row": null,
       "grid_template_areas": null,
       "grid_template_columns": null,
       "grid_template_rows": null,
       "height": null,
       "justify_content": null,
       "justify_items": null,
       "left": null,
       "margin": null,
       "max_height": null,
       "max_width": null,
       "min_height": null,
       "min_width": null,
       "object_fit": null,
       "object_position": null,
       "order": null,
       "overflow": null,
       "overflow_x": null,
       "overflow_y": null,
       "padding": null,
       "right": null,
       "top": null,
       "visibility": null,
       "width": null
      }
     },
     "fc19355501054e9d939286b4b524dd83": {
      "model_module": "@jupyter-widgets/controls",
      "model_module_version": "1.5.0",
      "model_name": "ProgressStyleModel",
      "state": {
       "_model_module": "@jupyter-widgets/controls",
       "_model_module_version": "1.5.0",
       "_model_name": "ProgressStyleModel",
       "_view_count": null,
       "_view_module": "@jupyter-widgets/base",
       "_view_module_version": "1.2.0",
       "_view_name": "StyleView",
       "bar_color": null,
       "description_width": ""
      }
     }
    },
    "version_major": 2,
    "version_minor": 0
   }
  }
 },
 "nbformat": 4,
 "nbformat_minor": 5
}
