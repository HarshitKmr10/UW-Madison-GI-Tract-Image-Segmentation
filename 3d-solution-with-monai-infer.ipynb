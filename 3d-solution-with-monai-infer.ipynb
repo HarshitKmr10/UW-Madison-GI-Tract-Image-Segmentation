{
 "cells": [
  {
   "cell_type": "markdown",
   "id": "edd3b30e",
   "metadata": {
    "papermill": {
     "duration": 0.088292,
     "end_time": "2022-06-29T10:09:21.068822",
     "exception": false,
     "start_time": "2022-06-29T10:09:20.980530",
     "status": "completed"
    },
    "tags": []
   },
   "source": [
    "## Load Libs"
   ]
  },
  {
   "cell_type": "code",
   "execution_count": 1,
   "id": "2e3f4dc4",
   "metadata": {
    "execution": {
     "iopub.execute_input": "2022-06-29T10:09:21.258462Z",
     "iopub.status.busy": "2022-06-29T10:09:21.257452Z",
     "iopub.status.idle": "2022-06-29T10:09:21.265300Z",
     "shell.execute_reply": "2022-06-29T10:09:21.264555Z",
     "shell.execute_reply.started": "2022-06-29T09:54:14.168165Z"
    },
    "papermill": {
     "duration": 0.107148,
     "end_time": "2022-06-29T10:09:21.265465",
     "exception": false,
     "start_time": "2022-06-29T10:09:21.158317",
     "status": "completed"
    },
    "tags": []
   },
   "outputs": [],
   "source": [
    "import sys\n",
    "\n",
    "sys.path.append('../input/monai-v081/')"
   ]
  },
  {
   "cell_type": "code",
   "execution_count": 2,
   "id": "4c891020",
   "metadata": {
    "execution": {
     "iopub.execute_input": "2022-06-29T10:09:21.448075Z",
     "iopub.status.busy": "2022-06-29T10:09:21.447212Z",
     "iopub.status.idle": "2022-06-29T10:09:29.702745Z",
     "shell.execute_reply": "2022-06-29T10:09:29.701865Z",
     "shell.execute_reply.started": "2022-06-29T09:54:15.671775Z"
    },
    "papermill": {
     "duration": 8.350024,
     "end_time": "2022-06-29T10:09:29.702925",
     "exception": false,
     "start_time": "2022-06-29T10:09:21.352901",
     "status": "completed"
    },
    "tags": []
   },
   "outputs": [],
   "source": [
    "import gc\n",
    "from glob import glob\n",
    "import os\n",
    "import numpy as np\n",
    "import pandas as pd\n",
    "import torch\n",
    "from torch import nn\n",
    "from monai.inferers import sliding_window_inference\n",
    "from monai.data import decollate_batch\n",
    "from monai.handlers.utils import from_engine\n",
    "from monai.networks.nets import UNet\n",
    "from torch.cuda.amp import GradScaler, autocast\n",
    "from tqdm import tqdm\n",
    "import json"
   ]
  },
  {
   "cell_type": "code",
   "execution_count": 3,
   "id": "7684669d",
   "metadata": {
    "execution": {
     "iopub.execute_input": "2022-06-29T10:09:29.878743Z",
     "iopub.status.busy": "2022-06-29T10:09:29.877912Z",
     "iopub.status.idle": "2022-06-29T10:09:50.668411Z",
     "shell.execute_reply": "2022-06-29T10:09:50.667607Z",
     "shell.execute_reply.started": "2022-06-29T09:54:17.317003Z"
    },
    "papermill": {
     "duration": 20.881083,
     "end_time": "2022-06-29T10:09:50.668588",
     "exception": false,
     "start_time": "2022-06-29T10:09:29.787505",
     "status": "completed"
    },
    "tags": []
   },
   "outputs": [
    {
     "name": "stdout",
     "output_type": "stream",
     "text": [
      "To use your W&B account,\n",
      "Go to Add-ons -> Secrets and provide your W&B access token. Use the Label name as WANDB. \n",
      "Get your W&B access token from here: https://wandb.ai/authorize\n"
     ]
    }
   ],
   "source": [
    "import wandb\n",
    "\n",
    "try:\n",
    "    from kaggle_secrets import UserSecretsClient\n",
    "    user_secrets = UserSecretsClient()\n",
    "    api_key = user_secrets.get_secret(\"WANDB\")\n",
    "    wandb.login(key=api_key)\n",
    "    anonymous = None\n",
    "except:\n",
    "    anonymous = \"must\"\n",
    "    print('To use your W&B account,\\nGo to Add-ons -> Secrets and provide your W&B access token. Use the Label name as WANDB. \\nGet your W&B access token from here: https://wandb.ai/authorize')"
   ]
  },
  {
   "cell_type": "code",
   "execution_count": 4,
   "id": "2ed29ee6",
   "metadata": {
    "execution": {
     "iopub.execute_input": "2022-06-29T10:09:50.847139Z",
     "iopub.status.busy": "2022-06-29T10:09:50.846014Z",
     "iopub.status.idle": "2022-06-29T10:09:50.849307Z",
     "shell.execute_reply": "2022-06-29T10:09:50.848723Z",
     "shell.execute_reply.started": "2022-06-29T09:54:37.354464Z"
    },
    "papermill": {
     "duration": 0.095454,
     "end_time": "2022-06-29T10:09:50.849461",
     "exception": false,
     "start_time": "2022-06-29T10:09:50.754007",
     "status": "completed"
    },
    "tags": []
   },
   "outputs": [],
   "source": [
    "from monai.data import CacheDataset, DataLoader\n",
    "from monai.transforms import (\n",
    "    Compose,\n",
    "    Activations,\n",
    "    AsDiscrete,\n",
    "    Activationsd,\n",
    "    AsDiscreted,\n",
    "    KeepLargestConnectedComponentd,\n",
    "    Invertd,\n",
    "    LoadImage,\n",
    "    Transposed,\n",
    "    LoadImaged,\n",
    "    AddChanneld,\n",
    "    CastToTyped,\n",
    "    Lambdad,\n",
    "    Resized,\n",
    "    EnsureTyped,\n",
    "    SpatialPadd,\n",
    "    EnsureChannelFirstd,\n",
    ")"
   ]
  },
  {
   "cell_type": "markdown",
   "id": "a6ff1f83",
   "metadata": {
    "papermill": {
     "duration": 0.085343,
     "end_time": "2022-06-29T10:09:51.021432",
     "exception": false,
     "start_time": "2022-06-29T10:09:50.936089",
     "status": "completed"
    },
    "tags": []
   },
   "source": [
    "## Prepare meta info."
   ]
  },
  {
   "cell_type": "markdown",
   "id": "ded6d549",
   "metadata": {
    "papermill": {
     "duration": 0.08466,
     "end_time": "2022-06-29T10:09:51.193415",
     "exception": false,
     "start_time": "2022-06-29T10:09:51.108755",
     "status": "completed"
    },
    "tags": []
   },
   "source": [
    "### Thanks awsaf49, this section refers to:\n",
    "https://www.kaggle.com/code/awsaf49/uwmgi-2-5d-infer-pytorch"
   ]
  },
  {
   "cell_type": "code",
   "execution_count": 5,
   "id": "81860651",
   "metadata": {
    "execution": {
     "iopub.execute_input": "2022-06-29T10:09:51.379546Z",
     "iopub.status.busy": "2022-06-29T10:09:51.378604Z",
     "iopub.status.idle": "2022-06-29T10:09:51.382074Z",
     "shell.execute_reply": "2022-06-29T10:09:51.381552Z",
     "shell.execute_reply.started": "2022-06-29T09:54:45.433234Z"
    },
    "papermill": {
     "duration": 0.101637,
     "end_time": "2022-06-29T10:09:51.382246",
     "exception": false,
     "start_time": "2022-06-29T10:09:51.280609",
     "status": "completed"
    },
    "tags": []
   },
   "outputs": [],
   "source": [
    "def get_metadata(row):\n",
    "    data = row['id'].split('_')\n",
    "    case = int(data[0].replace('case',''))\n",
    "    day = int(data[1].replace('day',''))\n",
    "    slice_ = int(data[-1])\n",
    "    row['case'] = case\n",
    "    row['day'] = day\n",
    "    row['slice'] = slice_\n",
    "    return row\n",
    "\n",
    "def path2info(row):\n",
    "    path = row['image_path']\n",
    "    data = path.split('/')\n",
    "    slice_ = int(data[-1].split('_')[1])\n",
    "    case = int(data[-3].split('_')[0].replace('case',''))\n",
    "    day = int(data[-3].split('_')[1].replace('day',''))\n",
    "    width = int(data[-1].split('_')[2])\n",
    "    height = int(data[-1].split('_')[3])\n",
    "    row['height'] = height\n",
    "    row['width'] = width\n",
    "    row['case'] = case\n",
    "    row['day'] = day\n",
    "    row['slice'] = slice_\n",
    "    return row"
   ]
  },
  {
   "cell_type": "code",
   "execution_count": 6,
   "id": "2f4004ee",
   "metadata": {
    "execution": {
     "iopub.execute_input": "2022-06-29T10:09:51.564488Z",
     "iopub.status.busy": "2022-06-29T10:09:51.563777Z",
     "iopub.status.idle": "2022-06-29T10:09:54.307428Z",
     "shell.execute_reply": "2022-06-29T10:09:54.306680Z",
     "shell.execute_reply.started": "2022-06-29T09:54:46.006179Z"
    },
    "papermill": {
     "duration": 2.837775,
     "end_time": "2022-06-29T10:09:54.307581",
     "exception": false,
     "start_time": "2022-06-29T10:09:51.469806",
     "status": "completed"
    },
    "tags": []
   },
   "outputs": [],
   "source": [
    "sub_df = pd.read_csv('../input/uw-madison-gi-tract-image-segmentation/sample_submission.csv')\n",
    "if not len(sub_df):\n",
    "    debug = True\n",
    "    sub_df = pd.read_csv('../input/uw-madison-gi-tract-image-segmentation/train.csv')[:1000*3]\n",
    "    sub_df = sub_df.drop(columns=['class','segmentation']).drop_duplicates()\n",
    "else:\n",
    "    debug = False\n",
    "    sub_df = sub_df.drop(columns=['class','predicted']).drop_duplicates()\n",
    "sub_df = sub_df.apply(lambda x: get_metadata(x),axis=1)"
   ]
  },
  {
   "cell_type": "code",
   "execution_count": 7,
   "id": "6603cf3c",
   "metadata": {
    "execution": {
     "iopub.execute_input": "2022-06-29T10:09:54.490254Z",
     "iopub.status.busy": "2022-06-29T10:09:54.489466Z",
     "iopub.status.idle": "2022-06-29T10:12:06.984305Z",
     "shell.execute_reply": "2022-06-29T10:12:06.984939Z",
     "shell.execute_reply.started": "2022-06-29T09:54:47.675399Z"
    },
    "papermill": {
     "duration": 132.589251,
     "end_time": "2022-06-29T10:12:06.985165",
     "exception": false,
     "start_time": "2022-06-29T10:09:54.395914",
     "status": "completed"
    },
    "tags": []
   },
   "outputs": [
    {
     "data": {
      "text/html": [
       "<div>\n",
       "<style scoped>\n",
       "    .dataframe tbody tr th:only-of-type {\n",
       "        vertical-align: middle;\n",
       "    }\n",
       "\n",
       "    .dataframe tbody tr th {\n",
       "        vertical-align: top;\n",
       "    }\n",
       "\n",
       "    .dataframe thead th {\n",
       "        text-align: right;\n",
       "    }\n",
       "</style>\n",
       "<table border=\"1\" class=\"dataframe\">\n",
       "  <thead>\n",
       "    <tr style=\"text-align: right;\">\n",
       "      <th></th>\n",
       "      <th>image_path</th>\n",
       "      <th>height</th>\n",
       "      <th>width</th>\n",
       "      <th>case</th>\n",
       "      <th>day</th>\n",
       "      <th>slice</th>\n",
       "    </tr>\n",
       "  </thead>\n",
       "  <tbody>\n",
       "    <tr>\n",
       "      <th>0</th>\n",
       "      <td>/kaggle/input/uw-madison-gi-tract-image-segmen...</td>\n",
       "      <td>266</td>\n",
       "      <td>266</td>\n",
       "      <td>36</td>\n",
       "      <td>14</td>\n",
       "      <td>6</td>\n",
       "    </tr>\n",
       "    <tr>\n",
       "      <th>1</th>\n",
       "      <td>/kaggle/input/uw-madison-gi-tract-image-segmen...</td>\n",
       "      <td>266</td>\n",
       "      <td>266</td>\n",
       "      <td>36</td>\n",
       "      <td>14</td>\n",
       "      <td>82</td>\n",
       "    </tr>\n",
       "    <tr>\n",
       "      <th>2</th>\n",
       "      <td>/kaggle/input/uw-madison-gi-tract-image-segmen...</td>\n",
       "      <td>266</td>\n",
       "      <td>266</td>\n",
       "      <td>36</td>\n",
       "      <td>14</td>\n",
       "      <td>113</td>\n",
       "    </tr>\n",
       "    <tr>\n",
       "      <th>3</th>\n",
       "      <td>/kaggle/input/uw-madison-gi-tract-image-segmen...</td>\n",
       "      <td>266</td>\n",
       "      <td>266</td>\n",
       "      <td>36</td>\n",
       "      <td>14</td>\n",
       "      <td>76</td>\n",
       "    </tr>\n",
       "    <tr>\n",
       "      <th>4</th>\n",
       "      <td>/kaggle/input/uw-madison-gi-tract-image-segmen...</td>\n",
       "      <td>266</td>\n",
       "      <td>266</td>\n",
       "      <td>36</td>\n",
       "      <td>14</td>\n",
       "      <td>125</td>\n",
       "    </tr>\n",
       "  </tbody>\n",
       "</table>\n",
       "</div>"
      ],
      "text/plain": [
       "                                          image_path  height  width  case  \\\n",
       "0  /kaggle/input/uw-madison-gi-tract-image-segmen...     266    266    36   \n",
       "1  /kaggle/input/uw-madison-gi-tract-image-segmen...     266    266    36   \n",
       "2  /kaggle/input/uw-madison-gi-tract-image-segmen...     266    266    36   \n",
       "3  /kaggle/input/uw-madison-gi-tract-image-segmen...     266    266    36   \n",
       "4  /kaggle/input/uw-madison-gi-tract-image-segmen...     266    266    36   \n",
       "\n",
       "   day  slice  \n",
       "0   14      6  \n",
       "1   14     82  \n",
       "2   14    113  \n",
       "3   14     76  \n",
       "4   14    125  "
      ]
     },
     "execution_count": 7,
     "metadata": {},
     "output_type": "execute_result"
    }
   ],
   "source": [
    "if debug:\n",
    "    paths = glob(f'/kaggle/input/uw-madison-gi-tract-image-segmentation/train/**/*png',recursive=True)\n",
    "#     paths = sorted(paths)\n",
    "else:\n",
    "    paths = glob(f'/kaggle/input/uw-madison-gi-tract-image-segmentation/test/**/*png',recursive=True)\n",
    "#     paths = sorted(paths)\n",
    "path_df = pd.DataFrame(paths, columns=['image_path'])\n",
    "path_df = path_df.apply(lambda x: path2info(x),axis=1)\n",
    "path_df.head()"
   ]
  },
  {
   "cell_type": "markdown",
   "id": "d4660f39",
   "metadata": {
    "papermill": {
     "duration": 0.099925,
     "end_time": "2022-06-29T10:12:07.184578",
     "exception": false,
     "start_time": "2022-06-29T10:12:07.084653",
     "status": "completed"
    },
    "tags": []
   },
   "source": [
    "## Produce 3d data list for MONAI DataSet"
   ]
  },
  {
   "cell_type": "code",
   "execution_count": 8,
   "id": "ea916298",
   "metadata": {
    "execution": {
     "iopub.execute_input": "2022-06-29T10:12:07.393454Z",
     "iopub.status.busy": "2022-06-29T10:12:07.392639Z",
     "iopub.status.idle": "2022-06-29T10:12:07.422534Z",
     "shell.execute_reply": "2022-06-29T10:12:07.421958Z",
     "shell.execute_reply.started": "2022-06-29T09:56:17.670476Z"
    },
    "papermill": {
     "duration": 0.138492,
     "end_time": "2022-06-29T10:12:07.422738",
     "exception": false,
     "start_time": "2022-06-29T10:12:07.284246",
     "status": "completed"
    },
    "tags": []
   },
   "outputs": [],
   "source": [
    "test_df = sub_df.merge(path_df, on=['case','day','slice'], how='left')\n",
    "test_df[\"case_id_str\"] = test_df[\"id\"].apply(lambda x: x.split(\"_\", 2)[0])\n",
    "test_df[\"day_num_str\"] = test_df[\"id\"].apply(lambda x: x.split(\"_\", 2)[1])\n",
    "test_df[\"slice_id\"] = test_df[\"id\"].apply(lambda x: x.split(\"_\", 2)[2])"
   ]
  },
  {
   "cell_type": "code",
   "execution_count": 9,
   "id": "91acb302",
   "metadata": {
    "execution": {
     "iopub.execute_input": "2022-06-29T10:12:07.629201Z",
     "iopub.status.busy": "2022-06-29T10:12:07.628161Z",
     "iopub.status.idle": "2022-06-29T10:12:07.863508Z",
     "shell.execute_reply": "2022-06-29T10:12:07.864022Z",
     "shell.execute_reply.started": "2022-06-29T09:56:17.700897Z"
    },
    "papermill": {
     "duration": 0.340352,
     "end_time": "2022-06-29T10:12:07.864268",
     "exception": false,
     "start_time": "2022-06-29T10:12:07.523916",
     "status": "completed"
    },
    "tags": []
   },
   "outputs": [],
   "source": [
    "test_data = []\n",
    "\n",
    "for group in test_df.groupby([\"case_id_str\", \"day_num_str\"]):\n",
    "\n",
    "    case_id_str, day_num_str = group[0]\n",
    "    group_id = case_id_str + \"_\" + day_num_str\n",
    "    group_df = group[1].sort_values(\"slice_id\", ascending=True)\n",
    "    n_slices = group_df.shape[0]\n",
    "    group_slices, group_ids = [], []\n",
    "    for idx in range(n_slices):\n",
    "        slc = group_df.iloc[idx]\n",
    "        group_slices.append(slc.image_path)\n",
    "        group_ids.append(slc.id)\n",
    "    test_data.append({\"image\": group_slices, \"id\": group_ids})"
   ]
  },
  {
   "cell_type": "markdown",
   "id": "80845b62",
   "metadata": {
    "papermill": {
     "duration": 0.100303,
     "end_time": "2022-06-29T10:12:08.060896",
     "exception": false,
     "start_time": "2022-06-29T10:12:07.960593",
     "status": "completed"
    },
    "tags": []
   },
   "source": [
    "## Prepare Transforms, Dataset, DataLoader"
   ]
  },
  {
   "cell_type": "code",
   "execution_count": 10,
   "id": "687fa94e",
   "metadata": {
    "execution": {
     "iopub.execute_input": "2022-06-29T10:12:08.348124Z",
     "iopub.status.busy": "2022-06-29T10:12:08.347388Z",
     "iopub.status.idle": "2022-06-29T10:12:08.354880Z",
     "shell.execute_reply": "2022-06-29T10:12:08.354354Z",
     "shell.execute_reply.started": "2022-06-29T09:56:17.841705Z"
    },
    "papermill": {
     "duration": 0.193529,
     "end_time": "2022-06-29T10:12:08.355029",
     "exception": false,
     "start_time": "2022-06-29T10:12:08.161500",
     "status": "completed"
    },
    "tags": []
   },
   "outputs": [],
   "source": [
    "class cfg:\n",
    "    img_size = (224, 224, 80)\n",
    "    in_channels = 1\n",
    "    out_channels = 4\n",
    "    device = torch.device(\"cuda:0\" if torch.cuda.is_available() else \"cpu\")\n",
    "    weights = glob(\"../input/uw3dweights/unet_fold0_0.8789.pth\")\n",
    "    batch_size = 1\n",
    "    sw_batch_size = 4"
   ]
  },
  {
   "cell_type": "code",
   "execution_count": 11,
   "id": "8391c987",
   "metadata": {
    "execution": {
     "iopub.execute_input": "2022-06-29T10:12:08.530753Z",
     "iopub.status.busy": "2022-06-29T10:12:08.529734Z",
     "iopub.status.idle": "2022-06-29T10:12:08.535975Z",
     "shell.execute_reply": "2022-06-29T10:12:08.536820Z",
     "shell.execute_reply.started": "2022-06-29T09:56:17.913629Z"
    },
    "papermill": {
     "duration": 0.09582,
     "end_time": "2022-06-29T10:12:08.537034",
     "exception": false,
     "start_time": "2022-06-29T10:12:08.441214",
     "status": "completed"
    },
    "tags": []
   },
   "outputs": [
    {
     "name": "stdout",
     "output_type": "stream",
     "text": [
      "../input/uw3dweights/unet_fold0_0.8789.pth\n"
     ]
    }
   ],
   "source": [
    "for i in cfg.weights:\n",
    "    print(i)"
   ]
  },
  {
   "cell_type": "code",
   "execution_count": null,
   "id": "7886ae0f",
   "metadata": {
    "papermill": {
     "duration": 0.087309,
     "end_time": "2022-06-29T10:12:08.712841",
     "exception": false,
     "start_time": "2022-06-29T10:12:08.625532",
     "status": "completed"
    },
    "tags": []
   },
   "outputs": [],
   "source": []
  },
  {
   "cell_type": "code",
   "execution_count": null,
   "id": "1f9775c1",
   "metadata": {
    "papermill": {
     "duration": 0.087248,
     "end_time": "2022-06-29T10:12:08.886729",
     "exception": false,
     "start_time": "2022-06-29T10:12:08.799481",
     "status": "completed"
    },
    "tags": []
   },
   "outputs": [],
   "source": []
  },
  {
   "cell_type": "code",
   "execution_count": 12,
   "id": "6a11aa81",
   "metadata": {
    "execution": {
     "iopub.execute_input": "2022-06-29T10:12:09.074839Z",
     "iopub.status.busy": "2022-06-29T10:12:09.073676Z",
     "iopub.status.idle": "2022-06-29T10:12:09.076310Z",
     "shell.execute_reply": "2022-06-29T10:12:09.076907Z",
     "shell.execute_reply.started": "2022-06-29T10:03:50.633352Z"
    },
    "papermill": {
     "duration": 0.10314,
     "end_time": "2022-06-29T10:12:09.077084",
     "exception": false,
     "start_time": "2022-06-29T10:12:08.973944",
     "status": "completed"
    },
    "tags": []
   },
   "outputs": [],
   "source": [
    "test_transforms = Compose(\n",
    "    [\n",
    "        LoadImaged(keys=\"image\"), # d, h, w\n",
    "        AddChanneld(keys=\"image\"), # c, d, h, w\n",
    "        Transposed(keys=\"image\", indices=[0, 2, 3, 1]), # c, w, h, d\n",
    "        Lambdad(keys=\"image\", func=lambda x: x / x.max()),\n",
    "#         SpatialPadd(keys=\"image\", spatial_size=cfg.img_size),  # in case less than 80 slices\n",
    "        EnsureTyped(keys=\"image\", dtype=torch.float32),\n",
    "    ]\n",
    ")\n",
    "\n",
    "test_ds = CacheDataset(\n",
    "        data=test_data,\n",
    "        transform=test_transforms,\n",
    "        cache_rate=0.0,\n",
    "        num_workers=2,\n",
    "    )\n",
    "\n",
    "test_dataloader = DataLoader(\n",
    "    test_ds,\n",
    "    batch_size=cfg.batch_size,\n",
    "    num_workers=2,\n",
    "    pin_memory=True,\n",
    ")"
   ]
  },
  {
   "cell_type": "markdown",
   "id": "5c95effe",
   "metadata": {
    "papermill": {
     "duration": 0.085008,
     "end_time": "2022-06-29T10:12:09.248380",
     "exception": false,
     "start_time": "2022-06-29T10:12:09.163372",
     "status": "completed"
    },
    "tags": []
   },
   "source": [
    "## Prepare Network"
   ]
  },
  {
   "cell_type": "code",
   "execution_count": 13,
   "id": "51d785ce",
   "metadata": {
    "execution": {
     "iopub.execute_input": "2022-06-29T10:12:09.429082Z",
     "iopub.status.busy": "2022-06-29T10:12:09.426371Z",
     "iopub.status.idle": "2022-06-29T10:12:13.208480Z",
     "shell.execute_reply": "2022-06-29T10:12:13.207305Z",
     "shell.execute_reply.started": "2022-06-29T10:03:55.844353Z"
    },
    "papermill": {
     "duration": 3.875104,
     "end_time": "2022-06-29T10:12:13.208694",
     "exception": false,
     "start_time": "2022-06-29T10:12:09.333590",
     "status": "completed"
    },
    "tags": []
   },
   "outputs": [],
   "source": [
    "model = UNet(\n",
    "    spatial_dims=3,\n",
    "    in_channels=cfg.in_channels,\n",
    "    out_channels=cfg.out_channels,\n",
    "    channels=(16, 32, 64, 128, 256),\n",
    "    strides=(2, 2, 2, 2),\n",
    "    kernel_size=3,\n",
    "    up_kernel_size=3,\n",
    "    num_res_units=2,\n",
    "    act=\"PRELU\",\n",
    "    norm=\"BATCH\",\n",
    "    dropout=0.2,\n",
    "    bias=True,\n",
    "    dimensions=None,\n",
    ").to(cfg.device)"
   ]
  },
  {
   "cell_type": "markdown",
   "id": "b4b72aca",
   "metadata": {
    "papermill": {
     "duration": 0.091382,
     "end_time": "2022-06-29T10:12:13.405422",
     "exception": false,
     "start_time": "2022-06-29T10:12:13.314040",
     "status": "completed"
    },
    "tags": []
   },
   "source": [
    "## Infer"
   ]
  },
  {
   "cell_type": "code",
   "execution_count": 14,
   "id": "4afbb825",
   "metadata": {
    "execution": {
     "iopub.execute_input": "2022-06-29T10:12:13.588857Z",
     "iopub.status.busy": "2022-06-29T10:12:13.587807Z",
     "iopub.status.idle": "2022-06-29T10:12:13.590536Z",
     "shell.execute_reply": "2022-06-29T10:12:13.591072Z",
     "shell.execute_reply.started": "2022-06-29T10:04:01.097915Z"
    },
    "papermill": {
     "duration": 0.098351,
     "end_time": "2022-06-29T10:12:13.591269",
     "exception": false,
     "start_time": "2022-06-29T10:12:13.492918",
     "status": "completed"
    },
    "tags": []
   },
   "outputs": [],
   "source": [
    "# ref.: https://www.kaggle.com/stainsby/fast-tested-rle\n",
    "def rle_encode(img):\n",
    "    \"\"\" TBD\n",
    "    \n",
    "    Args:\n",
    "        img (np.array): \n",
    "            - 1 indicating mask\n",
    "            - 0 indicating background\n",
    "    \n",
    "    Returns: \n",
    "        run length as string formated\n",
    "    \"\"\"\n",
    "    \n",
    "    pixels = img.flatten()\n",
    "    pixels = np.concatenate([[0], pixels, [0]])\n",
    "    runs = np.where(pixels[1:] != pixels[:-1])[0] + 1\n",
    "    runs[1::2] -= runs[::2]\n",
    "    return ' '.join(str(x) for x in runs)"
   ]
  },
  {
   "cell_type": "code",
   "execution_count": 15,
   "id": "7de6865b",
   "metadata": {
    "execution": {
     "iopub.execute_input": "2022-06-29T10:12:13.774045Z",
     "iopub.status.busy": "2022-06-29T10:12:13.773082Z",
     "iopub.status.idle": "2022-06-29T10:12:13.776792Z",
     "shell.execute_reply": "2022-06-29T10:12:13.777402Z",
     "shell.execute_reply.started": "2022-06-29T10:04:02.478741Z"
    },
    "papermill": {
     "duration": 0.099026,
     "end_time": "2022-06-29T10:12:13.777558",
     "exception": false,
     "start_time": "2022-06-29T10:12:13.678532",
     "status": "completed"
    },
    "tags": []
   },
   "outputs": [
    {
     "data": {
      "text/plain": [
       "'outputs = []\\n\\npost_pred = Compose([\\n    Activations(sigmoid=True),\\n    AsDiscrete(threshold=0.5)\\n])\\n\\nmodel.eval()\\ntorch.set_grad_enabled(False)\\nprogress_bar = tqdm(range(len(test_dataloader)))\\nval_it = iter(test_dataloader)\\nfor itr in progress_bar:\\n    batch = next(val_it)\\n    test_inputs = batch[\"image\"].to(cfg.device)\\n\\n    pred_all = []\\n    for weights in cfg.weights:\\n        model.load_state_dict(torch.load(weights))\\n        pred = sliding_window_inference(test_inputs, cfg.img_size, cfg.sw_batch_size, model)\\n        pred_all.append(pred)\\n        # do 4 tta\\n        for dims in [[2], [3], [2, 3]]:\\n            flip_pred = sliding_window_inference(torch.flip(test_inputs, dims=dims), cfg.img_size, cfg.sw_batch_size, model)\\n            flip_pred = torch.flip(flip_pred, dims=dims)\\n            pred_all.append(flip_pred)\\n    pred_all = torch.mean(torch.stack(pred_all), dim=0)[0]\\n    pred_all = post_pred(pred_all)[1:]\\n    # c, w, h, d to d, c, h, w\\n    pred_all = torch.permute(pred_all, [3, 0, 2, 1]).cpu().numpy().astype(np.uint8)\\n    id_outputs = from_engine([\"id\"])(batch)[0]\\n\\n    for test_output, id_output in zip(pred_all, id_outputs):\\n        id_name = id_output[0]\\n        lb, sb, st = test_output\\n        outputs.append([id_name, \"large_bowel\", lb])\\n        outputs.append([id_name, \"small_bowel\", sb])\\n        outputs.append([id_name, \"stomach\", st])'"
      ]
     },
     "execution_count": 15,
     "metadata": {},
     "output_type": "execute_result"
    }
   ],
   "source": [
    "\"\"\"outputs = []\n",
    "\n",
    "post_pred = Compose([\n",
    "    Activations(sigmoid=True),\n",
    "    AsDiscrete(threshold=0.5)\n",
    "])\n",
    "\n",
    "model.eval()\n",
    "torch.set_grad_enabled(False)\n",
    "progress_bar = tqdm(range(len(test_dataloader)))\n",
    "val_it = iter(test_dataloader)\n",
    "for itr in progress_bar:\n",
    "    batch = next(val_it)\n",
    "    test_inputs = batch[\"image\"].to(cfg.device)\n",
    "\n",
    "    pred_all = []\n",
    "    for weights in cfg.weights:\n",
    "        model.load_state_dict(torch.load(weights))\n",
    "        pred = sliding_window_inference(test_inputs, cfg.img_size, cfg.sw_batch_size, model)\n",
    "        pred_all.append(pred)\n",
    "        # do 4 tta\n",
    "        for dims in [[2], [3], [2, 3]]:\n",
    "            flip_pred = sliding_window_inference(torch.flip(test_inputs, dims=dims), cfg.img_size, cfg.sw_batch_size, model)\n",
    "            flip_pred = torch.flip(flip_pred, dims=dims)\n",
    "            pred_all.append(flip_pred)\n",
    "    pred_all = torch.mean(torch.stack(pred_all), dim=0)[0]\n",
    "    pred_all = post_pred(pred_all)[1:]\n",
    "    # c, w, h, d to d, c, h, w\n",
    "    pred_all = torch.permute(pred_all, [3, 0, 2, 1]).cpu().numpy().astype(np.uint8)\n",
    "    id_outputs = from_engine([\"id\"])(batch)[0]\n",
    "\n",
    "    for test_output, id_output in zip(pred_all, id_outputs):\n",
    "        id_name = id_output[0]\n",
    "        lb, sb, st = test_output\n",
    "        outputs.append([id_name, \"large_bowel\", lb])\n",
    "        outputs.append([id_name, \"small_bowel\", sb])\n",
    "        outputs.append([id_name, \"stomach\", st])\"\"\"\n",
    "    \n"
   ]
  },
  {
   "cell_type": "code",
   "execution_count": 16,
   "id": "7d1e04e0",
   "metadata": {
    "execution": {
     "iopub.execute_input": "2022-06-29T10:12:13.958368Z",
     "iopub.status.busy": "2022-06-29T10:12:13.957699Z",
     "iopub.status.idle": "2022-06-29T10:12:13.968038Z",
     "shell.execute_reply": "2022-06-29T10:12:13.968582Z",
     "shell.execute_reply.started": "2022-06-29T10:04:03.478513Z"
    },
    "papermill": {
     "duration": 0.104506,
     "end_time": "2022-06-29T10:12:13.968744",
     "exception": false,
     "start_time": "2022-06-29T10:12:13.864238",
     "status": "completed"
    },
    "tags": []
   },
   "outputs": [],
   "source": [
    "  class cfg:\n",
    "    img_size = (224, 224, 80)\n",
    "    in_channels = 1\n",
    "    out_channels = 3\n",
    "    device = torch.device(\"cuda:0\" if torch.cuda.is_available() else \"cpu\")\n",
    "    weights = glob(\"../input/uw3dweights/large_unet_fold0_0.9024.pth\")\n",
    "    batch_size = 1\n",
    "    sw_batch_size = 4"
   ]
  },
  {
   "cell_type": "code",
   "execution_count": 17,
   "id": "5699f830",
   "metadata": {
    "execution": {
     "iopub.execute_input": "2022-06-29T10:12:14.152662Z",
     "iopub.status.busy": "2022-06-29T10:12:14.151571Z",
     "iopub.status.idle": "2022-06-29T10:12:14.154110Z",
     "shell.execute_reply": "2022-06-29T10:12:14.154687Z",
     "shell.execute_reply.started": "2022-06-29T10:04:05.058356Z"
    },
    "papermill": {
     "duration": 0.099133,
     "end_time": "2022-06-29T10:12:14.154862",
     "exception": false,
     "start_time": "2022-06-29T10:12:14.055729",
     "status": "completed"
    },
    "tags": []
   },
   "outputs": [],
   "source": [
    "test_transforms = Compose(\n",
    "    [\n",
    "        LoadImaged(keys=\"image\"), # d, h, w\n",
    "        AddChanneld(keys=\"image\"), # c, d, h, w\n",
    "        Transposed(keys=\"image\", indices=[0, 2, 3, 1]), # c, w, h, d\n",
    "        Lambdad(keys=\"image\", func=lambda x: x / x.max()),\n",
    "#         SpatialPadd(keys=\"image\", spatial_size=cfg.img_size),  # in case less than 80 slices\n",
    "        EnsureTyped(keys=\"image\", dtype=torch.float32),\n",
    "    ]\n",
    ")\n",
    "\n",
    "test_ds = CacheDataset(\n",
    "        data=test_data,\n",
    "        transform=test_transforms,\n",
    "        cache_rate=0.0,\n",
    "        num_workers=2,\n",
    "    )\n",
    "\n",
    "test_dataloader = DataLoader(\n",
    "    test_ds,\n",
    "    batch_size=cfg.batch_size,\n",
    "    num_workers=2,\n",
    "    pin_memory=True,\n",
    ")"
   ]
  },
  {
   "cell_type": "code",
   "execution_count": 18,
   "id": "1d1084a3",
   "metadata": {
    "execution": {
     "iopub.execute_input": "2022-06-29T10:12:14.339567Z",
     "iopub.status.busy": "2022-06-29T10:12:14.338453Z",
     "iopub.status.idle": "2022-06-29T10:12:14.548062Z",
     "shell.execute_reply": "2022-06-29T10:12:14.546845Z",
     "shell.execute_reply.started": "2022-06-29T10:04:06.858741Z"
    },
    "papermill": {
     "duration": 0.304735,
     "end_time": "2022-06-29T10:12:14.548286",
     "exception": false,
     "start_time": "2022-06-29T10:12:14.243551",
     "status": "completed"
    },
    "tags": []
   },
   "outputs": [],
   "source": [
    "model = UNet(\n",
    "    spatial_dims=3,\n",
    "    in_channels=cfg.in_channels,\n",
    "    out_channels=cfg.out_channels,\n",
    "    channels=(32, 64, 128, 256, 512),\n",
    "    strides=(2, 2, 2, 2),\n",
    "    kernel_size=3,\n",
    "    up_kernel_size=3,\n",
    "    num_res_units=2,\n",
    "    act=\"PRELU\",\n",
    "    norm=\"BATCH\",\n",
    "    dropout=0.2,\n",
    "    bias=True,\n",
    "    dimensions=None,\n",
    ").to(cfg.device)"
   ]
  },
  {
   "cell_type": "code",
   "execution_count": 19,
   "id": "733ec8bb",
   "metadata": {
    "execution": {
     "iopub.execute_input": "2022-06-29T10:12:14.740389Z",
     "iopub.status.busy": "2022-06-29T10:12:14.739212Z",
     "iopub.status.idle": "2022-06-29T10:12:43.003627Z",
     "shell.execute_reply": "2022-06-29T10:12:43.005459Z",
     "shell.execute_reply.started": "2022-06-29T10:04:10.103163Z"
    },
    "papermill": {
     "duration": 28.36939,
     "end_time": "2022-06-29T10:12:43.005722",
     "exception": false,
     "start_time": "2022-06-29T10:12:14.636332",
     "status": "completed"
    },
    "tags": []
   },
   "outputs": [
    {
     "name": "stderr",
     "output_type": "stream",
     "text": [
      "100%|██████████| 7/7 [00:28<00:00,  4.04s/it]\n"
     ]
    }
   ],
   "source": [
    "outputs2 = []\n",
    "\n",
    "post_pred = Compose([\n",
    "    Activations(sigmoid=True),\n",
    "    AsDiscrete(threshold=0.5)\n",
    "])\n",
    "\n",
    "model.eval()\n",
    "torch.set_grad_enabled(False)\n",
    "progress_bar = tqdm(range(len(test_dataloader)))\n",
    "val_it = iter(test_dataloader)\n",
    "for itr in progress_bar:\n",
    "    batch = next(val_it)\n",
    "    test_inputs = batch[\"image\"].to(cfg.device)\n",
    "\n",
    "    pred_all = []\n",
    "    for weights in cfg.weights:\n",
    "        model.load_state_dict(torch.load(weights))\n",
    "        pred = sliding_window_inference(test_inputs, cfg.img_size, cfg.sw_batch_size, model)\n",
    "        pred_all.append(pred)\n",
    "        # do 4 tta\n",
    "        for dims in [[2], [3], [2, 3]]:\n",
    "            flip_pred = sliding_window_inference(torch.flip(test_inputs, dims=dims), cfg.img_size, cfg.sw_batch_size, model)\n",
    "            flip_pred = torch.flip(flip_pred, dims=dims)\n",
    "            pred_all.append(flip_pred)\n",
    "    pred_all = torch.mean(torch.stack(pred_all), dim=0)[0]\n",
    "    pred_all = post_pred(pred_all)\n",
    "    # c, w, h, d to d, c, h, w\n",
    "    pred_all = torch.permute(pred_all, [3, 0, 2, 1]).cpu().numpy().astype(np.uint8)\n",
    "    id_outputs2 = from_engine([\"id\"])(batch)[0]\n",
    "\n",
    "    for test_output2, id_output2 in zip(pred_all, id_outputs2):\n",
    "        id_name = id_output2[0]\n",
    "        lb, sb, st = test_output2\n",
    "        outputs2.append([id_name, \"large_bowel\", lb])\n",
    "        outputs2.append([id_name, \"small_bowel\", sb])\n",
    "        outputs2.append([id_name, \"stomach\", st])\n",
    "    \n"
   ]
  },
  {
   "cell_type": "code",
   "execution_count": 20,
   "id": "9cc7413b",
   "metadata": {
    "execution": {
     "iopub.execute_input": "2022-06-29T10:12:43.191763Z",
     "iopub.status.busy": "2022-06-29T10:12:43.190823Z",
     "iopub.status.idle": "2022-06-29T10:12:43.193881Z",
     "shell.execute_reply": "2022-06-29T10:12:43.194435Z",
     "shell.execute_reply.started": "2022-06-29T10:04:37.800775Z"
    },
    "papermill": {
     "duration": 0.098788,
     "end_time": "2022-06-29T10:12:43.194590",
     "exception": false,
     "start_time": "2022-06-29T10:12:43.095802",
     "status": "completed"
    },
    "tags": []
   },
   "outputs": [],
   "source": [
    "#submit1 = pd.DataFrame(data=np.array(outputs), columns=[\"id\", \"class1\", \"predicted\"])"
   ]
  },
  {
   "cell_type": "code",
   "execution_count": 21,
   "id": "d29c7780",
   "metadata": {
    "execution": {
     "iopub.execute_input": "2022-06-29T10:12:43.387724Z",
     "iopub.status.busy": "2022-06-29T10:12:43.380184Z",
     "iopub.status.idle": "2022-06-29T10:12:43.391266Z",
     "shell.execute_reply": "2022-06-29T10:12:43.392244Z",
     "shell.execute_reply.started": "2022-06-29T10:04:37.807329Z"
    },
    "papermill": {
     "duration": 0.108937,
     "end_time": "2022-06-29T10:12:43.392473",
     "exception": false,
     "start_time": "2022-06-29T10:12:43.283536",
     "status": "completed"
    },
    "tags": []
   },
   "outputs": [
    {
     "name": "stderr",
     "output_type": "stream",
     "text": [
      "/opt/conda/lib/python3.7/site-packages/ipykernel_launcher.py:1: VisibleDeprecationWarning: Creating an ndarray from ragged nested sequences (which is a list-or-tuple of lists-or-tuples-or ndarrays with different lengths or shapes) is deprecated. If you meant to do this, you must specify 'dtype=object' when creating the ndarray.\n",
      "  \"\"\"Entry point for launching an IPython kernel.\n"
     ]
    }
   ],
   "source": [
    "submit2 = pd.DataFrame(data=np.array(outputs2), columns=[\"id\", \"class2\", \"predicted\"])"
   ]
  },
  {
   "cell_type": "code",
   "execution_count": 22,
   "id": "a626e6b2",
   "metadata": {
    "execution": {
     "iopub.execute_input": "2022-06-29T10:12:43.580688Z",
     "iopub.status.busy": "2022-06-29T10:12:43.579631Z",
     "iopub.status.idle": "2022-06-29T10:12:43.584366Z",
     "shell.execute_reply": "2022-06-29T10:12:43.583778Z",
     "shell.execute_reply.started": "2022-06-29T10:04:37.825638Z"
    },
    "papermill": {
     "duration": 0.1007,
     "end_time": "2022-06-29T10:12:43.584496",
     "exception": false,
     "start_time": "2022-06-29T10:12:43.483796",
     "status": "completed"
    },
    "tags": []
   },
   "outputs": [],
   "source": [
    "  class cfg:\n",
    "    img_size = (224, 224, 80)\n",
    "    in_channels = 1\n",
    "    out_channels = 4\n",
    "    device = torch.device(\"cuda:0\" if torch.cuda.is_available() else \"cpu\")\n",
    "    weights = glob(\"../input/uw3dweights/unet_fold0_0.8932.pth\")\n",
    "    batch_size = 1\n",
    "    sw_batch_size = 4"
   ]
  },
  {
   "cell_type": "code",
   "execution_count": 23,
   "id": "996f26d4",
   "metadata": {
    "execution": {
     "iopub.execute_input": "2022-06-29T10:12:43.774247Z",
     "iopub.status.busy": "2022-06-29T10:12:43.773097Z",
     "iopub.status.idle": "2022-06-29T10:12:43.778258Z",
     "shell.execute_reply": "2022-06-29T10:12:43.777711Z",
     "shell.execute_reply.started": "2022-06-29T10:04:37.838762Z"
    },
    "papermill": {
     "duration": 0.102221,
     "end_time": "2022-06-29T10:12:43.778390",
     "exception": false,
     "start_time": "2022-06-29T10:12:43.676169",
     "status": "completed"
    },
    "tags": []
   },
   "outputs": [],
   "source": [
    "test_transforms = Compose(\n",
    "    [\n",
    "        LoadImaged(keys=\"image\"), # d, h, w\n",
    "        AddChanneld(keys=\"image\"), # c, d, h, w\n",
    "        Transposed(keys=\"image\", indices=[0, 2, 3, 1]), # c, w, h, d\n",
    "        Lambdad(keys=\"image\", func=lambda x: x / x.max()),\n",
    "#         SpatialPadd(keys=\"image\", spatial_size=cfg.img_size),  # in case less than 80 slices\n",
    "        EnsureTyped(keys=\"image\", dtype=torch.float32),\n",
    "    ]\n",
    ")\n",
    "\n",
    "test_ds = CacheDataset(\n",
    "        data=test_data,\n",
    "        transform=test_transforms,\n",
    "        cache_rate=0.0,\n",
    "        num_workers=2,\n",
    "    )\n",
    "\n",
    "test_dataloader = DataLoader(\n",
    "    test_ds,\n",
    "    batch_size=cfg.batch_size,\n",
    "    num_workers=2,\n",
    "    pin_memory=True,\n",
    ")"
   ]
  },
  {
   "cell_type": "code",
   "execution_count": 24,
   "id": "7836de83",
   "metadata": {
    "execution": {
     "iopub.execute_input": "2022-06-29T10:12:43.968287Z",
     "iopub.status.busy": "2022-06-29T10:12:43.966959Z",
     "iopub.status.idle": "2022-06-29T10:12:44.035527Z",
     "shell.execute_reply": "2022-06-29T10:12:44.036034Z",
     "shell.execute_reply.started": "2022-06-29T10:04:37.849314Z"
    },
    "papermill": {
     "duration": 0.166267,
     "end_time": "2022-06-29T10:12:44.036243",
     "exception": false,
     "start_time": "2022-06-29T10:12:43.869976",
     "status": "completed"
    },
    "tags": []
   },
   "outputs": [],
   "source": [
    "model = UNet(\n",
    "    spatial_dims=3,\n",
    "    in_channels=cfg.in_channels,\n",
    "    out_channels=cfg.out_channels,\n",
    "    channels=(16, 32, 64, 128, 256),\n",
    "    strides=(2, 2, 2, 2),\n",
    "    kernel_size=3,\n",
    "    up_kernel_size=3,\n",
    "    num_res_units=2,\n",
    "    act=\"PRELU\",\n",
    "    norm=\"BATCH\",\n",
    "    dropout=0.2,\n",
    "    bias=True,\n",
    "    dimensions=None,\n",
    ").to(cfg.device)"
   ]
  },
  {
   "cell_type": "code",
   "execution_count": 25,
   "id": "c24551aa",
   "metadata": {
    "execution": {
     "iopub.execute_input": "2022-06-29T10:12:44.232772Z",
     "iopub.status.busy": "2022-06-29T10:12:44.226241Z",
     "iopub.status.idle": "2022-06-29T10:12:59.191499Z",
     "shell.execute_reply": "2022-06-29T10:12:59.190946Z",
     "shell.execute_reply.started": "2022-06-29T10:04:37.92183Z"
    },
    "papermill": {
     "duration": 15.06357,
     "end_time": "2022-06-29T10:12:59.191649",
     "exception": false,
     "start_time": "2022-06-29T10:12:44.128079",
     "status": "completed"
    },
    "tags": []
   },
   "outputs": [
    {
     "name": "stderr",
     "output_type": "stream",
     "text": [
      "100%|██████████| 7/7 [00:14<00:00,  2.14s/it]\n"
     ]
    }
   ],
   "source": [
    "outputs3 = []\n",
    "\n",
    "post_pred = Compose([\n",
    "    Activations(sigmoid=True),\n",
    "    AsDiscrete(threshold=0.5)\n",
    "])\n",
    "\n",
    "model.eval()\n",
    "torch.set_grad_enabled(False)\n",
    "progress_bar = tqdm(range(len(test_dataloader)))\n",
    "val_it = iter(test_dataloader)\n",
    "for itr in progress_bar:\n",
    "    batch = next(val_it)\n",
    "    test_inputs = batch[\"image\"].to(cfg.device)\n",
    "\n",
    "    pred_all = []\n",
    "    for weights in cfg.weights:\n",
    "        model.load_state_dict(torch.load(weights))\n",
    "        pred = sliding_window_inference(test_inputs, cfg.img_size, cfg.sw_batch_size, model)\n",
    "        pred_all.append(pred)\n",
    "        # do 4 tta\n",
    "        for dims in [[2], [3], [2, 3]]:\n",
    "            flip_pred = sliding_window_inference(torch.flip(test_inputs, dims=dims), cfg.img_size, cfg.sw_batch_size, model)\n",
    "            flip_pred = torch.flip(flip_pred, dims=dims)\n",
    "            pred_all.append(flip_pred)\n",
    "    pred_all = torch.mean(torch.stack(pred_all), dim=0)[0]\n",
    "    pred_all = post_pred(pred_all)[1:]\n",
    "    # c, w, h, d to d, c, h, w\n",
    "    pred_all = torch.permute(pred_all, [3, 0, 2, 1]).cpu().numpy().astype(np.uint8)\n",
    "    id_outputs3 = from_engine([\"id\"])(batch)[0]\n",
    "\n",
    "    for test_output3, id_output3 in zip(pred_all, id_outputs3):\n",
    "        id_name = id_output3[0]\n",
    "        lb, sb, st = test_output3\n",
    "        outputs3.append([id_name, \"large_bowel\", lb])\n",
    "        outputs3.append([id_name, \"small_bowel\", sb])\n",
    "        outputs3.append([id_name, \"stomach\", st])"
   ]
  },
  {
   "cell_type": "code",
   "execution_count": 26,
   "id": "c32b75e6",
   "metadata": {
    "execution": {
     "iopub.execute_input": "2022-06-29T10:12:59.409362Z",
     "iopub.status.busy": "2022-06-29T10:12:59.408227Z",
     "iopub.status.idle": "2022-06-29T10:12:59.413308Z",
     "shell.execute_reply": "2022-06-29T10:12:59.413819Z",
     "shell.execute_reply.started": "2022-06-29T10:04:52.279602Z"
    },
    "papermill": {
     "duration": 0.121276,
     "end_time": "2022-06-29T10:12:59.413981",
     "exception": false,
     "start_time": "2022-06-29T10:12:59.292705",
     "status": "completed"
    },
    "tags": []
   },
   "outputs": [
    {
     "name": "stderr",
     "output_type": "stream",
     "text": [
      "/opt/conda/lib/python3.7/site-packages/ipykernel_launcher.py:1: VisibleDeprecationWarning: Creating an ndarray from ragged nested sequences (which is a list-or-tuple of lists-or-tuples-or ndarrays with different lengths or shapes) is deprecated. If you meant to do this, you must specify 'dtype=object' when creating the ndarray.\n",
      "  \"\"\"Entry point for launching an IPython kernel.\n"
     ]
    }
   ],
   "source": [
    "submit3 = pd.DataFrame(data=np.array(outputs3), columns=[\"id\", \"class3\", \"predicted\"])"
   ]
  },
  {
   "cell_type": "code",
   "execution_count": 27,
   "id": "6d8c4c5d",
   "metadata": {
    "execution": {
     "iopub.execute_input": "2022-06-29T10:12:59.609814Z",
     "iopub.status.busy": "2022-06-29T10:12:59.609165Z",
     "iopub.status.idle": "2022-06-29T10:12:59.614474Z",
     "shell.execute_reply": "2022-06-29T10:12:59.613874Z",
     "shell.execute_reply.started": "2022-06-29T10:04:52.294882Z"
    },
    "papermill": {
     "duration": 0.104598,
     "end_time": "2022-06-29T10:12:59.614608",
     "exception": false,
     "start_time": "2022-06-29T10:12:59.510010",
     "status": "completed"
    },
    "tags": []
   },
   "outputs": [],
   "source": [
    "  class cfg:\n",
    "    img_size = (224, 224, 80)\n",
    "    in_channels = 1\n",
    "    out_channels = 4\n",
    "    device = torch.device(\"cuda:0\" if torch.cuda.is_available() else \"cpu\")\n",
    "    weights = glob(\"../input/uw3dweights/unet_fold0_0.9108.pth\")\n",
    "    batch_size = 1\n",
    "    sw_batch_size = 4"
   ]
  },
  {
   "cell_type": "code",
   "execution_count": 28,
   "id": "038460bb",
   "metadata": {
    "execution": {
     "iopub.execute_input": "2022-06-29T10:12:59.817779Z",
     "iopub.status.busy": "2022-06-29T10:12:59.816682Z",
     "iopub.status.idle": "2022-06-29T10:12:59.818810Z",
     "shell.execute_reply": "2022-06-29T10:12:59.819371Z",
     "shell.execute_reply.started": "2022-06-29T10:05:16.536507Z"
    },
    "papermill": {
     "duration": 0.107179,
     "end_time": "2022-06-29T10:12:59.819541",
     "exception": false,
     "start_time": "2022-06-29T10:12:59.712362",
     "status": "completed"
    },
    "tags": []
   },
   "outputs": [],
   "source": [
    "test_transforms = Compose(\n",
    "    [\n",
    "        LoadImaged(keys=\"image\"), # d, h, w\n",
    "        AddChanneld(keys=\"image\"), # c, d, h, w\n",
    "        Transposed(keys=\"image\", indices=[0, 2, 3, 1]), # c, w, h, d\n",
    "        Lambdad(keys=\"image\", func=lambda x: x / x.max()),\n",
    "#         SpatialPadd(keys=\"image\", spatial_size=cfg.img_size),  # in case less than 80 slices\n",
    "        EnsureTyped(keys=\"image\", dtype=torch.float32),\n",
    "    ]\n",
    ")\n",
    "\n",
    "test_ds = CacheDataset(\n",
    "        data=test_data,\n",
    "        transform=test_transforms,\n",
    "        cache_rate=0.0,\n",
    "        num_workers=2,\n",
    "    )\n",
    "\n",
    "test_dataloader = DataLoader(\n",
    "    test_ds,\n",
    "    batch_size=cfg.batch_size,\n",
    "    num_workers=2,\n",
    "    pin_memory=True,\n",
    ")"
   ]
  },
  {
   "cell_type": "code",
   "execution_count": 29,
   "id": "8f904e65",
   "metadata": {
    "execution": {
     "iopub.execute_input": "2022-06-29T10:13:00.017608Z",
     "iopub.status.busy": "2022-06-29T10:13:00.014342Z",
     "iopub.status.idle": "2022-06-29T10:13:00.091376Z",
     "shell.execute_reply": "2022-06-29T10:13:00.091894Z",
     "shell.execute_reply.started": "2022-06-29T10:05:17.490068Z"
    },
    "papermill": {
     "duration": 0.17801,
     "end_time": "2022-06-29T10:13:00.092087",
     "exception": false,
     "start_time": "2022-06-29T10:12:59.914077",
     "status": "completed"
    },
    "tags": []
   },
   "outputs": [],
   "source": [
    "model = UNet(\n",
    "    spatial_dims=3,\n",
    "    in_channels=cfg.in_channels,\n",
    "    out_channels=cfg.out_channels,\n",
    "    channels=(16, 32, 64, 128, 256),\n",
    "    strides=(2, 2, 2, 2),\n",
    "    kernel_size=3,\n",
    "    up_kernel_size=3,\n",
    "    num_res_units=2,\n",
    "    act=\"PRELU\",\n",
    "    norm=\"BATCH\",\n",
    "    dropout=0.2,\n",
    "    bias=True,\n",
    "    dimensions=None,\n",
    ").to(cfg.device)"
   ]
  },
  {
   "cell_type": "code",
   "execution_count": 30,
   "id": "40ab1c30",
   "metadata": {
    "execution": {
     "iopub.execute_input": "2022-06-29T10:13:00.310922Z",
     "iopub.status.busy": "2022-06-29T10:13:00.309773Z",
     "iopub.status.idle": "2022-06-29T10:13:15.431625Z",
     "shell.execute_reply": "2022-06-29T10:13:15.432173Z",
     "shell.execute_reply.started": "2022-06-29T10:05:18.060095Z"
    },
    "papermill": {
     "duration": 15.243618,
     "end_time": "2022-06-29T10:13:15.432370",
     "exception": false,
     "start_time": "2022-06-29T10:13:00.188752",
     "status": "completed"
    },
    "tags": []
   },
   "outputs": [
    {
     "name": "stderr",
     "output_type": "stream",
     "text": [
      "100%|██████████| 7/7 [00:15<00:00,  2.16s/it]\n"
     ]
    }
   ],
   "source": [
    "outputs4 = []\n",
    "\n",
    "post_pred = Compose([\n",
    "    Activations(sigmoid=True),\n",
    "    AsDiscrete(threshold=0.5)\n",
    "])\n",
    "\n",
    "model.eval()\n",
    "torch.set_grad_enabled(False)\n",
    "progress_bar = tqdm(range(len(test_dataloader)))\n",
    "val_it = iter(test_dataloader)\n",
    "for itr in progress_bar:\n",
    "    batch = next(val_it)\n",
    "    test_inputs = batch[\"image\"].to(cfg.device)\n",
    "\n",
    "    pred_all = []\n",
    "    for weights in cfg.weights:\n",
    "        model.load_state_dict(torch.load(weights))\n",
    "        pred = sliding_window_inference(test_inputs, cfg.img_size, cfg.sw_batch_size, model)\n",
    "        pred_all.append(pred)\n",
    "        # do 4 tta\n",
    "        for dims in [[2], [3], [2, 3]]:\n",
    "            flip_pred = sliding_window_inference(torch.flip(test_inputs, dims=dims), cfg.img_size, cfg.sw_batch_size, model)\n",
    "            flip_pred = torch.flip(flip_pred, dims=dims)\n",
    "            pred_all.append(flip_pred)\n",
    "    pred_all = torch.mean(torch.stack(pred_all), dim=0)[0]\n",
    "    pred_all = post_pred(pred_all)[1:]\n",
    "    # c, w, h, d to d, c, h, w\n",
    "    pred_all = torch.permute(pred_all, [3, 0, 2, 1]).cpu().numpy().astype(np.uint8)\n",
    "    id_outputs4 = from_engine([\"id\"])(batch)[0]\n",
    "\n",
    "    for test_output4, id_output4 in zip(pred_all, id_outputs4):\n",
    "        id_name = id_output4[0]\n",
    "        lb, sb, st = test_output4\n",
    "        outputs4.append([id_name, \"large_bowel\", lb])\n",
    "        outputs4.append([id_name, \"small_bowel\", sb])\n",
    "        outputs4.append([id_name, \"stomach\", st])"
   ]
  },
  {
   "cell_type": "code",
   "execution_count": 31,
   "id": "34533a16",
   "metadata": {
    "execution": {
     "iopub.execute_input": "2022-06-29T10:13:15.650509Z",
     "iopub.status.busy": "2022-06-29T10:13:15.649288Z",
     "iopub.status.idle": "2022-06-29T10:13:15.655411Z",
     "shell.execute_reply": "2022-06-29T10:13:15.654555Z",
     "shell.execute_reply.started": "2022-06-29T10:05:32.46001Z"
    },
    "papermill": {
     "duration": 0.123327,
     "end_time": "2022-06-29T10:13:15.655611",
     "exception": false,
     "start_time": "2022-06-29T10:13:15.532284",
     "status": "completed"
    },
    "tags": []
   },
   "outputs": [
    {
     "name": "stderr",
     "output_type": "stream",
     "text": [
      "/opt/conda/lib/python3.7/site-packages/ipykernel_launcher.py:1: VisibleDeprecationWarning: Creating an ndarray from ragged nested sequences (which is a list-or-tuple of lists-or-tuples-or ndarrays with different lengths or shapes) is deprecated. If you meant to do this, you must specify 'dtype=object' when creating the ndarray.\n",
      "  \"\"\"Entry point for launching an IPython kernel.\n"
     ]
    }
   ],
   "source": [
    "submit4 = pd.DataFrame(data=np.array(outputs4), columns=[\"id\", \"class4\", \"predicted\"])"
   ]
  },
  {
   "cell_type": "code",
   "execution_count": 32,
   "id": "925fcddf",
   "metadata": {
    "execution": {
     "iopub.execute_input": "2022-06-29T10:13:15.863175Z",
     "iopub.status.busy": "2022-06-29T10:13:15.862465Z",
     "iopub.status.idle": "2022-06-29T10:13:15.867811Z",
     "shell.execute_reply": "2022-06-29T10:13:15.867235Z",
     "shell.execute_reply.started": "2022-06-29T10:05:32.475202Z"
    },
    "papermill": {
     "duration": 0.111146,
     "end_time": "2022-06-29T10:13:15.867952",
     "exception": false,
     "start_time": "2022-06-29T10:13:15.756806",
     "status": "completed"
    },
    "tags": []
   },
   "outputs": [],
   "source": [
    "  class cfg:\n",
    "    img_size = (224, 224, 80)\n",
    "    in_channels = 1\n",
    "    out_channels = 4\n",
    "    device = torch.device(\"cuda:0\" if torch.cuda.is_available() else \"cpu\")\n",
    "    weights = glob(\"../input/uw3dweights/unet_fold0_new_metric_0.8925.pth\")\n",
    "    batch_size = 1\n",
    "    sw_batch_size = 4"
   ]
  },
  {
   "cell_type": "code",
   "execution_count": 33,
   "id": "942f4562",
   "metadata": {
    "execution": {
     "iopub.execute_input": "2022-06-29T10:13:16.080464Z",
     "iopub.status.busy": "2022-06-29T10:13:16.079530Z",
     "iopub.status.idle": "2022-06-29T10:13:16.082653Z",
     "shell.execute_reply": "2022-06-29T10:13:16.083191Z",
     "shell.execute_reply.started": "2022-06-29T10:05:32.485851Z"
    },
    "papermill": {
     "duration": 0.114492,
     "end_time": "2022-06-29T10:13:16.083353",
     "exception": false,
     "start_time": "2022-06-29T10:13:15.968861",
     "status": "completed"
    },
    "tags": []
   },
   "outputs": [],
   "source": [
    "test_transforms = Compose(\n",
    "    [\n",
    "        LoadImaged(keys=\"image\"), # d, h, w\n",
    "        AddChanneld(keys=\"image\"), # c, d, h, w\n",
    "        Transposed(keys=\"image\", indices=[0, 2, 3, 1]), # c, w, h, d\n",
    "        Lambdad(keys=\"image\", func=lambda x: x / x.max()),\n",
    "#         SpatialPadd(keys=\"image\", spatial_size=cfg.img_size),  # in case less than 80 slices\n",
    "        EnsureTyped(keys=\"image\", dtype=torch.float32),\n",
    "    ]\n",
    ")\n",
    "\n",
    "test_ds = CacheDataset(\n",
    "        data=test_data,\n",
    "        transform=test_transforms,\n",
    "        cache_rate=0.0,\n",
    "        num_workers=2,\n",
    "    )\n",
    "\n",
    "test_dataloader = DataLoader(\n",
    "    test_ds,\n",
    "    batch_size=cfg.batch_size,\n",
    "    num_workers=2,\n",
    "    pin_memory=True,\n",
    ")"
   ]
  },
  {
   "cell_type": "code",
   "execution_count": 34,
   "id": "b3906edf",
   "metadata": {
    "execution": {
     "iopub.execute_input": "2022-06-29T10:13:16.293066Z",
     "iopub.status.busy": "2022-06-29T10:13:16.291990Z",
     "iopub.status.idle": "2022-06-29T10:13:16.365870Z",
     "shell.execute_reply": "2022-06-29T10:13:16.365245Z",
     "shell.execute_reply.started": "2022-06-29T10:05:32.497421Z"
    },
    "papermill": {
     "duration": 0.182158,
     "end_time": "2022-06-29T10:13:16.366101",
     "exception": false,
     "start_time": "2022-06-29T10:13:16.183943",
     "status": "completed"
    },
    "tags": []
   },
   "outputs": [],
   "source": [
    "model = UNet(\n",
    "    spatial_dims=3,\n",
    "    in_channels=cfg.in_channels,\n",
    "    out_channels=cfg.out_channels,\n",
    "    channels=(16, 32, 64, 128, 256),\n",
    "    strides=(2, 2, 2, 2),\n",
    "    kernel_size=3,\n",
    "    up_kernel_size=3,\n",
    "    num_res_units=2,\n",
    "    act=\"PRELU\",\n",
    "    norm=\"BATCH\",\n",
    "    dropout=0.2,\n",
    "    bias=True,\n",
    "    dimensions=None,\n",
    ").to(cfg.device)"
   ]
  },
  {
   "cell_type": "code",
   "execution_count": 35,
   "id": "371ba659",
   "metadata": {
    "execution": {
     "iopub.execute_input": "2022-06-29T10:13:16.577524Z",
     "iopub.status.busy": "2022-06-29T10:13:16.576635Z",
     "iopub.status.idle": "2022-06-29T10:13:16.580521Z",
     "shell.execute_reply": "2022-06-29T10:13:16.581210Z",
     "shell.execute_reply.started": "2022-06-29T09:53:52.593206Z"
    },
    "papermill": {
     "duration": 0.113636,
     "end_time": "2022-06-29T10:13:16.581432",
     "exception": false,
     "start_time": "2022-06-29T10:13:16.467796",
     "status": "completed"
    },
    "tags": []
   },
   "outputs": [
    {
     "data": {
      "text/plain": [
       "'outputs5 = []\\n\\npost_pred = Compose([\\n    Activations(sigmoid=True),\\n    AsDiscrete(threshold=0.5)\\n])\\n\\nmodel.eval()\\ntorch.set_grad_enabled(False)\\nprogress_bar = tqdm(range(len(test_dataloader)))\\nval_it = iter(test_dataloader)\\nfor itr in progress_bar:\\n    batch = next(val_it)\\n    test_inputs = batch[\"image\"].to(cfg.device)\\n\\n    pred_all = []\\n    for weights in cfg.weights:\\n        model.load_state_dict(torch.load(weights))\\n        pred = sliding_window_inference(test_inputs, cfg.img_size, cfg.sw_batch_size, model)\\n        pred_all.append(pred)\\n        # do 4 tta\\n        for dims in [[2], [3], [2, 3]]:\\n            flip_pred = sliding_window_inference(torch.flip(test_inputs, dims=dims), cfg.img_size, cfg.sw_batch_size, model)\\n            flip_pred = torch.flip(flip_pred, dims=dims)\\n            pred_all.append(flip_pred)\\n    pred_all = torch.mean(torch.stack(pred_all), dim=0)[0]\\n    pred_all = post_pred(pred_all)[1:]\\n    # c, w, h, d to d, c, h, w\\n    pred_all = torch.permute(pred_all, [3, 0, 2, 1]).cpu().numpy().astype(np.uint8)\\n    id_outputs5 = from_engine([\"id\"])(batch)[0]\\n\\n    for test_output5, id_output5 in zip(pred_all, id_outputs5):\\n        id_name = id_output5[0]\\n        lb, sb, st = test_output5\\n        outputs5.append([id_name, \"large_bowel\", lb])\\n        outputs5.append([id_name, \"small_bowel\", sb])\\n        outputs5.append([id_name, \"stomach\", st])'"
      ]
     },
     "execution_count": 35,
     "metadata": {},
     "output_type": "execute_result"
    }
   ],
   "source": [
    "\"\"\"outputs5 = []\n",
    "\n",
    "post_pred = Compose([\n",
    "    Activations(sigmoid=True),\n",
    "    AsDiscrete(threshold=0.5)\n",
    "])\n",
    "\n",
    "model.eval()\n",
    "torch.set_grad_enabled(False)\n",
    "progress_bar = tqdm(range(len(test_dataloader)))\n",
    "val_it = iter(test_dataloader)\n",
    "for itr in progress_bar:\n",
    "    batch = next(val_it)\n",
    "    test_inputs = batch[\"image\"].to(cfg.device)\n",
    "\n",
    "    pred_all = []\n",
    "    for weights in cfg.weights:\n",
    "        model.load_state_dict(torch.load(weights))\n",
    "        pred = sliding_window_inference(test_inputs, cfg.img_size, cfg.sw_batch_size, model)\n",
    "        pred_all.append(pred)\n",
    "        # do 4 tta\n",
    "        for dims in [[2], [3], [2, 3]]:\n",
    "            flip_pred = sliding_window_inference(torch.flip(test_inputs, dims=dims), cfg.img_size, cfg.sw_batch_size, model)\n",
    "            flip_pred = torch.flip(flip_pred, dims=dims)\n",
    "            pred_all.append(flip_pred)\n",
    "    pred_all = torch.mean(torch.stack(pred_all), dim=0)[0]\n",
    "    pred_all = post_pred(pred_all)[1:]\n",
    "    # c, w, h, d to d, c, h, w\n",
    "    pred_all = torch.permute(pred_all, [3, 0, 2, 1]).cpu().numpy().astype(np.uint8)\n",
    "    id_outputs5 = from_engine([\"id\"])(batch)[0]\n",
    "\n",
    "    for test_output5, id_output5 in zip(pred_all, id_outputs5):\n",
    "        id_name = id_output5[0]\n",
    "        lb, sb, st = test_output5\n",
    "        outputs5.append([id_name, \"large_bowel\", lb])\n",
    "        outputs5.append([id_name, \"small_bowel\", sb])\n",
    "        outputs5.append([id_name, \"stomach\", st])\"\"\""
   ]
  },
  {
   "cell_type": "code",
   "execution_count": 36,
   "id": "9ce99c91",
   "metadata": {
    "execution": {
     "iopub.execute_input": "2022-06-29T10:13:16.789765Z",
     "iopub.status.busy": "2022-06-29T10:13:16.788716Z",
     "iopub.status.idle": "2022-06-29T10:13:16.796303Z",
     "shell.execute_reply": "2022-06-29T10:13:16.795609Z",
     "shell.execute_reply.started": "2022-06-29T10:05:40.312866Z"
    },
    "papermill": {
     "duration": 0.112828,
     "end_time": "2022-06-29T10:13:16.796448",
     "exception": false,
     "start_time": "2022-06-29T10:13:16.683620",
     "status": "completed"
    },
    "tags": []
   },
   "outputs": [
    {
     "data": {
      "text/plain": [
       "(266, 266)"
      ]
     },
     "execution_count": 36,
     "metadata": {},
     "output_type": "execute_result"
    }
   ],
   "source": [
    "lb.shape"
   ]
  },
  {
   "cell_type": "code",
   "execution_count": 37,
   "id": "50b8dbde",
   "metadata": {
    "execution": {
     "iopub.execute_input": "2022-06-29T10:13:17.007614Z",
     "iopub.status.busy": "2022-06-29T10:13:17.006783Z",
     "iopub.status.idle": "2022-06-29T10:13:17.010390Z",
     "shell.execute_reply": "2022-06-29T10:13:17.010898Z",
     "shell.execute_reply.started": "2022-06-29T10:05:42.638424Z"
    },
    "papermill": {
     "duration": 0.112435,
     "end_time": "2022-06-29T10:13:17.011053",
     "exception": false,
     "start_time": "2022-06-29T10:13:16.898618",
     "status": "completed"
    },
    "tags": []
   },
   "outputs": [
    {
     "data": {
      "text/plain": [
       "'a = submit1.iloc[146, :].predicted\\nfor i in range(len(a)):\\n    s = set(a[i])\\n    if len(s) > 1:\\n        print(s)'"
      ]
     },
     "execution_count": 37,
     "metadata": {},
     "output_type": "execute_result"
    }
   ],
   "source": [
    "\"\"\"a = submit1.iloc[146, :].predicted\n",
    "for i in range(len(a)):\n",
    "    s = set(a[i])\n",
    "    if len(s) > 1:\n",
    "        print(s)\"\"\""
   ]
  },
  {
   "cell_type": "code",
   "execution_count": 38,
   "id": "4cd6ce8e",
   "metadata": {
    "execution": {
     "iopub.execute_input": "2022-06-29T10:13:17.226657Z",
     "iopub.status.busy": "2022-06-29T10:13:17.225796Z",
     "iopub.status.idle": "2022-06-29T10:13:17.229404Z",
     "shell.execute_reply": "2022-06-29T10:13:17.229952Z",
     "shell.execute_reply.started": "2022-06-29T10:05:52.003455Z"
    },
    "papermill": {
     "duration": 0.114672,
     "end_time": "2022-06-29T10:13:17.230151",
     "exception": false,
     "start_time": "2022-06-29T10:13:17.115479",
     "status": "completed"
    },
    "tags": []
   },
   "outputs": [
    {
     "data": {
      "text/plain": [
       "'import matplotlib.pyplot as plt\\nplt.imshow(a)'"
      ]
     },
     "execution_count": 38,
     "metadata": {},
     "output_type": "execute_result"
    }
   ],
   "source": [
    "\"\"\"import matplotlib.pyplot as plt\n",
    "plt.imshow(a)\"\"\""
   ]
  },
  {
   "cell_type": "code",
   "execution_count": 39,
   "id": "07626cd9",
   "metadata": {
    "execution": {
     "iopub.execute_input": "2022-06-29T10:13:17.441704Z",
     "iopub.status.busy": "2022-06-29T10:13:17.440855Z",
     "iopub.status.idle": "2022-06-29T10:13:17.444572Z",
     "shell.execute_reply": "2022-06-29T10:13:17.445183Z",
     "shell.execute_reply.started": "2022-06-29T10:05:53.799136Z"
    },
    "papermill": {
     "duration": 0.111861,
     "end_time": "2022-06-29T10:13:17.445349",
     "exception": false,
     "start_time": "2022-06-29T10:13:17.333488",
     "status": "completed"
    },
    "tags": []
   },
   "outputs": [
    {
     "data": {
      "text/plain": [
       "(266, 266)"
      ]
     },
     "execution_count": 39,
     "metadata": {},
     "output_type": "execute_result"
    }
   ],
   "source": [
    "sb.shape"
   ]
  },
  {
   "cell_type": "code",
   "execution_count": null,
   "id": "65fa2ddf",
   "metadata": {
    "papermill": {
     "duration": 0.103056,
     "end_time": "2022-06-29T10:13:17.651035",
     "exception": false,
     "start_time": "2022-06-29T10:13:17.547979",
     "status": "completed"
    },
    "tags": []
   },
   "outputs": [],
   "source": []
  },
  {
   "cell_type": "code",
   "execution_count": 40,
   "id": "2f7b88cc",
   "metadata": {
    "execution": {
     "iopub.execute_input": "2022-06-29T10:13:17.861596Z",
     "iopub.status.busy": "2022-06-29T10:13:17.860401Z",
     "iopub.status.idle": "2022-06-29T10:13:17.862826Z",
     "shell.execute_reply": "2022-06-29T10:13:17.863332Z",
     "shell.execute_reply.started": "2022-06-29T09:53:52.602142Z"
    },
    "papermill": {
     "duration": 0.108518,
     "end_time": "2022-06-29T10:13:17.863487",
     "exception": false,
     "start_time": "2022-06-29T10:13:17.754969",
     "status": "completed"
    },
    "tags": []
   },
   "outputs": [],
   "source": [
    "#submit5 = pd.DataFrame(data=np.array(outputs5), columns=[\"id\", \"class5\", \"predicted\"])"
   ]
  },
  {
   "cell_type": "code",
   "execution_count": 41,
   "id": "944c1bf7",
   "metadata": {
    "execution": {
     "iopub.execute_input": "2022-06-29T10:13:18.075136Z",
     "iopub.status.busy": "2022-06-29T10:13:18.074008Z",
     "iopub.status.idle": "2022-06-29T10:13:18.076417Z",
     "shell.execute_reply": "2022-06-29T10:13:18.076989Z",
     "shell.execute_reply.started": "2022-06-29T09:53:52.604204Z"
    },
    "papermill": {
     "duration": 0.112352,
     "end_time": "2022-06-29T10:13:18.077170",
     "exception": false,
     "start_time": "2022-06-29T10:13:17.964818",
     "status": "completed"
    },
    "tags": []
   },
   "outputs": [],
   "source": [
    "#submit1[submit1[\"predicted\"] != '']"
   ]
  },
  {
   "cell_type": "code",
   "execution_count": null,
   "id": "bb679c3f",
   "metadata": {
    "papermill": {
     "duration": 0.117529,
     "end_time": "2022-06-29T10:13:18.298367",
     "exception": false,
     "start_time": "2022-06-29T10:13:18.180838",
     "status": "completed"
    },
    "tags": []
   },
   "outputs": [],
   "source": []
  },
  {
   "cell_type": "code",
   "execution_count": 42,
   "id": "c9a3ef3e",
   "metadata": {
    "execution": {
     "iopub.execute_input": "2022-06-29T10:13:18.516702Z",
     "iopub.status.busy": "2022-06-29T10:13:18.515872Z",
     "iopub.status.idle": "2022-06-29T10:13:19.862682Z",
     "shell.execute_reply": "2022-06-29T10:13:19.863208Z",
     "shell.execute_reply.started": "2022-06-29T10:06:01.383979Z"
    },
    "papermill": {
     "duration": 1.456078,
     "end_time": "2022-06-29T10:13:19.863393",
     "exception": false,
     "start_time": "2022-06-29T10:13:18.407315",
     "status": "completed"
    },
    "tags": []
   },
   "outputs": [
    {
     "name": "stderr",
     "output_type": "stream",
     "text": [
      "/opt/conda/lib/python3.7/site-packages/pandas/core/ops/array_ops.py:73: FutureWarning: elementwise comparison failed; returning scalar instead, but in the future will perform elementwise comparison\n",
      "  result = libops.scalar_compare(x.ravel(), y, op)\n"
     ]
    },
    {
     "data": {
      "text/html": [
       "<div>\n",
       "<style scoped>\n",
       "    .dataframe tbody tr th:only-of-type {\n",
       "        vertical-align: middle;\n",
       "    }\n",
       "\n",
       "    .dataframe tbody tr th {\n",
       "        vertical-align: top;\n",
       "    }\n",
       "\n",
       "    .dataframe thead th {\n",
       "        text-align: right;\n",
       "    }\n",
       "</style>\n",
       "<table border=\"1\" class=\"dataframe\">\n",
       "  <thead>\n",
       "    <tr style=\"text-align: right;\">\n",
       "      <th></th>\n",
       "      <th>id</th>\n",
       "      <th>class2</th>\n",
       "      <th>predicted</th>\n",
       "    </tr>\n",
       "  </thead>\n",
       "  <tbody>\n",
       "    <tr>\n",
       "      <th>0</th>\n",
       "      <td>case123_day0_slice_0001</td>\n",
       "      <td>large_bowel</td>\n",
       "      <td>[[0, 0, 0, 0, 0, 0, 0, 0, 0, 0, 0, 0, 0, 0, 0,...</td>\n",
       "    </tr>\n",
       "    <tr>\n",
       "      <th>1</th>\n",
       "      <td>case123_day0_slice_0001</td>\n",
       "      <td>small_bowel</td>\n",
       "      <td>[[0, 0, 0, 0, 0, 0, 0, 0, 0, 0, 0, 0, 0, 0, 0,...</td>\n",
       "    </tr>\n",
       "    <tr>\n",
       "      <th>2</th>\n",
       "      <td>case123_day0_slice_0001</td>\n",
       "      <td>stomach</td>\n",
       "      <td>[[0, 0, 0, 0, 0, 0, 0, 0, 0, 0, 0, 0, 0, 0, 0,...</td>\n",
       "    </tr>\n",
       "    <tr>\n",
       "      <th>3</th>\n",
       "      <td>case123_day0_slice_0002</td>\n",
       "      <td>large_bowel</td>\n",
       "      <td>[[0, 0, 0, 0, 0, 0, 0, 0, 0, 0, 0, 0, 0, 0, 0,...</td>\n",
       "    </tr>\n",
       "    <tr>\n",
       "      <th>4</th>\n",
       "      <td>case123_day0_slice_0002</td>\n",
       "      <td>small_bowel</td>\n",
       "      <td>[[0, 0, 0, 0, 0, 0, 0, 0, 0, 0, 0, 0, 0, 0, 0,...</td>\n",
       "    </tr>\n",
       "    <tr>\n",
       "      <th>...</th>\n",
       "      <td>...</td>\n",
       "      <td>...</td>\n",
       "      <td>...</td>\n",
       "    </tr>\n",
       "    <tr>\n",
       "      <th>2995</th>\n",
       "      <td>case77_day20_slice_0143</td>\n",
       "      <td>small_bowel</td>\n",
       "      <td>[[0, 0, 0, 0, 0, 0, 0, 0, 0, 0, 0, 0, 0, 0, 0,...</td>\n",
       "    </tr>\n",
       "    <tr>\n",
       "      <th>2996</th>\n",
       "      <td>case77_day20_slice_0143</td>\n",
       "      <td>stomach</td>\n",
       "      <td>[[0, 0, 0, 0, 0, 0, 0, 0, 0, 0, 0, 0, 0, 0, 0,...</td>\n",
       "    </tr>\n",
       "    <tr>\n",
       "      <th>2997</th>\n",
       "      <td>case77_day20_slice_0144</td>\n",
       "      <td>large_bowel</td>\n",
       "      <td>[[0, 0, 0, 0, 0, 0, 0, 0, 0, 0, 0, 0, 0, 0, 0,...</td>\n",
       "    </tr>\n",
       "    <tr>\n",
       "      <th>2998</th>\n",
       "      <td>case77_day20_slice_0144</td>\n",
       "      <td>small_bowel</td>\n",
       "      <td>[[0, 0, 0, 0, 0, 0, 0, 0, 0, 0, 0, 0, 0, 0, 0,...</td>\n",
       "    </tr>\n",
       "    <tr>\n",
       "      <th>2999</th>\n",
       "      <td>case77_day20_slice_0144</td>\n",
       "      <td>stomach</td>\n",
       "      <td>[[0, 0, 0, 0, 0, 0, 0, 0, 0, 0, 0, 0, 0, 0, 0,...</td>\n",
       "    </tr>\n",
       "  </tbody>\n",
       "</table>\n",
       "<p>3000 rows × 3 columns</p>\n",
       "</div>"
      ],
      "text/plain": [
       "                           id       class2  \\\n",
       "0     case123_day0_slice_0001  large_bowel   \n",
       "1     case123_day0_slice_0001  small_bowel   \n",
       "2     case123_day0_slice_0001      stomach   \n",
       "3     case123_day0_slice_0002  large_bowel   \n",
       "4     case123_day0_slice_0002  small_bowel   \n",
       "...                       ...          ...   \n",
       "2995  case77_day20_slice_0143  small_bowel   \n",
       "2996  case77_day20_slice_0143      stomach   \n",
       "2997  case77_day20_slice_0144  large_bowel   \n",
       "2998  case77_day20_slice_0144  small_bowel   \n",
       "2999  case77_day20_slice_0144      stomach   \n",
       "\n",
       "                                              predicted  \n",
       "0     [[0, 0, 0, 0, 0, 0, 0, 0, 0, 0, 0, 0, 0, 0, 0,...  \n",
       "1     [[0, 0, 0, 0, 0, 0, 0, 0, 0, 0, 0, 0, 0, 0, 0,...  \n",
       "2     [[0, 0, 0, 0, 0, 0, 0, 0, 0, 0, 0, 0, 0, 0, 0,...  \n",
       "3     [[0, 0, 0, 0, 0, 0, 0, 0, 0, 0, 0, 0, 0, 0, 0,...  \n",
       "4     [[0, 0, 0, 0, 0, 0, 0, 0, 0, 0, 0, 0, 0, 0, 0,...  \n",
       "...                                                 ...  \n",
       "2995  [[0, 0, 0, 0, 0, 0, 0, 0, 0, 0, 0, 0, 0, 0, 0,...  \n",
       "2996  [[0, 0, 0, 0, 0, 0, 0, 0, 0, 0, 0, 0, 0, 0, 0,...  \n",
       "2997  [[0, 0, 0, 0, 0, 0, 0, 0, 0, 0, 0, 0, 0, 0, 0,...  \n",
       "2998  [[0, 0, 0, 0, 0, 0, 0, 0, 0, 0, 0, 0, 0, 0, 0,...  \n",
       "2999  [[0, 0, 0, 0, 0, 0, 0, 0, 0, 0, 0, 0, 0, 0, 0,...  \n",
       "\n",
       "[3000 rows x 3 columns]"
      ]
     },
     "execution_count": 42,
     "metadata": {},
     "output_type": "execute_result"
    }
   ],
   "source": [
    "submit2[submit2[\"predicted\"]!=\"\"]"
   ]
  },
  {
   "cell_type": "code",
   "execution_count": 43,
   "id": "41d36b44",
   "metadata": {
    "execution": {
     "iopub.execute_input": "2022-06-29T10:13:20.082491Z",
     "iopub.status.busy": "2022-06-29T10:13:20.081479Z",
     "iopub.status.idle": "2022-06-29T10:13:20.759524Z",
     "shell.execute_reply": "2022-06-29T10:13:20.758755Z",
     "shell.execute_reply.started": "2022-06-29T10:06:02.638295Z"
    },
    "papermill": {
     "duration": 0.791108,
     "end_time": "2022-06-29T10:13:20.759695",
     "exception": false,
     "start_time": "2022-06-29T10:13:19.968587",
     "status": "completed"
    },
    "tags": []
   },
   "outputs": [
    {
     "data": {
      "text/html": [
       "<div>\n",
       "<style scoped>\n",
       "    .dataframe tbody tr th:only-of-type {\n",
       "        vertical-align: middle;\n",
       "    }\n",
       "\n",
       "    .dataframe tbody tr th {\n",
       "        vertical-align: top;\n",
       "    }\n",
       "\n",
       "    .dataframe thead th {\n",
       "        text-align: right;\n",
       "    }\n",
       "</style>\n",
       "<table border=\"1\" class=\"dataframe\">\n",
       "  <thead>\n",
       "    <tr style=\"text-align: right;\">\n",
       "      <th></th>\n",
       "      <th>id</th>\n",
       "      <th>class3</th>\n",
       "      <th>predicted</th>\n",
       "    </tr>\n",
       "  </thead>\n",
       "  <tbody>\n",
       "    <tr>\n",
       "      <th>0</th>\n",
       "      <td>case123_day0_slice_0001</td>\n",
       "      <td>large_bowel</td>\n",
       "      <td>[[0, 0, 0, 0, 0, 0, 0, 0, 0, 0, 0, 0, 0, 0, 0,...</td>\n",
       "    </tr>\n",
       "    <tr>\n",
       "      <th>1</th>\n",
       "      <td>case123_day0_slice_0001</td>\n",
       "      <td>small_bowel</td>\n",
       "      <td>[[0, 0, 0, 0, 0, 0, 0, 0, 0, 0, 0, 0, 0, 0, 0,...</td>\n",
       "    </tr>\n",
       "    <tr>\n",
       "      <th>2</th>\n",
       "      <td>case123_day0_slice_0001</td>\n",
       "      <td>stomach</td>\n",
       "      <td>[[0, 0, 0, 0, 0, 0, 0, 0, 0, 0, 0, 0, 0, 0, 0,...</td>\n",
       "    </tr>\n",
       "    <tr>\n",
       "      <th>3</th>\n",
       "      <td>case123_day0_slice_0002</td>\n",
       "      <td>large_bowel</td>\n",
       "      <td>[[0, 0, 0, 0, 0, 0, 0, 0, 0, 0, 0, 0, 0, 0, 0,...</td>\n",
       "    </tr>\n",
       "    <tr>\n",
       "      <th>4</th>\n",
       "      <td>case123_day0_slice_0002</td>\n",
       "      <td>small_bowel</td>\n",
       "      <td>[[0, 0, 0, 0, 0, 0, 0, 0, 0, 0, 0, 0, 0, 0, 0,...</td>\n",
       "    </tr>\n",
       "  </tbody>\n",
       "</table>\n",
       "</div>"
      ],
      "text/plain": [
       "                        id       class3  \\\n",
       "0  case123_day0_slice_0001  large_bowel   \n",
       "1  case123_day0_slice_0001  small_bowel   \n",
       "2  case123_day0_slice_0001      stomach   \n",
       "3  case123_day0_slice_0002  large_bowel   \n",
       "4  case123_day0_slice_0002  small_bowel   \n",
       "\n",
       "                                           predicted  \n",
       "0  [[0, 0, 0, 0, 0, 0, 0, 0, 0, 0, 0, 0, 0, 0, 0,...  \n",
       "1  [[0, 0, 0, 0, 0, 0, 0, 0, 0, 0, 0, 0, 0, 0, 0,...  \n",
       "2  [[0, 0, 0, 0, 0, 0, 0, 0, 0, 0, 0, 0, 0, 0, 0,...  \n",
       "3  [[0, 0, 0, 0, 0, 0, 0, 0, 0, 0, 0, 0, 0, 0, 0,...  \n",
       "4  [[0, 0, 0, 0, 0, 0, 0, 0, 0, 0, 0, 0, 0, 0, 0,...  "
      ]
     },
     "execution_count": 43,
     "metadata": {},
     "output_type": "execute_result"
    }
   ],
   "source": [
    "submit3.head()"
   ]
  },
  {
   "cell_type": "code",
   "execution_count": 44,
   "id": "c9b28dfc",
   "metadata": {
    "execution": {
     "iopub.execute_input": "2022-06-29T10:13:21.014438Z",
     "iopub.status.busy": "2022-06-29T10:13:20.979336Z",
     "iopub.status.idle": "2022-06-29T10:13:21.657697Z",
     "shell.execute_reply": "2022-06-29T10:13:21.656878Z",
     "shell.execute_reply.started": "2022-06-29T10:06:04.907546Z"
    },
    "papermill": {
     "duration": 0.793002,
     "end_time": "2022-06-29T10:13:21.657845",
     "exception": false,
     "start_time": "2022-06-29T10:13:20.864843",
     "status": "completed"
    },
    "tags": []
   },
   "outputs": [
    {
     "data": {
      "text/html": [
       "<div>\n",
       "<style scoped>\n",
       "    .dataframe tbody tr th:only-of-type {\n",
       "        vertical-align: middle;\n",
       "    }\n",
       "\n",
       "    .dataframe tbody tr th {\n",
       "        vertical-align: top;\n",
       "    }\n",
       "\n",
       "    .dataframe thead th {\n",
       "        text-align: right;\n",
       "    }\n",
       "</style>\n",
       "<table border=\"1\" class=\"dataframe\">\n",
       "  <thead>\n",
       "    <tr style=\"text-align: right;\">\n",
       "      <th></th>\n",
       "      <th>id</th>\n",
       "      <th>class4</th>\n",
       "      <th>predicted</th>\n",
       "    </tr>\n",
       "  </thead>\n",
       "  <tbody>\n",
       "    <tr>\n",
       "      <th>0</th>\n",
       "      <td>case123_day0_slice_0001</td>\n",
       "      <td>large_bowel</td>\n",
       "      <td>[[0, 0, 0, 0, 0, 0, 0, 0, 0, 0, 0, 0, 0, 0, 0,...</td>\n",
       "    </tr>\n",
       "    <tr>\n",
       "      <th>1</th>\n",
       "      <td>case123_day0_slice_0001</td>\n",
       "      <td>small_bowel</td>\n",
       "      <td>[[0, 0, 0, 0, 0, 0, 0, 0, 0, 0, 0, 0, 0, 0, 0,...</td>\n",
       "    </tr>\n",
       "    <tr>\n",
       "      <th>2</th>\n",
       "      <td>case123_day0_slice_0001</td>\n",
       "      <td>stomach</td>\n",
       "      <td>[[0, 0, 0, 0, 0, 0, 0, 0, 0, 0, 0, 0, 0, 0, 0,...</td>\n",
       "    </tr>\n",
       "    <tr>\n",
       "      <th>3</th>\n",
       "      <td>case123_day0_slice_0002</td>\n",
       "      <td>large_bowel</td>\n",
       "      <td>[[0, 0, 0, 0, 0, 0, 0, 0, 0, 0, 0, 0, 0, 0, 0,...</td>\n",
       "    </tr>\n",
       "    <tr>\n",
       "      <th>4</th>\n",
       "      <td>case123_day0_slice_0002</td>\n",
       "      <td>small_bowel</td>\n",
       "      <td>[[0, 0, 0, 0, 0, 0, 0, 0, 0, 0, 0, 0, 0, 0, 0,...</td>\n",
       "    </tr>\n",
       "  </tbody>\n",
       "</table>\n",
       "</div>"
      ],
      "text/plain": [
       "                        id       class4  \\\n",
       "0  case123_day0_slice_0001  large_bowel   \n",
       "1  case123_day0_slice_0001  small_bowel   \n",
       "2  case123_day0_slice_0001      stomach   \n",
       "3  case123_day0_slice_0002  large_bowel   \n",
       "4  case123_day0_slice_0002  small_bowel   \n",
       "\n",
       "                                           predicted  \n",
       "0  [[0, 0, 0, 0, 0, 0, 0, 0, 0, 0, 0, 0, 0, 0, 0,...  \n",
       "1  [[0, 0, 0, 0, 0, 0, 0, 0, 0, 0, 0, 0, 0, 0, 0,...  \n",
       "2  [[0, 0, 0, 0, 0, 0, 0, 0, 0, 0, 0, 0, 0, 0, 0,...  \n",
       "3  [[0, 0, 0, 0, 0, 0, 0, 0, 0, 0, 0, 0, 0, 0, 0,...  \n",
       "4  [[0, 0, 0, 0, 0, 0, 0, 0, 0, 0, 0, 0, 0, 0, 0,...  "
      ]
     },
     "execution_count": 44,
     "metadata": {},
     "output_type": "execute_result"
    }
   ],
   "source": [
    "submit4.head()"
   ]
  },
  {
   "cell_type": "code",
   "execution_count": 45,
   "id": "a884fce8",
   "metadata": {
    "execution": {
     "iopub.execute_input": "2022-06-29T10:13:21.872648Z",
     "iopub.status.busy": "2022-06-29T10:13:21.871624Z",
     "iopub.status.idle": "2022-06-29T10:13:21.874080Z",
     "shell.execute_reply": "2022-06-29T10:13:21.874623Z",
     "shell.execute_reply.started": "2022-06-29T10:06:05.502966Z"
    },
    "papermill": {
     "duration": 0.110064,
     "end_time": "2022-06-29T10:13:21.874782",
     "exception": false,
     "start_time": "2022-06-29T10:13:21.764718",
     "status": "completed"
    },
    "tags": []
   },
   "outputs": [],
   "source": [
    "#submit5.head()"
   ]
  },
  {
   "cell_type": "code",
   "execution_count": 46,
   "id": "d3d6c3fb",
   "metadata": {
    "execution": {
     "iopub.execute_input": "2022-06-29T10:13:22.096043Z",
     "iopub.status.busy": "2022-06-29T10:13:22.093945Z",
     "iopub.status.idle": "2022-06-29T10:13:22.096801Z",
     "shell.execute_reply": "2022-06-29T10:13:22.097382Z",
     "shell.execute_reply.started": "2022-06-29T10:06:06.838966Z"
    },
    "papermill": {
     "duration": 0.116489,
     "end_time": "2022-06-29T10:13:22.097555",
     "exception": false,
     "start_time": "2022-06-29T10:13:21.981066",
     "status": "completed"
    },
    "tags": []
   },
   "outputs": [],
   "source": [
    "from scipy import stats"
   ]
  },
  {
   "cell_type": "code",
   "execution_count": 47,
   "id": "8b7934c0",
   "metadata": {
    "execution": {
     "iopub.execute_input": "2022-06-29T10:13:22.361230Z",
     "iopub.status.busy": "2022-06-29T10:13:22.359786Z",
     "iopub.status.idle": "2022-06-29T10:13:35.099593Z",
     "shell.execute_reply": "2022-06-29T10:13:35.098589Z",
     "shell.execute_reply.started": "2022-06-29T10:06:46.043658Z"
    },
    "papermill": {
     "duration": 12.896469,
     "end_time": "2022-06-29T10:13:35.099785",
     "exception": false,
     "start_time": "2022-06-29T10:13:22.203316",
     "status": "completed"
    },
    "tags": []
   },
   "outputs": [],
   "source": [
    "submits = []\n",
    "for i in range(len(submit2)):\n",
    "    final_submit = (\n",
    "    submit2.iloc[i, :].predicted +\n",
    "    submit3.iloc[i, :].predicted +\n",
    "    submit4.iloc[i, :].predicted )/ 3.0\n",
    "     \n",
    "    new_sub = (final_submit >= 0.2).astype('uint8')\n",
    "    classes = [submit2.iloc[i, :][\"class2\"], submit3.iloc[i, :][\"class3\"],\n",
    "               submit4.iloc[i, :][\"class4\"]]\n",
    "    new_class = stats.mode(np.array(classes))[0][0]\n",
    "    \n",
    "    submits.append({ \"id\": submit2.iloc[i,:].id, \"class\": new_class, \"predicted\": rle_encode(new_sub) })"
   ]
  },
  {
   "cell_type": "code",
   "execution_count": 48,
   "id": "f5e4e4a1",
   "metadata": {
    "execution": {
     "iopub.execute_input": "2022-06-29T10:13:35.327639Z",
     "iopub.status.busy": "2022-06-29T10:13:35.326529Z",
     "iopub.status.idle": "2022-06-29T10:13:35.330722Z",
     "shell.execute_reply": "2022-06-29T10:13:35.331243Z",
     "shell.execute_reply.started": "2022-06-29T10:07:01.213036Z"
    },
    "papermill": {
     "duration": 0.126005,
     "end_time": "2022-06-29T10:13:35.331404",
     "exception": false,
     "start_time": "2022-06-29T10:13:35.205399",
     "status": "completed"
    },
    "tags": []
   },
   "outputs": [
    {
     "data": {
      "text/html": [
       "<div>\n",
       "<style scoped>\n",
       "    .dataframe tbody tr th:only-of-type {\n",
       "        vertical-align: middle;\n",
       "    }\n",
       "\n",
       "    .dataframe tbody tr th {\n",
       "        vertical-align: top;\n",
       "    }\n",
       "\n",
       "    .dataframe thead th {\n",
       "        text-align: right;\n",
       "    }\n",
       "</style>\n",
       "<table border=\"1\" class=\"dataframe\">\n",
       "  <thead>\n",
       "    <tr style=\"text-align: right;\">\n",
       "      <th></th>\n",
       "      <th>id</th>\n",
       "      <th>class</th>\n",
       "      <th>predicted</th>\n",
       "    </tr>\n",
       "  </thead>\n",
       "  <tbody>\n",
       "    <tr>\n",
       "      <th>0</th>\n",
       "      <td>case123_day0_slice_0001</td>\n",
       "      <td>large_bowel</td>\n",
       "      <td></td>\n",
       "    </tr>\n",
       "    <tr>\n",
       "      <th>1</th>\n",
       "      <td>case123_day0_slice_0001</td>\n",
       "      <td>small_bowel</td>\n",
       "      <td></td>\n",
       "    </tr>\n",
       "    <tr>\n",
       "      <th>2</th>\n",
       "      <td>case123_day0_slice_0001</td>\n",
       "      <td>stomach</td>\n",
       "      <td></td>\n",
       "    </tr>\n",
       "    <tr>\n",
       "      <th>3</th>\n",
       "      <td>case123_day0_slice_0002</td>\n",
       "      <td>large_bowel</td>\n",
       "      <td></td>\n",
       "    </tr>\n",
       "    <tr>\n",
       "      <th>4</th>\n",
       "      <td>case123_day0_slice_0002</td>\n",
       "      <td>small_bowel</td>\n",
       "      <td></td>\n",
       "    </tr>\n",
       "    <tr>\n",
       "      <th>...</th>\n",
       "      <td>...</td>\n",
       "      <td>...</td>\n",
       "      <td>...</td>\n",
       "    </tr>\n",
       "    <tr>\n",
       "      <th>2995</th>\n",
       "      <td>case77_day20_slice_0143</td>\n",
       "      <td>small_bowel</td>\n",
       "      <td></td>\n",
       "    </tr>\n",
       "    <tr>\n",
       "      <th>2996</th>\n",
       "      <td>case77_day20_slice_0143</td>\n",
       "      <td>stomach</td>\n",
       "      <td></td>\n",
       "    </tr>\n",
       "    <tr>\n",
       "      <th>2997</th>\n",
       "      <td>case77_day20_slice_0144</td>\n",
       "      <td>large_bowel</td>\n",
       "      <td></td>\n",
       "    </tr>\n",
       "    <tr>\n",
       "      <th>2998</th>\n",
       "      <td>case77_day20_slice_0144</td>\n",
       "      <td>small_bowel</td>\n",
       "      <td></td>\n",
       "    </tr>\n",
       "    <tr>\n",
       "      <th>2999</th>\n",
       "      <td>case77_day20_slice_0144</td>\n",
       "      <td>stomach</td>\n",
       "      <td></td>\n",
       "    </tr>\n",
       "  </tbody>\n",
       "</table>\n",
       "<p>3000 rows × 3 columns</p>\n",
       "</div>"
      ],
      "text/plain": [
       "                           id        class predicted\n",
       "0     case123_day0_slice_0001  large_bowel          \n",
       "1     case123_day0_slice_0001  small_bowel          \n",
       "2     case123_day0_slice_0001      stomach          \n",
       "3     case123_day0_slice_0002  large_bowel          \n",
       "4     case123_day0_slice_0002  small_bowel          \n",
       "...                       ...          ...       ...\n",
       "2995  case77_day20_slice_0143  small_bowel          \n",
       "2996  case77_day20_slice_0143      stomach          \n",
       "2997  case77_day20_slice_0144  large_bowel          \n",
       "2998  case77_day20_slice_0144  small_bowel          \n",
       "2999  case77_day20_slice_0144      stomach          \n",
       "\n",
       "[3000 rows x 3 columns]"
      ]
     },
     "execution_count": 48,
     "metadata": {},
     "output_type": "execute_result"
    }
   ],
   "source": [
    "submit_df = pd.DataFrame(submits)\n",
    "submit_df"
   ]
  },
  {
   "cell_type": "code",
   "execution_count": null,
   "id": "5b483658",
   "metadata": {
    "papermill": {
     "duration": 0.104401,
     "end_time": "2022-06-29T10:13:35.540915",
     "exception": false,
     "start_time": "2022-06-29T10:13:35.436514",
     "status": "completed"
    },
    "tags": []
   },
   "outputs": [],
   "source": []
  },
  {
   "cell_type": "code",
   "execution_count": null,
   "id": "9cbdbddd",
   "metadata": {
    "papermill": {
     "duration": 0.105245,
     "end_time": "2022-06-29T10:13:35.751916",
     "exception": false,
     "start_time": "2022-06-29T10:13:35.646671",
     "status": "completed"
    },
    "tags": []
   },
   "outputs": [],
   "source": []
  },
  {
   "cell_type": "code",
   "execution_count": 49,
   "id": "f73b1b1f",
   "metadata": {
    "execution": {
     "iopub.execute_input": "2022-06-29T10:13:35.964125Z",
     "iopub.status.busy": "2022-06-29T10:13:35.962947Z",
     "iopub.status.idle": "2022-06-29T10:13:35.966240Z",
     "shell.execute_reply": "2022-06-29T10:13:35.965610Z",
     "shell.execute_reply.started": "2022-06-29T09:53:52.619164Z"
    },
    "papermill": {
     "duration": 0.111115,
     "end_time": "2022-06-29T10:13:35.966373",
     "exception": false,
     "start_time": "2022-06-29T10:13:35.855258",
     "status": "completed"
    },
    "tags": []
   },
   "outputs": [],
   "source": [
    "#set(final_submit.flatten())"
   ]
  },
  {
   "cell_type": "code",
   "execution_count": 50,
   "id": "3eb9e3e6",
   "metadata": {
    "execution": {
     "iopub.execute_input": "2022-06-29T10:13:36.182854Z",
     "iopub.status.busy": "2022-06-29T10:13:36.181812Z",
     "iopub.status.idle": "2022-06-29T10:13:36.185216Z",
     "shell.execute_reply": "2022-06-29T10:13:36.184615Z",
     "shell.execute_reply.started": "2022-06-29T09:53:52.620944Z"
    },
    "papermill": {
     "duration": 0.112869,
     "end_time": "2022-06-29T10:13:36.185372",
     "exception": false,
     "start_time": "2022-06-29T10:13:36.072503",
     "status": "completed"
    },
    "tags": []
   },
   "outputs": [],
   "source": [
    "#submit=pd.concat([submit1,submit2[\"class2\"],submit3[\"class3\"],submit4[\"class4\"],submit5[\"class5\"]],axis=1)"
   ]
  },
  {
   "cell_type": "code",
   "execution_count": 51,
   "id": "0eed458c",
   "metadata": {
    "execution": {
     "iopub.execute_input": "2022-06-29T10:13:36.401824Z",
     "iopub.status.busy": "2022-06-29T10:13:36.400824Z",
     "iopub.status.idle": "2022-06-29T10:13:36.404344Z",
     "shell.execute_reply": "2022-06-29T10:13:36.403700Z",
     "shell.execute_reply.started": "2022-06-29T09:53:52.622795Z"
    },
    "papermill": {
     "duration": 0.114145,
     "end_time": "2022-06-29T10:13:36.404478",
     "exception": false,
     "start_time": "2022-06-29T10:13:36.290333",
     "status": "completed"
    },
    "tags": []
   },
   "outputs": [],
   "source": [
    "#submit"
   ]
  },
  {
   "cell_type": "code",
   "execution_count": 52,
   "id": "6c4beca5",
   "metadata": {
    "execution": {
     "iopub.execute_input": "2022-06-29T10:13:36.623827Z",
     "iopub.status.busy": "2022-06-29T10:13:36.622842Z",
     "iopub.status.idle": "2022-06-29T10:13:36.626383Z",
     "shell.execute_reply": "2022-06-29T10:13:36.627005Z",
     "shell.execute_reply.started": "2022-06-29T09:53:52.624629Z"
    },
    "papermill": {
     "duration": 0.117676,
     "end_time": "2022-06-29T10:13:36.627205",
     "exception": false,
     "start_time": "2022-06-29T10:13:36.509529",
     "status": "completed"
    },
    "tags": []
   },
   "outputs": [
    {
     "data": {
      "text/plain": [
       "'from sklearn.preprocessing import LabelEncoder\\nle=LabelEncoder()\\nsubmit[\"class1\"]=le.fit_transform(submit[\"class1\"])\\nsubmit[\"class2\"]=le.fit_transform(submit[\"class2\"])\\nsubmit[\"class3\"]=le.fit_transform(submit[\"class3\"])\\nsubmit[\"class4\"]=le.fit_transform(submit[\"class4\"])\\nsubmit[\"class5\"]=le.fit_transform(submit[\"class5\"])'"
      ]
     },
     "execution_count": 52,
     "metadata": {},
     "output_type": "execute_result"
    }
   ],
   "source": [
    "\"\"\"from sklearn.preprocessing import LabelEncoder\n",
    "le=LabelEncoder()\n",
    "submit[\"class1\"]=le.fit_transform(submit[\"class1\"])\n",
    "submit[\"class2\"]=le.fit_transform(submit[\"class2\"])\n",
    "submit[\"class3\"]=le.fit_transform(submit[\"class3\"])\n",
    "submit[\"class4\"]=le.fit_transform(submit[\"class4\"])\n",
    "submit[\"class5\"]=le.fit_transform(submit[\"class5\"])\"\"\""
   ]
  },
  {
   "cell_type": "code",
   "execution_count": 53,
   "id": "cf64b1d7",
   "metadata": {
    "execution": {
     "iopub.execute_input": "2022-06-29T10:13:36.846210Z",
     "iopub.status.busy": "2022-06-29T10:13:36.845085Z",
     "iopub.status.idle": "2022-06-29T10:13:36.848418Z",
     "shell.execute_reply": "2022-06-29T10:13:36.847813Z",
     "shell.execute_reply.started": "2022-06-29T09:53:52.626423Z"
    },
    "papermill": {
     "duration": 0.113249,
     "end_time": "2022-06-29T10:13:36.848564",
     "exception": false,
     "start_time": "2022-06-29T10:13:36.735315",
     "status": "completed"
    },
    "tags": []
   },
   "outputs": [],
   "source": [
    "#submit"
   ]
  },
  {
   "cell_type": "code",
   "execution_count": 54,
   "id": "c62d6951",
   "metadata": {
    "execution": {
     "iopub.execute_input": "2022-06-29T10:13:37.067439Z",
     "iopub.status.busy": "2022-06-29T10:13:37.066331Z",
     "iopub.status.idle": "2022-06-29T10:13:37.069423Z",
     "shell.execute_reply": "2022-06-29T10:13:37.068682Z",
     "shell.execute_reply.started": "2022-06-29T09:53:52.628204Z"
    },
    "papermill": {
     "duration": 0.115028,
     "end_time": "2022-06-29T10:13:37.069559",
     "exception": false,
     "start_time": "2022-06-29T10:13:36.954531",
     "status": "completed"
    },
    "tags": []
   },
   "outputs": [],
   "source": [
    "#from scipy import stats"
   ]
  },
  {
   "cell_type": "code",
   "execution_count": 55,
   "id": "eddebd52",
   "metadata": {
    "execution": {
     "iopub.execute_input": "2022-06-29T10:13:37.289553Z",
     "iopub.status.busy": "2022-06-29T10:13:37.288529Z",
     "iopub.status.idle": "2022-06-29T10:13:37.291899Z",
     "shell.execute_reply": "2022-06-29T10:13:37.291371Z",
     "shell.execute_reply.started": "2022-06-29T09:53:52.629998Z"
    },
    "papermill": {
     "duration": 0.115735,
     "end_time": "2022-06-29T10:13:37.292084",
     "exception": false,
     "start_time": "2022-06-29T10:13:37.176349",
     "status": "completed"
    },
    "tags": []
   },
   "outputs": [],
   "source": [
    "#submit.apply(lambda x: stats.mode(np.array([x.class1, x.class2, x.class3, x.class4, x.class5]))[0][0], axis=1)"
   ]
  },
  {
   "cell_type": "code",
   "execution_count": 56,
   "id": "af80bb15",
   "metadata": {
    "execution": {
     "iopub.execute_input": "2022-06-29T10:13:37.509302Z",
     "iopub.status.busy": "2022-06-29T10:13:37.508398Z",
     "iopub.status.idle": "2022-06-29T10:13:37.511297Z",
     "shell.execute_reply": "2022-06-29T10:13:37.511893Z",
     "shell.execute_reply.started": "2022-06-29T09:53:52.631793Z"
    },
    "papermill": {
     "duration": 0.114004,
     "end_time": "2022-06-29T10:13:37.512067",
     "exception": false,
     "start_time": "2022-06-29T10:13:37.398063",
     "status": "completed"
    },
    "tags": []
   },
   "outputs": [],
   "source": [
    "#X=submit"
   ]
  },
  {
   "cell_type": "code",
   "execution_count": null,
   "id": "7c03ae48",
   "metadata": {
    "papermill": {
     "duration": 0.106337,
     "end_time": "2022-06-29T10:13:37.726714",
     "exception": false,
     "start_time": "2022-06-29T10:13:37.620377",
     "status": "completed"
    },
    "tags": []
   },
   "outputs": [],
   "source": []
  },
  {
   "cell_type": "code",
   "execution_count": 57,
   "id": "fc2682ac",
   "metadata": {
    "execution": {
     "iopub.execute_input": "2022-06-29T10:13:37.942595Z",
     "iopub.status.busy": "2022-06-29T10:13:37.940334Z",
     "iopub.status.idle": "2022-06-29T10:13:37.943349Z",
     "shell.execute_reply": "2022-06-29T10:13:37.943887Z",
     "shell.execute_reply.started": "2022-06-29T09:53:52.633674Z"
    },
    "papermill": {
     "duration": 0.112938,
     "end_time": "2022-06-29T10:13:37.944062",
     "exception": false,
     "start_time": "2022-06-29T10:13:37.831124",
     "status": "completed"
    },
    "tags": []
   },
   "outputs": [],
   "source": [
    "#y=submit[\"class5\"]"
   ]
  },
  {
   "cell_type": "code",
   "execution_count": null,
   "id": "0e3b0aaa",
   "metadata": {
    "papermill": {
     "duration": 0.106595,
     "end_time": "2022-06-29T10:13:38.156377",
     "exception": false,
     "start_time": "2022-06-29T10:13:38.049782",
     "status": "completed"
    },
    "tags": []
   },
   "outputs": [],
   "source": []
  },
  {
   "cell_type": "code",
   "execution_count": null,
   "id": "72746d2f",
   "metadata": {
    "papermill": {
     "duration": 0.127882,
     "end_time": "2022-06-29T10:13:38.388706",
     "exception": false,
     "start_time": "2022-06-29T10:13:38.260824",
     "status": "completed"
    },
    "tags": []
   },
   "outputs": [],
   "source": [
    "\n"
   ]
  },
  {
   "cell_type": "code",
   "execution_count": 58,
   "id": "1f637bbe",
   "metadata": {
    "execution": {
     "iopub.execute_input": "2022-06-29T10:13:38.604351Z",
     "iopub.status.busy": "2022-06-29T10:13:38.602961Z",
     "iopub.status.idle": "2022-06-29T10:13:38.605695Z",
     "shell.execute_reply": "2022-06-29T10:13:38.606296Z",
     "shell.execute_reply.started": "2022-06-29T09:53:52.635448Z"
    },
    "papermill": {
     "duration": 0.112615,
     "end_time": "2022-06-29T10:13:38.606466",
     "exception": false,
     "start_time": "2022-06-29T10:13:38.493851",
     "status": "completed"
    },
    "tags": []
   },
   "outputs": [],
   "source": [
    "#from lightgbm import LGBMClassifier as lgb"
   ]
  },
  {
   "cell_type": "code",
   "execution_count": 59,
   "id": "f111627c",
   "metadata": {
    "execution": {
     "iopub.execute_input": "2022-06-29T10:13:38.822636Z",
     "iopub.status.busy": "2022-06-29T10:13:38.821618Z",
     "iopub.status.idle": "2022-06-29T10:13:38.826545Z",
     "shell.execute_reply": "2022-06-29T10:13:38.825978Z",
     "shell.execute_reply.started": "2022-06-29T09:53:52.637237Z"
    },
    "papermill": {
     "duration": 0.115476,
     "end_time": "2022-06-29T10:13:38.826689",
     "exception": false,
     "start_time": "2022-06-29T10:13:38.711213",
     "status": "completed"
    },
    "tags": []
   },
   "outputs": [],
   "source": [
    "##X=X.drop([\"class5\",\"id\",\"predicted\"],axis=1)"
   ]
  },
  {
   "cell_type": "code",
   "execution_count": 60,
   "id": "6956794d",
   "metadata": {
    "execution": {
     "iopub.execute_input": "2022-06-29T10:13:39.043365Z",
     "iopub.status.busy": "2022-06-29T10:13:39.042411Z",
     "iopub.status.idle": "2022-06-29T10:13:39.046369Z",
     "shell.execute_reply": "2022-06-29T10:13:39.046933Z",
     "shell.execute_reply.started": "2022-06-29T09:53:52.639043Z"
    },
    "papermill": {
     "duration": 0.115011,
     "end_time": "2022-06-29T10:13:39.047137",
     "exception": false,
     "start_time": "2022-06-29T10:13:38.932126",
     "status": "completed"
    },
    "tags": []
   },
   "outputs": [
    {
     "data": {
      "text/plain": [
       "'from sklearn.model_selection import train_test_split\\ntest_size_pct = 0.20\\nX_train, X_valid, y_train, y_valid = train_test_split(X,y, test_size = test_size_pct, random_state = 42)'"
      ]
     },
     "execution_count": 60,
     "metadata": {},
     "output_type": "execute_result"
    }
   ],
   "source": [
    "\"\"\"from sklearn.model_selection import train_test_split\n",
    "test_size_pct = 0.20\n",
    "X_train, X_valid, y_train, y_valid = train_test_split(X,y, test_size = test_size_pct, random_state = 42)\"\"\""
   ]
  },
  {
   "cell_type": "code",
   "execution_count": 61,
   "id": "a3dd98e3",
   "metadata": {
    "execution": {
     "iopub.execute_input": "2022-06-29T10:13:39.267754Z",
     "iopub.status.busy": "2022-06-29T10:13:39.266630Z",
     "iopub.status.idle": "2022-06-29T10:13:39.269318Z",
     "shell.execute_reply": "2022-06-29T10:13:39.269871Z",
     "shell.execute_reply.started": "2022-06-29T09:53:52.640847Z"
    },
    "papermill": {
     "duration": 0.115937,
     "end_time": "2022-06-29T10:13:39.270038",
     "exception": false,
     "start_time": "2022-06-29T10:13:39.154101",
     "status": "completed"
    },
    "tags": []
   },
   "outputs": [],
   "source": [
    "#y_train"
   ]
  },
  {
   "cell_type": "code",
   "execution_count": 62,
   "id": "c02894f4",
   "metadata": {
    "execution": {
     "iopub.execute_input": "2022-06-29T10:13:39.486331Z",
     "iopub.status.busy": "2022-06-29T10:13:39.485454Z",
     "iopub.status.idle": "2022-06-29T10:13:39.488366Z",
     "shell.execute_reply": "2022-06-29T10:13:39.488884Z",
     "shell.execute_reply.started": "2022-06-29T09:53:52.642671Z"
    },
    "papermill": {
     "duration": 0.112179,
     "end_time": "2022-06-29T10:13:39.489056",
     "exception": false,
     "start_time": "2022-06-29T10:13:39.376877",
     "status": "completed"
    },
    "tags": []
   },
   "outputs": [],
   "source": [
    "#model=lgb()"
   ]
  },
  {
   "cell_type": "code",
   "execution_count": 63,
   "id": "0c2c86d7",
   "metadata": {
    "execution": {
     "iopub.execute_input": "2022-06-29T10:13:39.707403Z",
     "iopub.status.busy": "2022-06-29T10:13:39.706295Z",
     "iopub.status.idle": "2022-06-29T10:13:39.711142Z",
     "shell.execute_reply": "2022-06-29T10:13:39.710588Z",
     "shell.execute_reply.started": "2022-06-29T09:53:52.644518Z"
    },
    "papermill": {
     "duration": 0.11521,
     "end_time": "2022-06-29T10:13:39.711308",
     "exception": false,
     "start_time": "2022-06-29T10:13:39.596098",
     "status": "completed"
    },
    "tags": []
   },
   "outputs": [],
   "source": [
    "#model.fit(X,y)"
   ]
  },
  {
   "cell_type": "code",
   "execution_count": 64,
   "id": "a9dea84f",
   "metadata": {
    "execution": {
     "iopub.execute_input": "2022-06-29T10:13:39.934806Z",
     "iopub.status.busy": "2022-06-29T10:13:39.933979Z",
     "iopub.status.idle": "2022-06-29T10:13:39.972210Z",
     "shell.execute_reply": "2022-06-29T10:13:39.971655Z",
     "shell.execute_reply.started": "2022-06-29T09:53:52.6463Z"
    },
    "papermill": {
     "duration": 0.15286,
     "end_time": "2022-06-29T10:13:39.972357",
     "exception": false,
     "start_time": "2022-06-29T10:13:39.819497",
     "status": "completed"
    },
    "tags": []
   },
   "outputs": [],
   "source": [
    "# Fix sub error, refers to: https://www.kaggle.com/competitions/uw-madison-gi-tract-image-segmentation/discussion/320541\n",
    "if not debug:\n",
    "    sub_df = pd.read_csv('../input/uw-madison-gi-tract-image-segmentation/sample_submission.csv')\n",
    "    del sub_df['predicted']\n",
    "    sub_df = sub_df.merge(submit_df, on=['id','class'])\n",
    "    sub_df.to_csv('submission.csv',index=False)\n",
    "else:\n",
    "    submit_df.to_csv('submission.csv', index=False)"
   ]
  },
  {
   "cell_type": "code",
   "execution_count": null,
   "id": "fa3b0fb8",
   "metadata": {
    "papermill": {
     "duration": 0.104534,
     "end_time": "2022-06-29T10:13:40.183590",
     "exception": false,
     "start_time": "2022-06-29T10:13:40.079056",
     "status": "completed"
    },
    "tags": []
   },
   "outputs": [],
   "source": []
  },
  {
   "cell_type": "code",
   "execution_count": null,
   "id": "8c1941df",
   "metadata": {
    "papermill": {
     "duration": 0.107309,
     "end_time": "2022-06-29T10:13:40.400852",
     "exception": false,
     "start_time": "2022-06-29T10:13:40.293543",
     "status": "completed"
    },
    "tags": []
   },
   "outputs": [],
   "source": []
  },
  {
   "cell_type": "code",
   "execution_count": null,
   "id": "2eb7a628",
   "metadata": {
    "papermill": {
     "duration": 0.106222,
     "end_time": "2022-06-29T10:13:40.614492",
     "exception": false,
     "start_time": "2022-06-29T10:13:40.508270",
     "status": "completed"
    },
    "tags": []
   },
   "outputs": [],
   "source": []
  }
 ],
 "metadata": {
  "kernelspec": {
   "display_name": "Python 3",
   "language": "python",
   "name": "python3"
  },
  "language_info": {
   "codemirror_mode": {
    "name": "ipython",
    "version": 3
   },
   "file_extension": ".py",
   "mimetype": "text/x-python",
   "name": "python",
   "nbconvert_exporter": "python",
   "pygments_lexer": "ipython3",
   "version": "3.7.12"
  },
  "papermill": {
   "default_parameters": {},
   "duration": 273.035333,
   "end_time": "2022-06-29T10:13:43.782656",
   "environment_variables": {},
   "exception": null,
   "input_path": "__notebook__.ipynb",
   "output_path": "__notebook__.ipynb",
   "parameters": {},
   "start_time": "2022-06-29T10:09:10.747323",
   "version": "2.3.3"
  }
 },
 "nbformat": 4,
 "nbformat_minor": 5
}
